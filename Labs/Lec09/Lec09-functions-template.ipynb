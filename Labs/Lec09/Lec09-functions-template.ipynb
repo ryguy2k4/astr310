{
 "cells": [
  {
   "cell_type": "markdown",
   "metadata": {
    "id": "ALoCi5n9DCRM"
   },
   "source": [
    "# ASTR 310 Lecture 09: functions\n",
    "\n",
    "### 1. Euclid’s Algorithm\n",
    "\n",
    "Euclid’s algorithm finds the greatest common divisor (gcd) of two integers $a$ and $b$. The procedure is as follows: beginning with $r_{-1}$ = $a$ and $r_0$ = $b$, choose successive values\n",
    "\n",
    "$r_{k+1}$ = $r_{k-1}$ mod $r_k$; $k$ = 0,...\n",
    "\n",
    "until for some $k$ = $N$ you find $r_N$ = $0$. The gcd of $a$ and $b$ is then $r_{N-1}$.\n",
    "\n",
    "Write a Python function to compute the gcd of two numbers. Ensure that you begin the iteration with integers (i.e. by casting floats to integer).\n",
    "\n",
    "Test your function on the pairs:\n",
    "\n",
    "- `gcd(35, 42)` = 7\n",
    "- `gcd(1071, 462)` = 21\n",
    "- `gcd(2232, 5952)` = 744\n",
    "- `gcd(6831, 15384)` = 3\n",
    "\n",
    "[10 pts total]\n",
    "\n"
   ]
  },
  {
   "cell_type": "code",
   "execution_count": 33,
   "metadata": {
    "id": "I-qqBxlLBJ_m"
   },
   "outputs": [],
   "source": [
    "def gcd(a: int, b: int):\n",
    "    r_p = a\n",
    "    r = b\n",
    "\n",
    "    while(r != 0):\n",
    "        temp = r\n",
    "        r = r_p % r\n",
    "        r_p = temp\n",
    "        \n",
    "    return r_p"
   ]
  },
  {
   "cell_type": "code",
   "execution_count": 34,
   "metadata": {},
   "outputs": [
    {
     "name": "stdout",
     "output_type": "stream",
     "text": [
      "7\n",
      "21\n",
      "744\n",
      "3\n"
     ]
    }
   ],
   "source": [
    "print(gcd(35, 42))\n",
    "print(gcd(1071, 462))\n",
    "print(gcd(2232, 5952))\n",
    "print(gcd(6831, 15384))"
   ]
  },
  {
   "cell_type": "markdown",
   "metadata": {
    "id": "AqCfR9WSEAcT"
   },
   "source": [
    "### 2. Optional Arguments and Multiple Return Values\n",
    "\n",
    "Write a Python function that will take a list of numbers and return various statistics. The function should take one required argument (the list of numbers) and one optional argument (a tuple or list of strings naming the statistics to compute). The default value for the optional argument should be `(\"mean\",)`. The allowed strings are as follows.\n",
    "\n",
    "- `\"mean\"` return the mean value of the list\n",
    "- `\"sum\"` return the sum of the list values\n",
    "- `\"rms\"` return the root-mean-square\n",
    "- `\"max\"` return the maximum\n",
    "- `\"min\"` return the minimum\n",
    "\n",
    "If the list has $N$ elements $L_i$, the mean is $\\frac{1}{N} \\sum_{i=0}^{N-1} L_i$\n",
    "and the rms is $\\sqrt{\\frac{1}{N} \\sum_{i=0}^{N-1} L_i^2}$.\n",
    "\n",
    "The return value should be a tuple containing the requested statistics in the same order as they appear in the request tuple.\n",
    "\n",
    "Test your function on the list:\n",
    "`[-34.2, 17.1, 3.8, 1.4, 22.6, 19.4, 15.9]`\n",
    "with different combinations of requested statistics (or no request).\n",
    "\n",
    "Numpy arrays are still illegal!  Check Reading 7 for operations on lists.  Avoid overriding the builtins (e.g. don't create a new variable called \"sum\").\n",
    "\n",
    "[10 pts total]"
   ]
  },
  {
   "cell_type": "code",
   "execution_count": 37,
   "metadata": {
    "id": "r-a9C0XyEg77"
   },
   "outputs": [],
   "source": [
    "from math import *\n",
    "def stats(l: list, stats: tuple = (\"mean\",)):\n",
    "    l_dict = dict()\n",
    "    for stat in stats:\n",
    "        if stat == \"mean\":\n",
    "            l_dict[\"mean\"] = sum(l) / len(l)\n",
    "        elif stat == \"sum\":\n",
    "            l_dict[\"sum\"] = sum(l)\n",
    "        elif stat == \"rms\":\n",
    "            l_dict[\"rms\"] = sqrt(sum([i**2 for i in l]) / len(l))\n",
    "        elif stat == \"max\":\n",
    "            l_dict[\"max\"] = max(l)\n",
    "        elif stat == \"min\":\n",
    "            l_dict[\"min\"] = min(l)\n",
    "    \n",
    "    return tuple(l_dict.values()) "
   ]
  },
  {
   "cell_type": "code",
   "execution_count": 38,
   "metadata": {
    "id": "1uWZ5H7IEr0N"
   },
   "outputs": [
    {
     "name": "stdout",
     "output_type": "stream",
     "text": [
      "(6.571428571428571,)\n",
      "(-34.2, 46.0)\n",
      "(-34.2, 46.0, 6.571428571428571, 19.340483078617392)\n",
      "(6.571428571428571, 46.0, 22.6)\n",
      "(19.340483078617392, -34.2, 22.6, 6.571428571428571, 46.0)\n"
     ]
    }
   ],
   "source": [
    "print(stats([-34.2, 17.1, 3.8, 1.4, 22.6, 19.4, 15.9]))\n",
    "print(stats([-34.2, 17.1, 3.8, 1.4, 22.6, 19.4, 15.9], stats = (\"min\", \"sum\")))\n",
    "print(stats([-34.2, 17.1, 3.8, 1.4, 22.6, 19.4, 15.9], stats = (\"min\", \"sum\", \"mean\", \"rms\")))\n",
    "print(stats([-34.2, 17.1, 3.8, 1.4, 22.6, 19.4, 15.9], stats = (\"mean\", \"sum\", \"max\")))\n",
    "print(stats([-34.2, 17.1, 3.8, 1.4, 22.6, 19.4, 15.9], stats = (\"rms\", \"min\", \"max\", \"mean\", \"sum\")))"
   ]
  }
 ],
 "metadata": {
  "colab": {
   "provenance": []
  },
  "kernelspec": {
   "display_name": "Python 3 (ipykernel)",
   "language": "python",
   "name": "python3"
  },
  "language_info": {
   "codemirror_mode": {
    "name": "ipython",
    "version": 3
   },
   "file_extension": ".py",
   "mimetype": "text/x-python",
   "name": "python",
   "nbconvert_exporter": "python",
   "pygments_lexer": "ipython3",
   "version": "3.12.4"
  }
 },
 "nbformat": 4,
 "nbformat_minor": 4
}
