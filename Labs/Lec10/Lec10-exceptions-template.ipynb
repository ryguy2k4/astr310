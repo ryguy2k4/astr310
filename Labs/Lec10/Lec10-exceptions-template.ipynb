{
 "cells": [
  {
   "cell_type": "markdown",
   "metadata": {
    "id": "07IMU6Q-X_Sp"
   },
   "source": [
    "# ASTR 310 Lecture 10 - Exceptions\n",
    "\n",
    "### Exercise 1: Robust type conversion\n",
    "Write a Python function convert_type(s) that takes a string s and\n",
    "converts it to a float if it is a number with a decimal point, converts it to\n",
    "an int if it is an integer, or leaves it as a string otherwise, and returns\n",
    "the result. If the input is not a string or anything fails, return None. You will want to use\n",
    "exceptions to prevent the code from aborting. Test your function with\n",
    "the following inputs.  [6 pts]  \n",
    "\n",
    "```\n",
    "'-3.4e12'  \n",
    "'89.1'  \n",
    "'.9623'  \n",
    "'42'  \n",
    "'hello there'  \n",
    "6  \n",
    "['6', 'hello']\n",
    "'12.3.5'\n",
    "```\n",
    "\n"
   ]
  },
  {
   "cell_type": "code",
   "execution_count": 28,
   "metadata": {
    "id": "9uNEMqfMX-Tr"
   },
   "outputs": [],
   "source": [
    "def convert_types(s):\n",
    "    try:\n",
    "        return int(s)\n",
    "    except:\n",
    "        pass\n",
    "    try:\n",
    "        return float(s)\n",
    "    except:\n",
    "        if type(s) is str:\n",
    "            return s\n",
    "        else:\n",
    "            return None"
   ]
  },
  {
   "cell_type": "code",
   "execution_count": 29,
   "metadata": {},
   "outputs": [
    {
     "name": "stdout",
     "output_type": "stream",
     "text": [
      "-3300000000000.0\n",
      "89.1\n",
      "0.9623\n",
      "-42\n",
      "hello there\n",
      "6\n",
      "None\n",
      "12.3.5\n"
     ]
    }
   ],
   "source": [
    "print(convert_types('-3.3e12'))\n",
    "print(convert_types('89.1'))\n",
    "print(convert_types('.9623'))\n",
    "print(convert_types('-42'))\n",
    "print(convert_types('hello there'))\n",
    "print(convert_types('6'))\n",
    "print(convert_types(['6', 'hello']))\n",
    "print(convert_types('12.3.5'))"
   ]
  },
  {
   "cell_type": "markdown",
   "metadata": {
    "id": "JdVkqHm6Yfjv"
   },
   "source": [
    "### Exercise 2: validating user input\n",
    "Write Python code that repeatedly prompts the user for two\n",
    "numbers and prints their ratio, halting when the user types\n",
    "anything other than two numbers. If the second number is zero,\n",
    "politely remind the user that you cannot divide by zero, but\n",
    "continue to accept input. Use exception handling.\n",
    "\n",
    "Demonstrate your code's error handling capability by testing the failure modes.\n",
    "[7 pts]"
   ]
  },
  {
   "cell_type": "code",
   "execution_count": 2,
   "metadata": {
    "id": "xDoe2MkLYnWt"
   },
   "outputs": [
    {
     "name": "stdout",
     "output_type": "stream",
     "text": [
      "Ratio: 5.0\n",
      "Ratio: 9.0\n",
      "Ratio: 7.6240513718622305\n",
      "Error: Please don't make me divide by zero.\n",
      "Error: Please don't make me divide by zero.\n",
      "Ratio: 982.2222222222222\n",
      "Error: Not valid numbers. Aborting\n"
     ]
    }
   ],
   "source": [
    "while True:\n",
    "    num1 = input(\"First Number: \")\n",
    "    num2 = input(\"Second Number: \")\n",
    "\n",
    "    try:\n",
    "        print(f\"Ratio: {float(num1)/float(num2)}\")\n",
    "    except ZeroDivisionError:\n",
    "        print(\"Error: Please don't make me divide by zero.\")\n",
    "    except:\n",
    "        print(\"Error: Not valid numbers. Aborting\")\n",
    "        break"
   ]
  },
  {
   "cell_type": "markdown",
   "metadata": {
    "id": "EBdOFPkPYo2w"
   },
   "source": [
    "### Exercise 3: Godzilla\n",
    "Write Python code that repeatedly requests input to determine Godzilla's next\n",
    "move. It should display the following menu.\n",
    "\n",
    "Enter Godzilla's next move:  \n",
    "1 - Crush Tokyo City Hall  \n",
    "2 - Crush Diet Building  \n",
    "3 - Crush Tokyo Tower  \n",
    "4 - Fight Mothra  \n",
    "5 - Return to the sea    \n",
    "\n",
    "If the user enters numbers 1-4, print the corresponding action (e.g. for entry 3 the program should print something like “Godzilla crushes\n",
    "Tokyo Tower. Ahhh!”). If the user enters 5, exit. If the user enters anything else,\n",
    "print a chastising message. (“That’s not allowed.”) Use exception handling, and\n",
    "write your code in a way that makes it easy to add new menu items. Whether or\n",
    "not the user gave valid input, print a blank line before printing the menu again. Test your code and show the desired behavior.  [7 pts]"
   ]
  },
  {
   "cell_type": "code",
   "execution_count": 4,
   "metadata": {
    "id": "lafyVtc2alOA"
   },
   "outputs": [
    {
     "name": "stdout",
     "output_type": "stream",
     "text": [
      "Godzilla crushes Tokyo city hall!\n",
      "\n",
      "Godzilla crushes diet building!\n",
      "\n",
      "Godzilla crushes Tokyo tower!\n",
      "\n",
      "Godzilla fights Mothra!\n",
      "\n",
      "That's not allowed!\n",
      "\n",
      "That's not allowed!\n",
      "\n",
      "Godzilla returns to the sea.\n",
      "\n"
     ]
    }
   ],
   "source": [
    "while True:\n",
    "    nextMove = input(\"Enter Godzilla's Next Move: \")\n",
    "\n",
    "    try:\n",
    "        nextMoveNum = int(nextMove) \n",
    "        if nextMoveNum == 1:\n",
    "            print(\"Godzilla crushes Tokyo city hall!\\n\")\n",
    "        elif nextMoveNum == 2:\n",
    "            print(\"Godzilla crushes diet building!\\n\")\n",
    "        elif nextMoveNum == 3:\n",
    "            print(\"Godzilla crushes Tokyo tower!\\n\")\n",
    "        elif nextMoveNum == 4:\n",
    "            print(\"Godzilla fights Mothra!\\n\")\n",
    "        elif nextMoveNum == 5:\n",
    "            print(\"Godzilla returns to the sea.\\n\")\n",
    "            break\n",
    "        else:\n",
    "            raise ValueError\n",
    "    except:\n",
    "        print(\"That's not allowed!\\n\")"
   ]
  }
 ],
 "metadata": {
  "colab": {
   "provenance": []
  },
  "kernelspec": {
   "display_name": "Python 3 (ipykernel)",
   "language": "python",
   "name": "python3"
  },
  "language_info": {
   "codemirror_mode": {
    "name": "ipython",
    "version": 3
   },
   "file_extension": ".py",
   "mimetype": "text/x-python",
   "name": "python",
   "nbconvert_exporter": "python",
   "pygments_lexer": "ipython3",
   "version": "3.12.4"
  }
 },
 "nbformat": 4,
 "nbformat_minor": 4
}
