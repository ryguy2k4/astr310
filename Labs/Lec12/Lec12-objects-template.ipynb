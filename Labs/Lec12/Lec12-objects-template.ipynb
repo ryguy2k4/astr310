{
 "cells": [
  {
   "cell_type": "markdown",
   "id": "3c8599c2-8d68-4fe0-b45e-fe4ef52bc0e4",
   "metadata": {},
   "source": [
    "# ASTR 310 Lecture 12 - objects\n",
    "\n",
    "### 1. Create a class\n",
    "\n",
    "Create a class called `Star` to store data and methods associated with individual stars. It should contain the following attributes:\n",
    "\n",
    "* name as a string\n",
    "* Right Ascension as a tuple (hours, minutes, seconds)\n",
    "* Declination as a tuple (degrees, arcminutes, arcseconds)\n",
    "* distance as a float (pc)\n",
    "* absolute magnitude as a float\n",
    "\n",
    "The constructor method should take these as arguments and use them to set the values of the attributes associated with the object.\n",
    "\n",
    "Give the class two methods:\n",
    "\n",
    "* `appmag`\treturns the apparent magnitude using $m-M = 5 (\\log d - 1)$\n",
    "* `__str__`\treturns the string representation of the star, like the following.  (Use embedded newlines.)\n",
    "```\n",
    "    Star:    Betelgeuse\n",
    "    RA:      05h 55m 10.3s\n",
    "    Dec:     +07d 24' 25.4\"\n",
    "    Mag:     -5.85\n",
    "    Dist:    220.0 pc\n",
    "```\n",
    "\n",
    "Test your class by creating a new `Star` object, printing its string representation, and evaluating its apparent magnitude.\n",
    "[5 pts]"
   ]
  },
  {
   "cell_type": "code",
   "execution_count": 76,
   "id": "c63c4b02-c5aa-4316-8214-6218542f767a",
   "metadata": {},
   "outputs": [],
   "source": [
    "class Star:\n",
    "\n",
    "    def __init__(self, name: str, ra: tuple[int, int, float], dec: tuple[int, int, float], distance: float, absMag: float):\n",
    "        self.name = name\n",
    "        self.ra = ra\n",
    "        self.dec = dec\n",
    "        self.distance = distance\n",
    "        self.absMag = absMag\n",
    "\n",
    "\n",
    "    def appmag(self):\n",
    "        from math import log10\n",
    "        return (5 * (log10(self.distance) - 1)) + self.absMag\n",
    "    \n",
    "    def __str__(self):\n",
    "        \n",
    "        return f\"Star:    {self.name}\\nRA:      {str(self.ra[0]).zfill(2)}h {str(self.ra[1]).zfill(2)}m {str(self.ra[2]).zfill(2)}s\\nDec:     {str(self.dec[0]).zfill(2)}d {str(self.dec[1]).zfill(2)}\\' {str(self.dec[2]).zfill(2)}\\nMag:     {self.appmag()}\\nDist:    {self.distance}\\n\"\n"
   ]
  },
  {
   "cell_type": "code",
   "execution_count": 77,
   "id": "fb170c9b",
   "metadata": {},
   "outputs": [
    {
     "name": "stdout",
     "output_type": "stream",
     "text": [
      "Star:    Betelgeuse\n",
      "RA:      05h 55m 10.3s\n",
      "Dec:     07d 24' 25.4\n",
      "Mag:     0.8621134041110317\n",
      "Dist:    220.0\n",
      "\n"
     ]
    }
   ],
   "source": [
    "star1 = Star(\"Betelgeuse\", (5, 55, 10.3), (7, 24, 25.4), 220.0, -5.85)\n",
    "print(star1)"
   ]
  },
  {
   "cell_type": "markdown",
   "id": "d6a40c2c-06ea-40f6-b67e-e1676c71157c",
   "metadata": {},
   "source": [
    "#### 2. Modify the class\n",
    "\n",
    "Download the file `riseset.py` from the Canvas page for today's exercise. It contains a function called `riseandset()` that computes the rise and set times for a star with a given right ascension and declination as observed at a given latitude and longitude for a given year, month, and date:\n",
    "\n",
    "`riseandset(ra, dec, lam, phi, y, m, d)`\n",
    "\n",
    "The local rise and set times are returned as two tuples (H, M, S). The file also contains three helper routines.\n",
    "\n",
    "Create a new class `Star2` which is similar to the previous `Star` class, with the following enhancement.\n",
    "Make the `riseandset()` routine into a method of the `Star2` class.  (Import the routine, don't copy and paste the code into this notebook.)  Modify the routine so that it takes the RA and Declination from the class's attributes, but continues to take the latitude, longitude, year, month, and date as arguments.    Let the other routines be global functions. Try the following tests.\n",
    "```\n",
    "Betelgeuse = Star2(\"Betelgeuse\", (5,55,10.3), (7,24,25.4), 220., -5.85)\n",
    "\n",
    "print(Betelgeuse.riseandset(40.112, -88.221, 2024, 1, 30))\n",
    "```\n",
    "[5 pts]"
   ]
  },
  {
   "cell_type": "code",
   "execution_count": 78,
   "id": "76470f9b-7754-425a-a6bb-b5dfff23cf87",
   "metadata": {},
   "outputs": [],
   "source": [
    "class Star2:\n",
    "    def __init__(self, name: str, ra: tuple[int, int, float], dec: tuple[int, int, float], distance: float, absMag: float):\n",
    "        self.name = name\n",
    "        self.ra = ra\n",
    "        self.dec = dec\n",
    "        self.distance = distance\n",
    "        self.absMag = absMag\n",
    "\n",
    "\n",
    "    def appmag(self):\n",
    "        from math import log10\n",
    "        return (5 * (log10(self.distance) - 1)) + self.absMag\n",
    "    \n",
    "    def __str__(self):\n",
    "        \n",
    "        return f\"Star:    {self.name}\\nRA:      {str(self.ra[0]).zfill(2)}h {str(self.ra[1]).zfill(2)}m {str(self.ra[2]).zfill(2)}s\\nDec:     {str(self.dec[0]).zfill(2)}d {str(self.dec[1]).zfill(2)}\\' {str(self.dec[2]).zfill(2)}\\nMag:     {self.appmag}\\nDist:    {self.distance}\\n\"\n",
    "    \n",
    "    def riseandset(self, lat: float, long: float, year: int, month: int, day: int):\n",
    "        import riseset\n",
    "        return riseset.riseandset(self.ra, self.dec, lat, long, year, month, day)\n"
   ]
  },
  {
   "cell_type": "code",
   "execution_count": 79,
   "id": "5881d38c",
   "metadata": {},
   "outputs": [
    {
     "name": "stdout",
     "output_type": "stream",
     "text": [
      "((14, 39, 42), (3, 25, 48))\n"
     ]
    }
   ],
   "source": [
    "Betelgeuse = Star2(\"Betelgeuse\", (5,55,10.3), (7,24,25.4), 220., -5.85)\n",
    "\n",
    "print(Betelgeuse.riseandset(40.112, -88.221, 2024, 1, 30))"
   ]
  },
  {
   "cell_type": "markdown",
   "id": "95612934-1ac0-4dc0-91d4-3f91cf77eb05",
   "metadata": {},
   "source": [
    "### 3. Another class\n",
    "\n",
    "Create a class called `Particle` to represent different kinds of particles in an N-body simulation. This class should have the following data:\n",
    "\n",
    "* $ x, y, z, vx, vy, vz$ – 3D position and velocity values\n",
    "* $ ax, ay, az $ – 3D acceleration values\n",
    "* $ m $ – mass\n",
    "\n",
    "It should have the following methods:\n",
    "\n",
    "* `__init__`: \tinitialize a Particle with $ m, x, y, z, vx, vy, vz$ passed in\n",
    "* `move`:\t\tadvance the particle over a timestep $dt$ using $vx = vx + ax\\,(dt)$ and\n",
    "                                       $ x = x + vx(dt) + 0.5\\, ax\\, (dt)^2$ etc.\n",
    "* `compute_accels`:  compute total gravitational acceleration on the particle\n",
    "                due to a list of particles.  See the gravity review in the slides.\n",
    "\n",
    "Create a subclass, `StarParticle`.  `StarParticle` should have, in addition to the base class:\n",
    "\n",
    "* $t$ – age\n",
    "* `age_stars`:  a method that increments the particle's age by $dt$.\n",
    "\n",
    "[6 pts]"
   ]
  },
  {
   "cell_type": "code",
   "execution_count": 80,
   "id": "a92f3239-ea42-41d2-868b-967dea280413",
   "metadata": {},
   "outputs": [],
   "source": [
    "class Particle:\n",
    "\n",
    "    def __init__(self, m: float, x: float, y: float, z: float, vx: float, vy: float, vz: float):\n",
    "        self.m = m\n",
    "        self.x = x\n",
    "        self.y = y\n",
    "        self.z = z\n",
    "        self.vx = vx\n",
    "        self.vy = vy\n",
    "        self.vz = vz\n",
    "        self.ax = 0\n",
    "        self.ay = 0\n",
    "        self.az = 0\n",
    "\n",
    "    def move(self, dt: float):\n",
    "        self.vx = self.vx + self.ax*dt\n",
    "        self.vy = self.vy + self.ay*dt\n",
    "        self.vz = self.vz + self.az*dt\n",
    "        self.x = self.x + self.vx*dt + 0.5*self.ax*dt**2\n",
    "        self.y = self.y + self.vy*dt + 0.5*self.ay*dt**2\n",
    "        self.z = self.z + self.vz*dt + 0.5*self.az*dt**2\n",
    "    \n",
    "    def compute_accels(self, particles: list):\n",
    "        from math import sqrt\n",
    "        atx = 0\n",
    "        aty = 0\n",
    "        atz = 0\n",
    "        for p in particles:\n",
    "            r = (p.x - self.x, p.y - self.y, p.z - self.z)\n",
    "            G = 6.67430e-11\n",
    "            r_abs = sqrt(r[0]**2 + r[1]**2 + r[2]**2)\n",
    "            atx += G*p.m / r_abs**3 * r[0]\n",
    "            aty += G*p.m / r_abs**3 * r[1]\n",
    "            atz += G*p.m / r_abs**3 * r[2]\n",
    "            \n",
    "        self.ax = atx\n",
    "        self.ay = aty\n",
    "        self.az = atz       \n",
    "\n",
    "    def __str__(self):\n",
    "        return f\"{self.x} {self.y} {self.z} {self.vx} {self.vy} {self.vz} {self.ax} {self.ay} {self.az}\"\n"
   ]
  },
  {
   "cell_type": "code",
   "execution_count": 81,
   "id": "c94f6228",
   "metadata": {},
   "outputs": [],
   "source": [
    "class StarParticle(Particle):\n",
    "\n",
    "    def __init__(self, m: float, x: float, y: float, z: float, vx: float, vy: float, vz: float, t: float):\n",
    "        super().__init__(m, x, y, z, vx, vy, vz)\n",
    "        self.t = t\n",
    "\n",
    "    def age_stars(self, dt):\n",
    "        self.t += dt"
   ]
  },
  {
   "cell_type": "markdown",
   "id": "e7a57343-e1c5-42f7-9976-add5b8f845fb",
   "metadata": {},
   "source": [
    "Test your class and methods to verify that they're producing the output you expect.\n",
    "[4 pts]"
   ]
  },
  {
   "cell_type": "code",
   "execution_count": 82,
   "id": "f826cd49-bf5a-48a3-b3b3-871b768fdebc",
   "metadata": {},
   "outputs": [
    {
     "name": "stdout",
     "output_type": "stream",
     "text": [
      "0 0 0 0 0 0 0.3399280307478493 0.47616660899999735 0.4307537495826147\n",
      "1 1 1 0 0 0 -0.37628743479463606 -0.19719717276791396 -0.2568939267768213\n",
      "-1 2 1 0 0 1 0.44900624288820956 -0.36074169969625286 -0.09082571883476538\n",
      "0.509892046121774 0.714249913499996 0.646130624373922 0.3399280307478493 0.47616660899999735 0.4307537495826147 0.3399280307478493 0.47616660899999735 0.4307537495826147\n",
      "0.43556884780804583 0.704204240848129 0.614659109834768 -0.37628743479463606 -0.19719717276791396 -0.2568939267768213 -0.37628743479463606 -0.19719717276791396 -0.2568939267768213\n",
      "-0.32649063566768566 1.4588874504556206 1.863761421747852 0.44900624288820956 -0.36074169969625286 0.9091742811652346 0.44900624288820956 -0.36074169969625286 -0.09082571883476538\n"
     ]
    }
   ],
   "source": [
    "p1 = Particle(2e10, 0, 0, 0, 0, 0, 0)\n",
    "p2 = Particle(3e10, 1, 1, 1, 0, 0, 0)\n",
    "p3 = Particle(1e10, -1, 2, 1, 0, 0, 1)\n",
    "\n",
    "p1.compute_accels([p2, p3])\n",
    "p2.compute_accels([p1, p3])\n",
    "p3.compute_accels([p1, p2])\n",
    "print(p1)\n",
    "print(p2)\n",
    "print(p3)\n",
    "p1.move(1)\n",
    "p2.move(1)\n",
    "p3.move(1)\n",
    "print(p1)\n",
    "print(p2)\n",
    "print(p3)"
   ]
  },
  {
   "cell_type": "code",
   "execution_count": 83,
   "id": "722c7338-4b7b-4418-b053-3296f3cd0f0f",
   "metadata": {},
   "outputs": [
    {
     "name": "stdout",
     "output_type": "stream",
     "text": [
      "20000000.0\n",
      "21000000.0\n"
     ]
    }
   ],
   "source": [
    "sp = StarParticle(2e25, 0, 0, 0, 1, 1, 1, 2e7)\n",
    "print(sp.t)\n",
    "sp.age_stars(1e6)\n",
    "print(sp.t)"
   ]
  }
 ],
 "metadata": {
  "kernelspec": {
   "display_name": "base",
   "language": "python",
   "name": "python3"
  },
  "language_info": {
   "codemirror_mode": {
    "name": "ipython",
    "version": 3
   },
   "file_extension": ".py",
   "mimetype": "text/x-python",
   "name": "python",
   "nbconvert_exporter": "python",
   "pygments_lexer": "ipython3",
   "version": "3.12.4"
  }
 },
 "nbformat": 4,
 "nbformat_minor": 5
}
