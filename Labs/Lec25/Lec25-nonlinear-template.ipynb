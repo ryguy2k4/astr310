{
 "cells": [
  {
   "cell_type": "code",
   "execution_count": 2,
   "metadata": {},
   "outputs": [],
   "source": [
    "import numpy as np\n",
    "import matplotlib.pyplot as plt\n",
    "import scipy.optimize"
   ]
  },
  {
   "cell_type": "markdown",
   "metadata": {
    "id": "j8uDEStyXKby"
   },
   "source": [
    "# ASTR 310 Lecture 25 - nonlinear equations\n",
    "\n",
    "### Exercise 1: gas plus radiation pressure\n",
    "\n",
    "A mixture of ionized hydrogen gas and radiation (such as at the center of the Sun) with a density $\\rho$ and temperature $T$ has a pressure given by the following, where the first term is thermal (ideal gas) pressure and the second is radiation pressure.\n",
    "\n",
    "\n",
    "$$\n",
    "P = \\frac{2 \\rho k T}{m_p} + \\frac{1}{3} a T^4.\n",
    "$$\n",
    "\n",
    "Here $k = 1.38 \\times 10^{-16}$ erg $K^{-1}$, $a = 7.56 \\times 10^{-15}$ erg $cm^{-3}$ $K^{-4}$, and $m_p = 1.67 \\times 10^{-24}$ g.  \n",
    "\n",
    "Find the temperature corresponding to $\\rho = 80 \\text{ g cm}^{-3}$ and $P = 1.3 \\times 10^{18} \\text{ dyn cm}^{-2}$ using Brent’s method. You should get about $87\\times 10^6$ K.  \n",
    "Report what fraction of the total pressure is thermal (ideal gas) and what fraction is radiation pressure.\n",
    "\n",
    "What are good starting guesses? A lower bound on the temperature is easy, but an upper bound requires more thought. You can find a strict upper limit by noting that since the temperature is always positive, the combined ideal gas and radiation pressure is always larger than either individual term alone.\n",
    "\n",
    "(Aside: if you're wondering where the 2 came from, the ideal gas pressure has assumed pure H composition so that the mean mass per particle is $m_p/2$.)\n",
    "\n",
    "[7 pts]\n"
   ]
  },
  {
   "cell_type": "code",
   "execution_count": 17,
   "metadata": {
    "id": "GdGZ2xr4XJnN"
   },
   "outputs": [
    {
     "name": "stdout",
     "output_type": "stream",
     "text": [
      "Root: 87269196.37557216\n",
      "Thermal Fraction: 0.887565110996146\n",
      "Radiation Fraction: 0.11243488900385401\n"
     ]
    }
   ],
   "source": [
    "def pressure(T):\n",
    "    return (2*80*1.38e-16*T)/(1.67e-24) + (1/3)*7.56e-15*T**4 - 1.3e18\n",
    "\n",
    "soln = scipy.optimize.brentq(pressure, 1e3, 1e8)\n",
    "print(f\"Root: {soln}\")\n",
    "\n",
    "P_therm = (2*80*1.38e-16*soln)/(1.67e-24)\n",
    "P_rad = (1/3)*7.56e-15*soln**4\n",
    "print(f\"Thermal Fraction: {P_therm/(P_therm+P_rad)}\")\n",
    "print(f\"Radiation Fraction: {P_rad/(P_rad+P_therm)}\")"
   ]
  },
  {
   "cell_type": "markdown",
   "metadata": {
    "id": "qJwfVwYHZDAL"
   },
   "source": [
    "### Exercise 2: Moon missile\n",
    "\n",
    "A projectile is launched from the surface of the Moon with a speed $v_0 = 10^5 \\text{ cm s}^{-1}$ at an angle $\\alpha = 45^\\circ$ from the surface. This is not enough to achieve orbit, so the projectile falls back to the Moon’s surface. Ignoring the Moon’s rotation, what is the angle $\\theta_0$ subtended by half of the trajectory?  \n",
    "\n",
    "Orbital parameters: (compute from given data)\n",
    "\n",
    "$$\n",
    "E_0 = \\frac{1}{2}v_0^2 - \\frac{GM}{R}\n",
    "$$\n",
    "\n",
    "$$\n",
    "a = -\\frac{GM}{2E_0}\n",
    "$$\n",
    "\n",
    "$$\n",
    "J_0 = Rv_0 \\cos \\alpha\n",
    "$$\n",
    "\n",
    "$$\n",
    "e = \\left(1 + \\frac{2E_0J_0^2}{G^2 M^2}\\right)^{1/2}\n",
    "$$\n",
    "\n",
    "\n",
    "Ellipse equation: solve with SciPy.  Hint: $r=R$ at launch and impact, so $\\theta$ is the only unknown.\n",
    "\n",
    "\n",
    "$$\n",
    "\\frac{r^2 \\sin^2 \\theta}{a^2(1 - e^2)} + \\frac{(r \\cos \\theta - ae)^2}{a^2} = 1\n",
    "$$\n",
    "\n",
    "Physical data:\n",
    "$\n",
    "M = 7.348 \\times 10^{25} \\text{ g;} \\quad R = 1.737 \\times 10^8 \\text{ cm;} \\quad G = 6.673 \\times 10^{-8} \\text{ cm}^3 \\text{ s}^{-2} \\text{ g}^{-1}\n",
    "$\n",
    "\n",
    "[6 pts]"
   ]
  },
  {
   "cell_type": "code",
   "execution_count": 25,
   "metadata": {
    "id": "ZsXZpLLSaCpz"
   },
   "outputs": [
    {
     "name": "stdout",
     "output_type": "stream",
     "text": [
      "Angle subtended by half the trajectory: 12.147637163214025 degrees\n"
     ]
    }
   ],
   "source": [
    "v0 = 1e5\n",
    "alpha = 45\n",
    "G = 6.673e-8\n",
    "M = 7.348e25\n",
    "R = 1.737e8\n",
    "\n",
    "E0 = 0.5*v0**2 - (G * M / R)\n",
    "a = -G*M/(2*E0)\n",
    "J0 = R*v0*np.cos(np.pi/180*alpha)\n",
    "e = (1 + (2*E0*J0**2)/(G**2*M**2))**0.5\n",
    "\n",
    "def eq(theta):\n",
    "    return (R**2 * np.sin(theta)**2)/(a**2*(1-e**2)) + ((R*np.cos(theta) - a*e)**2)/a**2 - 1\n",
    "\n",
    "soln = scipy.optimize.brentq(eq, 0, np.pi)\n",
    "print(f\"Angle subtended by half the trajectory: {soln*180/np.pi} degrees\")"
   ]
  },
  {
   "cell_type": "markdown",
   "metadata": {
    "id": "z8oAPHK5bS8x"
   },
   "source": [
    "### Exercise 3: a nonlinear system of equations\n",
    "\n",
    "Using `scipy.optimize.root`, solve the system of equations\n",
    "\n",
    "$$\n",
    "9x^2 + 36y^2 + z^2 - 36 = 0\n",
    "$$\n",
    "$$\n",
    "x^2 - 2y^2 - 20z = 0\n",
    "$$\n",
    "$$\n",
    "x^2 - y^2 + z^2 = 0\n",
    "$$\n",
    "\n",
    "for $(x, y, z)$. Good starting guesses are $(±1, ±1, 0)$. There are four roots. Try using an error tolerance of $10^{-10}$.\n",
    "\n",
    "Check carefully that you are actually getting four distinct roots – I had to tweak one of the starting guesses in order to pull out the fourth root.  It might be helpful to plot the roots projected onto the (x,y) plane to verify that you're actually getting all four.\n",
    "\n",
    "[7 pts]"
   ]
  },
  {
   "cell_type": "code",
   "execution_count": 33,
   "metadata": {
    "id": "jOF_HVImbp28"
   },
   "outputs": [
    {
     "name": "stdout",
     "output_type": "stream",
     "text": [
      "[-0.89368798 -0.89458694 -0.04009467]\n",
      "[-0.89368798  0.89458694 -0.04009467]\n",
      "[ 0.89368798 -0.89458694 -0.04009467]\n",
      "[ 0.89368798  0.89458694 -0.04009467]\n"
     ]
    }
   ],
   "source": [
    "def f(vars):\n",
    "    x, y, z = vars\n",
    "    eq1 = 9*x**2 + 36*y**2 + z**2 - 36\n",
    "    eq2 = x**2 - 2*y**2 - 20*z\n",
    "    eq3 = x**2 - y**2 + z**2\n",
    "    return eq1, eq2, eq3\n",
    "\n",
    "soln1 = scipy.optimize.root(f, [-1, -1, 0], tol=1e-10)\n",
    "print(soln1.x)\n",
    "\n",
    "soln2 = scipy.optimize.root(f, [-1, 1, 0], tol=1e-10)\n",
    "print(soln2.x)\n",
    "\n",
    "soln3 = scipy.optimize.root(f, [1, -1, 0], tol=1e-10)\n",
    "print(soln3.x)\n",
    "\n",
    "soln4 = scipy.optimize.root(f, [1, 1, 0], tol=1e-10)\n",
    "print(soln4.x)"
   ]
  }
 ],
 "metadata": {
  "colab": {
   "provenance": []
  },
  "kernelspec": {
   "display_name": "base",
   "language": "python",
   "name": "python3"
  },
  "language_info": {
   "codemirror_mode": {
    "name": "ipython",
    "version": 3
   },
   "file_extension": ".py",
   "mimetype": "text/x-python",
   "name": "python",
   "nbconvert_exporter": "python",
   "pygments_lexer": "ipython3",
   "version": "3.12.4"
  }
 },
 "nbformat": 4,
 "nbformat_minor": 4
}
