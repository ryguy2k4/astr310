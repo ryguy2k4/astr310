{
 "cells": [
  {
   "cell_type": "markdown",
   "id": "b3897378-9abd-4724-a6fc-4c32f77765ad",
   "metadata": {},
   "source": [
    "# ASTR 310 Lecture 07 - lists\n",
    "\n",
    "### 1. List mayhem\n",
    "\n",
    "* Create a list L containing 1000 ones.\n",
    "* Set every third and every fifth entry to zero.\n",
    "* Count the number of ones remaining.  [You should get 533.]\n",
    "* Extend L with a second list containing the first 500 multiples of 4.\n",
    "* Print the sum of the values in the resulting list.  [You should get 499533.]\n",
    "\n",
    "[6 pts total]\n",
    "\n",
    "_You must use lists, not numpy arrays!  We will get to numpy arrays before long._"
   ]
  },
  {
   "cell_type": "code",
   "execution_count": 62,
   "id": "e2509d01-6c36-4dab-bd52-f3ee5393d79e",
   "metadata": {},
   "outputs": [
    {
     "data": {
      "text/plain": [
       "533"
      ]
     },
     "execution_count": 62,
     "metadata": {},
     "output_type": "execute_result"
    }
   ],
   "source": [
    "L = [1]*1000\n",
    "for i in range(len(L)):\n",
    "    if i % 3 == 0:\n",
    "        L[i] = 0\n",
    "    if i % 5 == 0:\n",
    "        L[i] = 0\n",
    "sum(L)"
   ]
  },
  {
   "cell_type": "code",
   "execution_count": 63,
   "id": "f4d356d8",
   "metadata": {},
   "outputs": [
    {
     "data": {
      "text/plain": [
       "499533"
      ]
     },
     "execution_count": 63,
     "metadata": {},
     "output_type": "execute_result"
    }
   ],
   "source": [
    "L2 = list(range(0, 500*4, 4))\n",
    "L.extend(L2)\n",
    "sum(L)"
   ]
  },
  {
   "cell_type": "markdown",
   "id": "aa0f98d3-70cb-4d26-b65b-cfe845adc18b",
   "metadata": {},
   "source": [
    "### 2. Lists of magnitudes\n",
    "\n",
    "* Create three lists called stars, absmags, and distances containing \n",
    "    * stars:\t\tVega, Deneb, Rigel, Sirius, Arcturus\n",
    "    * absmags:\t0.582, -8.38, -7.84, 1.42, -0.30\n",
    "    * distances:\t7.68, 802, 260, 2.64, 11.26 (these values are in parsecs)\n",
    "* Now create a new list, appmags, containing apparent magnitudes $m$ calculated using\n",
    "  $$ m = M + 5 (\\log d -1) $$\n",
    "  where $M$ is the absolute magnitude and $d$ is the distance in parsecs. Note that the logarithm is base-10, so use the log10 function from the math module.  _Again, no numpy yet._\n",
    "* Iterate over the stars, printing for each star “The apparent magnitude of (star) is (appmag).”\n",
    "\n",
    "[7 pts total]"
   ]
  },
  {
   "cell_type": "code",
   "execution_count": 64,
   "id": "83e89a05",
   "metadata": {},
   "outputs": [],
   "source": [
    "from math import *"
   ]
  },
  {
   "cell_type": "code",
   "execution_count": 72,
   "id": "c47bf20c-439a-4b07-8958-3408a88e7e36",
   "metadata": {},
   "outputs": [
    {
     "name": "stdout",
     "output_type": "stream",
     "text": [
      "The apparent magnitude of Vega is 0.008806100157559782\n",
      "The apparent magnitude of Deneb is 10.102871841420818\n",
      "The apparent magnitude of Rigel is 7.656866739854089\n",
      "The apparent magnitude of Sirius is -2.309980365650845\n",
      "The apparent magnitude of Arcturus is 0.8396919525766374\n"
     ]
    }
   ],
   "source": [
    "stars = [\"Vega\", \"Deneb\", \"Rigel\", \"Sirius\", \"Arcturus\"]\n",
    "absmags  = [0.582, -8.38, -7.83, 1.42, -0.30]\n",
    "distances = [7.68, 802, 260, 2.64, 11.26]\n",
    "\n",
    "appmags = [ M + 5 * (log10(d) - 1) for M in absmags for d in distances ]\n",
    "appmags\n",
    "\n",
    "for i in range(len(stars)):\n",
    "    print(f\"The apparent magnitude of {stars[i]} is {appmags[i]}\")"
   ]
  },
  {
   "cell_type": "markdown",
   "id": "1d1fa323-e2b0-4337-a71a-32311dcb6c3f",
   "metadata": {},
   "source": [
    "### 3. Dictionaries of magnitudes\n",
    "\n",
    "* Practice with dictionaries by creating a dictionary for one of the stars.  The keys should be 'm', 'M', and 'd', and the values should be the apparent magnitude and so on as appropriate.\n",
    "* Now use the data in the four lists to create a nested dictionary called 'stardict'. Each dictionary entry should have as its key the name of a star, and the value should be itself a dictionary like the one you created above.\n",
    "* Print stardict['Rigel']['m'].\n",
    "\n",
    "[7 pts total]"
   ]
  },
  {
   "cell_type": "code",
   "execution_count": 66,
   "id": "79f96036-074d-4487-a3d2-d3751cadce85",
   "metadata": {},
   "outputs": [
    {
     "data": {
      "text/plain": [
       "[{'m': 0.008806100157559782, 'M': 0.582, 'd': 7.68},\n",
       " {'m': 10.102871841420818, 'M': -8.38, 'd': 802},\n",
       " {'m': 7.656866739854089, 'M': -7.83, 'd': 260},\n",
       " {'m': -2.309980365650845, 'M': 1.42, 'd': 2.64},\n",
       " {'m': 0.8396919525766374, 'M': -0.3, 'd': 11.26}]"
      ]
     },
     "execution_count": 66,
     "metadata": {},
     "output_type": "execute_result"
    }
   ],
   "source": [
    "dict = [{'m': appmags[i], 'M': absmags[i], 'd': distances[i]} for i in range(len(stars))]\n",
    "dict"
   ]
  },
  {
   "cell_type": "code",
   "execution_count": 67,
   "id": "6c73c438-8d3d-462b-803f-8d9a23eb88be",
   "metadata": {},
   "outputs": [],
   "source": [
    "stardict = {s : d for s, d in zip(stars, dict)}"
   ]
  },
  {
   "cell_type": "code",
   "execution_count": 68,
   "id": "5791310e",
   "metadata": {},
   "outputs": [
    {
     "name": "stdout",
     "output_type": "stream",
     "text": [
      "7.656866739854089\n"
     ]
    }
   ],
   "source": [
    "print(stardict['Rigel']['m'])"
   ]
  }
 ],
 "metadata": {
  "kernelspec": {
   "display_name": "Python 3 (ipykernel)",
   "language": "python",
   "name": "python3"
  },
  "language_info": {
   "codemirror_mode": {
    "name": "ipython",
    "version": 3
   },
   "file_extension": ".py",
   "mimetype": "text/x-python",
   "name": "python",
   "nbconvert_exporter": "python",
   "pygments_lexer": "ipython3",
   "version": "3.12.4"
  }
 },
 "nbformat": 4,
 "nbformat_minor": 5
}
