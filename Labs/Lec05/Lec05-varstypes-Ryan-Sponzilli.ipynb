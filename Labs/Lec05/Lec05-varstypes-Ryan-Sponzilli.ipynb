{
 "cells": [
  {
   "attachments": {},
   "cell_type": "markdown",
   "id": "9feaa80c",
   "metadata": {},
   "source": [
    "# ASTR 310 Lecture 5 - variables and types\n",
    "\n",
    "### Rise and set time of Betelgeuse\n",
    "\n",
    "The star Betelgeuse has right ascension and declination $\\alpha = 05^h 55^m 10^s,$ $\\delta = +07^\\circ\\ 24^\\prime\\ 26^{\\prime\\prime}.$\n",
    "\n",
    "**1.** Convert these coordinates from hours-minutes-seconds to decimal hours and\n",
    "degrees-minutes-seconds to decimal degrees. What are decimal hours? 06h 30m = 6.5 decimal hours. [3 pts]"
   ]
  },
  {
   "cell_type": "code",
   "execution_count": 1,
   "id": "f50cc55c",
   "metadata": {},
   "outputs": [],
   "source": [
    "# code here\n",
    "ra = 5 + 55/60.0 + 10/3600.0\n",
    "dec = 7 + 24/60.0 + 26/3600.0"
   ]
  },
  {
   "cell_type": "markdown",
   "id": "4fa49dc0",
   "metadata": {},
   "source": [
    "**2.** Compute the local sidereal time (LST) of rise and set for our latitude $\\lambda = 40.112^\\circ$\n",
    "as follows.  \n",
    "\n",
    "Compute the hour angle of the horizon $(H)$ from $\\cos H = -\\frac{\\sin \\lambda \\sin \\delta}{\\cos \\lambda \\cos \\delta}$.  Convert $H$ from radians to degrees and then to hours (recall that 1h = 15$^\\circ$).\n",
    "\n",
    "LST (rise) $ = \\alpha - H $ and LST (set) $ = \\alpha + H $.\n",
    "\n",
    "Add or subtract 24 from each LST value as needed to get values between 0 and 24. [4 pts]"
   ]
  },
  {
   "cell_type": "code",
   "execution_count": 11,
   "id": "9668a777",
   "metadata": {},
   "outputs": [],
   "source": [
    "# code here\n",
    "from math import *\n",
    "radians = pi/180\n",
    "degrees = 180/pi\n",
    "lam = 40.112\n",
    "cosH = -(sin(lam*radians) * sin(dec*radians))/(cos(lam*radians)*cos(dec*radians))\n",
    "H = acos(cosH)\n",
    "H = H * degrees / 15\n",
    "\n",
    "lstRise = (ra - H) % 24\n",
    "lstSet = (ra + H) % 24"
   ]
  },
  {
   "cell_type": "code",
   "execution_count": 57,
   "id": "53a437b4",
   "metadata": {},
   "outputs": [
    {
     "data": {
      "text/plain": [
       "7.407222222222223"
      ]
     },
     "execution_count": 57,
     "metadata": {},
     "output_type": "execute_result"
    }
   ],
   "source": [
    "dec"
   ]
  },
  {
   "cell_type": "markdown",
   "id": "1cac0f0f",
   "metadata": {},
   "source": [
    "**3.** Convert these times to Greenwich sidereal time for our longitude $\\phi = -88.221^\\circ$:\n",
    "$$ \\mathrm{GST} = \\mathrm{LST} - \\frac{\\phi}{15^\\circ}.$$\n",
    "Again add or subtract multiples of 24 as needed. [3 pts]"
   ]
  },
  {
   "cell_type": "code",
   "execution_count": 20,
   "id": "3c5ddd47",
   "metadata": {},
   "outputs": [
    {
     "data": {
      "text/plain": [
       "18.220026034648082"
      ]
     },
     "execution_count": 20,
     "metadata": {},
     "output_type": "execute_result"
    }
   ],
   "source": [
    "# code here\n",
    "phi = -88.221\n",
    "gstRise = (lstRise - phi/15) % 24\n",
    "gstSet = (lstSet - phi/15) % 24"
   ]
  },
  {
   "attachments": {},
   "cell_type": "markdown",
   "id": "3c6464e3",
   "metadata": {},
   "source": [
    "**4.** Now calculate the Julian date corresponding to the Greenwich date 30 Jan\n",
    "2024.  For this date use y=2024, m=1, etc.\n",
    "(Note this only works without modification for Jan/Feb in years after 1582.) [3 pts]\n",
    "$$ A = \\mathrm{trunc}((y-1)/100) $$\n",
    "$$ B = 2 - A + \\mathrm{trunc}(A/4) $$\n",
    "$$ C = \\mathrm{trunc}(365.25(y-1)) $$\n",
    "$$ D = \\mathrm{trunc}(30.6001(m+13)) $$\n",
    "$$ JD = B + C + D + d + 1720994.5 $$"
   ]
  },
  {
   "cell_type": "code",
   "execution_count": 14,
   "id": "f55b2631",
   "metadata": {},
   "outputs": [],
   "source": [
    "# code here\n",
    "y = 2024\n",
    "m = 1\n",
    "d = 30\n",
    "\n",
    "A = trunc((y-1)/100)\n",
    "B = 2 - A + trunc(A/4)\n",
    "C = trunc(365.25*(y-1))\n",
    "D = trunc(30.6001*(m+13))\n",
    "JD = B + C + D + d + 1720994.5"
   ]
  },
  {
   "cell_type": "markdown",
   "id": "9fd6cd23",
   "metadata": {},
   "source": [
    "**5.** Convert the Greenwich sidereal time to Universal Time as follows.  After each step, add or subtract multiples of 24 to get values between 0 and 24 hours. [3 pts]\n",
    "$$ T = (JD - 2451545.0)/36525.0 $$\n",
    "$$ T_0 = 6.697374558 + 2400.051336\\,T + 0.000025862\\,T^2 $$\n",
    "$$ UT = 0.9972695663 (GST-T_0)) $$"
   ]
  },
  {
   "cell_type": "code",
   "execution_count": 21,
   "id": "7c0f49d3",
   "metadata": {},
   "outputs": [],
   "source": [
    "# code here\n",
    "T = ((JD - 2451545.0)/36525.0) % 24\n",
    "T0 = (6.697374558 + 2400.051336*T + 0.000025862*T**2) % 24\n",
    "UTRise = (0.9972695663*(gstRise-T0)) % 24\n",
    "UTSet = (0.9972695663*(gstSet-T0)) % 24"
   ]
  },
  {
   "cell_type": "markdown",
   "id": "7422b29d",
   "metadata": {},
   "source": [
    "**6.** Finally, convert to local standard time here in Urbana, then back to h:m:s. [4 pts]\n",
    "$$ \\mathrm{CST} = \\mathrm{UT} - 6 $$"
   ]
  },
  {
   "cell_type": "code",
   "execution_count": 22,
   "id": "72c54c07",
   "metadata": {},
   "outputs": [],
   "source": [
    "# code here\n",
    "cstRise = UTRise - 6\n",
    "cstSet = UTSet - 6"
   ]
  },
  {
   "cell_type": "code",
   "execution_count": 23,
   "id": "756e2783",
   "metadata": {},
   "outputs": [
    {
     "data": {
      "text/plain": [
       "14.807975635101407"
      ]
     },
     "execution_count": 23,
     "metadata": {},
     "output_type": "execute_result"
    }
   ],
   "source": [
    "cstRise"
   ]
  },
  {
   "cell_type": "code",
   "execution_count": 24,
   "id": "5f1c81f4-9706-4197-b3eb-4d01703e00ba",
   "metadata": {},
   "outputs": [
    {
     "data": {
      "text/plain": [
       "3.6112845160280624"
      ]
     },
     "execution_count": 24,
     "metadata": {},
     "output_type": "execute_result"
    }
   ],
   "source": [
    "cstSet"
   ]
  },
  {
   "cell_type": "code",
   "execution_count": 56,
   "id": "2c805097",
   "metadata": {},
   "outputs": [
    {
     "name": "stdout",
     "output_type": "stream",
     "text": [
      "Rise at 14:48:30\n"
     ]
    }
   ],
   "source": [
    "h = trunc(cstRise)\n",
    "m = (cstRise - h) * 60\n",
    "s = round(m-trunc(m),1)*60\n",
    "print(f\"Rise at {h}:{round(m)}:{int(s)}\")"
   ]
  },
  {
   "cell_type": "code",
   "execution_count": 55,
   "id": "675f5f19",
   "metadata": {},
   "outputs": [
    {
     "name": "stdout",
     "output_type": "stream",
     "text": [
      "Set at 3:37:42\n"
     ]
    }
   ],
   "source": [
    "h = trunc(cstSet)\n",
    "m = (cstSet - h) * 60\n",
    "s = round(m-trunc(m),1)*60\n",
    "print(f\"Set at {h}:{round(m)}:{int(s)}\")"
   ]
  }
 ],
 "metadata": {
  "kernelspec": {
   "display_name": "Python 3 (ipykernel)",
   "language": "python",
   "name": "python3"
  },
  "language_info": {
   "codemirror_mode": {
    "name": "ipython",
    "version": 3
   },
   "file_extension": ".py",
   "mimetype": "text/x-python",
   "name": "python",
   "nbconvert_exporter": "python",
   "pygments_lexer": "ipython3",
   "version": "3.12.4"
  }
 },
 "nbformat": 4,
 "nbformat_minor": 5
}
