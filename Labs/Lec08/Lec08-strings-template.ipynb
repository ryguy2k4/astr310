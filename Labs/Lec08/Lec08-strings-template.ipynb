{
 "cells": [
  {
   "cell_type": "markdown",
   "id": "291e0b19-326f-41b4-9e26-e567e61389fa",
   "metadata": {},
   "source": [
    "# ASTR 310 Lecture 8\n",
    "\n",
    "### 1. List comprehensions, mapping, formatted output\n",
    "\n",
    " Using list comprehensions and/or mapping and/or zip [Reading 7], write Python code to:\n",
    "\n",
    "* Create a list x containing 10 values equally spaced from 0 to $2\\pi$  inclusive.\n",
    "* Create a second list y containing values of $x \\sin^2(3x/\\pi)$.\n",
    "* Create a third list z that is True if $y > 1.5$ and False otherwise.\n",
    "* Print a table of values containing x and y, formatted in columns 10 characters wide with 5 decimal places, and z, formatted in columns 5 characters wide.  You can use either a string or an integer format for the booleans.\n",
    "\n",
    "_We're still avoiding numpy arrays!  You must continue to use lists._\n",
    "\n",
    "[7 pts total]"
   ]
  },
  {
   "cell_type": "code",
   "execution_count": 81,
   "id": "b47776a8-a329-4d0a-a81d-4d905ef083d6",
   "metadata": {},
   "outputs": [
    {
     "name": "stdout",
     "output_type": "stream",
     "text": [
      "   0.00000   0.00000    0\n",
      "   0.69813   0.26695    0\n",
      "   1.39626   1.31900    0\n",
      "   2.09440   1.73169    1\n",
      "   2.79253   0.58391    0\n",
      "   3.49066   0.12677    0\n",
      "   4.18879   2.39913    1\n",
      "   4.88692   4.87671    1\n",
      "   5.58505   3.69454    1\n",
      "   6.28319   0.49055    0\n"
     ]
    }
   ],
   "source": [
    "from math import *\n",
    "\n",
    "x = [0,]\n",
    "for i in range(9):\n",
    "    x.append(x[-1] + 2*pi/9)\n",
    "\n",
    "y = [i * sin(3*i/pi) ** 2 for i in x]\n",
    "\n",
    "z = [i > 1.5 for i in y]\n",
    "\n",
    "table = [\"{x:10.5f}{y:10.5f}{z:5}\".format(x=x[i],y=y[i],z=z[i]) for i in range(10)]\n",
    "\n",
    "for item in table:\n",
    "    print(item)"
   ]
  },
  {
   "cell_type": "markdown",
   "id": "44e25373-4f74-4c57-aa9e-31806797ff06",
   "metadata": {},
   "source": [
    "### 2. Working with a file\n",
    "\n",
    "* Write the output from exercise 1 to a text file called “table.out”. \n",
    "\n",
    "* Read this file back in to three lists a, b, c, and verify that they are the same as x, y, z.\n",
    "\n",
    "The verification step can be surprisingly difficult due to the formatted printing.  If you are new to coding you can just print the lists and verify by eye that they are the same.  If that is way too easy for you, then you can write some more detailed code to check.\n",
    "\n",
    "[5 pts total]"
   ]
  },
  {
   "cell_type": "code",
   "execution_count": 82,
   "id": "09edc0c9-aea8-4c66-bf0b-73d517da9262",
   "metadata": {},
   "outputs": [
    {
     "data": {
      "text/plain": [
       "([0.0,\n",
       "  0.69813,\n",
       "  1.39626,\n",
       "  2.0944,\n",
       "  2.79253,\n",
       "  3.49066,\n",
       "  4.18879,\n",
       "  4.88692,\n",
       "  5.58505,\n",
       "  6.28319],\n",
       " [0.0,\n",
       "  0.26695,\n",
       "  1.319,\n",
       "  1.73169,\n",
       "  0.58391,\n",
       "  0.12677,\n",
       "  2.39913,\n",
       "  4.87671,\n",
       "  3.69454,\n",
       "  0.49055],\n",
       " [0.0, 0.0, 0.0, 1.0, 0.0, 0.0, 1.0, 1.0, 1.0, 0.0])"
      ]
     },
     "execution_count": 82,
     "metadata": {},
     "output_type": "execute_result"
    }
   ],
   "source": [
    "f = open(\"table.out\", 'w')\n",
    "f.writelines(map(lambda x: x + \"\\n\", table))\n",
    "f.close()\n",
    "\n",
    "f = open(\"table.out\", 'r')\n",
    "check = f.readlines()\n",
    "f.close()\n",
    "a = [float(check[i][0:10]) for i in range(10)]\n",
    "b = [float(check[i][10:20]) for i in range(10)]\n",
    "c = [float(check[i][20:25]) for i in range(10)]\n",
    "a,b,c"
   ]
  },
  {
   "cell_type": "markdown",
   "id": "957bc2ec-f1fa-49b0-9f7c-d4c4c3b56586",
   "metadata": {},
   "source": [
    "### 3. String mayhem\n",
    "\n",
    "* Get a string from the user and count the number of times each vowel (a, e, i, o, u) is encountered. Print the counts in a nicely formatted table.\n",
    "\n",
    "* Replace any number words (six, seventeen) with the corresponding integer (up to nineteen) and print the resulting string.  Hints: you could construct a dictionary, or you could construct a list of number words in which the list index of each number word is its corresponding value.  Also, strings behave like lists of characters so you could consider the list operations described in Reading 7.\n",
    "\n",
    "For example:\n",
    "\n",
    "Enter string: There are seventeen cats in twelve buildings with four bowls in each.\\\n",
    "a:   3\\\n",
    "e:  10\\\n",
    "i:   5\\\n",
    "o:   2\\\n",
    "u:   2\\\n",
    "There are 17 cats in 12 buildings with 4 bowls in each.\n",
    "\n",
    "[8 pts total]\n"
   ]
  },
  {
   "cell_type": "code",
   "execution_count": 83,
   "id": "59149ea0-602b-4079-a38e-0b6760068a84",
   "metadata": {},
   "outputs": [
    {
     "name": "stdout",
     "output_type": "stream",
     "text": [
      "a:   3\n",
      "e:  10\n",
      "i:   5\n",
      "o:   2\n",
      "u:   2\n",
      "There are 17 cats in 12 buildings with 4 bowls in each.\n"
     ]
    }
   ],
   "source": [
    "str_input = input()\n",
    "\n",
    "count_a = str_input.count('a')\n",
    "count_e = str_input.count('e')\n",
    "count_i = str_input.count('i')\n",
    "count_o = str_input.count('o')\n",
    "count_u = str_input.count('u')\n",
    "\n",
    "counts = {'a': count_a, 'e': count_e, 'i' : count_i, 'o' : count_o, 'u' : count_u}\n",
    "\n",
    "nums = [\"zero \", \"one \", \"two \", \"three \", \"four \", \"five \", \"six \", \"seven \", \"eight \", \"nine \", \"ten \", \"eleven \", \"twelve \", \"thirteen \", \"fourteen \", \"fifteen \", \"sixteen \", \"seventeen \", \"eighteen \", \"nineteen \"]\n",
    "\n",
    "for i in range(len(nums)):\n",
    "    str_input = str_input.replace(nums[i], str(i) + \" \")\n",
    "\n",
    "for key in counts:\n",
    "    print(\"{k:1}: {n:3}\".format(k=key,n=counts[key]))\n",
    "\n",
    "print(str_input)"
   ]
  }
 ],
 "metadata": {
  "kernelspec": {
   "display_name": "Python 3 (ipykernel)",
   "language": "python",
   "name": "python3"
  },
  "language_info": {
   "codemirror_mode": {
    "name": "ipython",
    "version": 3
   },
   "file_extension": ".py",
   "mimetype": "text/x-python",
   "name": "python",
   "nbconvert_exporter": "python",
   "pygments_lexer": "ipython3",
   "version": "3.12.4"
  }
 },
 "nbformat": 4,
 "nbformat_minor": 5
}
