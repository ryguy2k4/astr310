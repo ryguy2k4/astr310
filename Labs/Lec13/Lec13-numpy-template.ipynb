{
 "cells": [
  {
   "cell_type": "markdown",
   "id": "1cbd3fa0-5473-4627-b3be-f34900763759",
   "metadata": {},
   "source": [
    "# ASTR 310 Lecture 13 - numpy\n",
    "\n",
    "### 1. Manipulating numpy arrays\n",
    "\n",
    "Create the following arrays and print the requested elements.\n",
    "\n",
    "**a).** Create a 10x5x4 array A containing 200 values logarithmically spaced between $10^{–3}$ and $10^7$. Print A[3,0,2], A[5,4,1], and the last element of A. [2 pts]"
   ]
  },
  {
   "cell_type": "code",
   "execution_count": 43,
   "id": "b3e60ee1-0787-4922-986d-587e97e63b7f",
   "metadata": {},
   "outputs": [
    {
     "name": "stdout",
     "output_type": "stream",
     "text": [
      "1.3049019780144029\n",
      "757.525025877192\n",
      "10000000.0\n"
     ]
    }
   ],
   "source": [
    "import numpy as np\n",
    "A = np.logspace(-3, 7, 200, base=10).reshape(10,5,4)\n",
    "\n",
    "print(A[3,0,2])\n",
    "print(A[5,4,1])\n",
    "print(A[-1,-1,-1])"
   ]
  },
  {
   "attachments": {},
   "cell_type": "markdown",
   "id": "4f28a28e-d4ee-4107-8f88-ca56af2224f3",
   "metadata": {},
   "source": [
    "**b).** Create an array B containing\n",
    "\n",
    "$$ B = \\begin{bmatrix}\n",
    "-2 & 8 & 10 & 1 \\\\\n",
    "17 & 9 & 2 & 0 \\\\\n",
    "1 & 6 & -4 & 10 \\\\\n",
    "3 & 8 & -9 & 4\\\\\n",
    "\\end{bmatrix} $$\n",
    "\n",
    "\n",
    "and set all the elements of B larger than 4 equal to 4. Print B. [2 pts]"
   ]
  },
  {
   "cell_type": "code",
   "execution_count": 48,
   "id": "c6d1812c-3bb0-45ac-812f-5721ef27b6ca",
   "metadata": {},
   "outputs": [
    {
     "name": "stdout",
     "output_type": "stream",
     "text": [
      "[[-2  4  4  1]\n",
      " [ 4  4  2  0]\n",
      " [ 1  4 -4  4]\n",
      " [ 3  4 -9  4]]\n"
     ]
    }
   ],
   "source": [
    "B = np.array([\n",
    "    [-2,8,10,1],\n",
    "    [17,9,2,0],\n",
    "    [1,6,-4,10],\n",
    "    [3,8,-9,4]\n",
    "])\n",
    "\n",
    "mask = (B >= 4)\n",
    "B[mask] = 4\n",
    "\n",
    "print(B)"
   ]
  },
  {
   "cell_type": "markdown",
   "id": "68dc512b-9896-4ca3-8af6-0f951b488d14",
   "metadata": {},
   "source": [
    "**c).** Create a 10x10 array C that contains zeros in all elements for which either index is odd and ones in all other elements. Print C.\n",
    "[2 pts]"
   ]
  },
  {
   "cell_type": "code",
   "execution_count": 74,
   "id": "d5e02bf2-c1ed-4422-9047-d3d9c6f73f3d",
   "metadata": {},
   "outputs": [
    {
     "name": "stdout",
     "output_type": "stream",
     "text": [
      "[[1. 0. 1. 0. 1. 0. 1. 0. 1. 0.]\n",
      " [0. 0. 0. 0. 0. 0. 0. 0. 0. 0.]\n",
      " [1. 0. 1. 0. 1. 0. 1. 0. 1. 0.]\n",
      " [0. 0. 0. 0. 0. 0. 0. 0. 0. 0.]\n",
      " [1. 0. 1. 0. 1. 0. 1. 0. 1. 0.]\n",
      " [0. 0. 0. 0. 0. 0. 0. 0. 0. 0.]\n",
      " [1. 0. 1. 0. 1. 0. 1. 0. 1. 0.]\n",
      " [0. 0. 0. 0. 0. 0. 0. 0. 0. 0.]\n",
      " [1. 0. 1. 0. 1. 0. 1. 0. 1. 0.]\n",
      " [0. 0. 0. 0. 0. 0. 0. 0. 0. 0.]]\n"
     ]
    }
   ],
   "source": [
    "C = np.zeros((10,10))\n",
    "C[0:10:2, 0:10:2] = 1\n",
    "print(C)"
   ]
  },
  {
   "cell_type": "markdown",
   "id": "2c0da65f-724f-45cc-8dec-8c8b042bbdc3",
   "metadata": {},
   "source": [
    "### 2. Computing with numpy arrays\n",
    "\n",
    "Use NumPy arrays to do the following.\n",
    "\n",
    "**a).** Create two arrays x and y containing 10 equally-spaced values between $-\\pi$ and $\\pi$.  Then create a 2d grid of values $z$ containing $\\sin(x) \\cos(y)$ at the coordinates (x,y) given by the elements of x and y.  (See the reading on meshes or np.indices.) [2 pts]"
   ]
  },
  {
   "cell_type": "code",
   "execution_count": 96,
   "id": "09114d0d-1885-43f1-a1aa-107aa0946a5d",
   "metadata": {},
   "outputs": [
    {
     "name": "stdout",
     "output_type": "stream",
     "text": [
      "[[ 1.22464680e-16  6.42787610e-01  9.84807753e-01  8.66025404e-01\n",
      "   3.42020143e-01 -3.42020143e-01 -8.66025404e-01 -9.84807753e-01\n",
      "  -6.42787610e-01 -1.22464680e-16]\n",
      " [ 9.38133875e-17  4.92403877e-01  7.54406507e-01  6.63413948e-01\n",
      "   2.62002630e-01 -2.62002630e-01 -6.63413948e-01 -7.54406507e-01\n",
      "  -4.92403877e-01 -9.38133875e-17]\n",
      " [ 2.12657685e-17  1.11618897e-01  1.71010072e-01  1.50383733e-01\n",
      "   5.93911746e-02 -5.93911746e-02 -1.50383733e-01 -1.71010072e-01\n",
      "  -1.11618897e-01 -2.12657685e-17]\n",
      " [-6.12323400e-17 -3.21393805e-01 -4.92403877e-01 -4.33012702e-01\n",
      "  -1.71010072e-01  1.71010072e-01  4.33012702e-01  4.92403877e-01\n",
      "   3.21393805e-01  6.12323400e-17]\n",
      " [-1.15079156e-16 -6.04022774e-01 -9.25416578e-01 -8.13797681e-01\n",
      "  -3.21393805e-01  3.21393805e-01  8.13797681e-01  9.25416578e-01\n",
      "   6.04022774e-01  1.15079156e-16]\n",
      " [-1.15079156e-16 -6.04022774e-01 -9.25416578e-01 -8.13797681e-01\n",
      "  -3.21393805e-01  3.21393805e-01  8.13797681e-01  9.25416578e-01\n",
      "   6.04022774e-01  1.15079156e-16]\n",
      " [-6.12323400e-17 -3.21393805e-01 -4.92403877e-01 -4.33012702e-01\n",
      "  -1.71010072e-01  1.71010072e-01  4.33012702e-01  4.92403877e-01\n",
      "   3.21393805e-01  6.12323400e-17]\n",
      " [ 2.12657685e-17  1.11618897e-01  1.71010072e-01  1.50383733e-01\n",
      "   5.93911746e-02 -5.93911746e-02 -1.50383733e-01 -1.71010072e-01\n",
      "  -1.11618897e-01 -2.12657685e-17]\n",
      " [ 9.38133875e-17  4.92403877e-01  7.54406507e-01  6.63413948e-01\n",
      "   2.62002630e-01 -2.62002630e-01 -6.63413948e-01 -7.54406507e-01\n",
      "  -4.92403877e-01 -9.38133875e-17]\n",
      " [ 1.22464680e-16  6.42787610e-01  9.84807753e-01  8.66025404e-01\n",
      "   3.42020143e-01 -3.42020143e-01 -8.66025404e-01 -9.84807753e-01\n",
      "  -6.42787610e-01 -1.22464680e-16]]\n"
     ]
    }
   ],
   "source": [
    "x = y = np.linspace(-np.pi, np.pi, 10)\n",
    "\n",
    "xx, yy = np.meshgrid(x,y)\n",
    "\n",
    "z = np.sin(xx)*np.cos(yy)\n",
    "\n",
    "print(z)"
   ]
  },
  {
   "cell_type": "markdown",
   "id": "c9425a10-7ae2-4b0c-91ac-ee802b5ea15c",
   "metadata": {},
   "source": [
    "**b).** Find the sum over the innermost 4x4 grid points of z.  (Your answer should be close to zero.) \n",
    "[1 pt]"
   ]
  },
  {
   "cell_type": "code",
   "execution_count": 99,
   "id": "9db0ff1c-6785-4221-bb59-2512d1335aab",
   "metadata": {},
   "outputs": [
    {
     "name": "stdout",
     "output_type": "stream",
     "text": [
      "-6.661338147750939e-16\n"
     ]
    }
   ],
   "source": [
    "print(np.sum(z[3:7, 3:7]))"
   ]
  },
  {
   "cell_type": "markdown",
   "id": "f06af487-0b32-4eff-b0c8-fa106c7f38bd",
   "metadata": {},
   "source": [
    "**c).** Define a function f(x) that returns $x^2$ if its input is a scalar. If its input is an array, return an array with the same shape containing the squares of the element values. Print f(z) and f(2). [1 pt]"
   ]
  },
  {
   "cell_type": "code",
   "execution_count": 112,
   "id": "7b5971c4-4bed-44d8-87ed-c50a73149159",
   "metadata": {},
   "outputs": [
    {
     "name": "stdout",
     "output_type": "stream",
     "text": [
      "[[1.49975978e-32 4.13175911e-01 9.69846310e-01 7.50000000e-01\n",
      "  1.16977778e-01 1.16977778e-01 7.50000000e-01 9.69846310e-01\n",
      "  4.13175911e-01 1.49975978e-32]\n",
      " [8.80095168e-33 2.42461578e-01 5.69129177e-01 4.40118067e-01\n",
      "  6.86453782e-02 6.86453782e-02 4.40118067e-01 5.69129177e-01\n",
      "  2.42461578e-01 8.80095168e-33]\n",
      " [4.52232910e-34 1.24587782e-02 2.92444446e-02 2.26152672e-02\n",
      "  3.52731162e-03 3.52731162e-03 2.26152672e-02 2.92444446e-02\n",
      "  1.24587782e-02 4.52232910e-34]\n",
      " [3.74939946e-33 1.03293978e-01 2.42461578e-01 1.87500000e-01\n",
      "  2.92444446e-02 2.92444446e-02 1.87500000e-01 2.42461578e-01\n",
      "  1.03293978e-01 3.74939946e-33]\n",
      " [1.32432122e-32 3.64843511e-01 8.56395844e-01 6.62266666e-01\n",
      "  1.03293978e-01 1.03293978e-01 6.62266666e-01 8.56395844e-01\n",
      "  3.64843511e-01 1.32432122e-32]\n",
      " [1.32432122e-32 3.64843511e-01 8.56395844e-01 6.62266666e-01\n",
      "  1.03293978e-01 1.03293978e-01 6.62266666e-01 8.56395844e-01\n",
      "  3.64843511e-01 1.32432122e-32]\n",
      " [3.74939946e-33 1.03293978e-01 2.42461578e-01 1.87500000e-01\n",
      "  2.92444446e-02 2.92444446e-02 1.87500000e-01 2.42461578e-01\n",
      "  1.03293978e-01 3.74939946e-33]\n",
      " [4.52232910e-34 1.24587782e-02 2.92444446e-02 2.26152672e-02\n",
      "  3.52731162e-03 3.52731162e-03 2.26152672e-02 2.92444446e-02\n",
      "  1.24587782e-02 4.52232910e-34]\n",
      " [8.80095168e-33 2.42461578e-01 5.69129177e-01 4.40118067e-01\n",
      "  6.86453782e-02 6.86453782e-02 4.40118067e-01 5.69129177e-01\n",
      "  2.42461578e-01 8.80095168e-33]\n",
      " [1.49975978e-32 4.13175911e-01 9.69846310e-01 7.50000000e-01\n",
      "  1.16977778e-01 1.16977778e-01 7.50000000e-01 9.69846310e-01\n",
      "  4.13175911e-01 1.49975978e-32]]\n",
      "4\n"
     ]
    }
   ],
   "source": [
    "def f(x):\n",
    "    if isinstance(x, np.ndarray):\n",
    "        return x**2\n",
    "    else:\n",
    "        return x**2\n",
    "    \n",
    "print(f(z))\n",
    "print(f(2))"
   ]
  },
  {
   "cell_type": "markdown",
   "id": "9b45345f-2052-49fa-91f8-c856fc0fc462",
   "metadata": {},
   "source": [
    "**d).** Create a 1D array containing the maximum value of z for each value of y.  (Hint:  see the help file on `np.max` for how to control the dimensionality of its output.) [2 pts]"
   ]
  },
  {
   "cell_type": "code",
   "execution_count": 114,
   "id": "293df23f-5a07-4f7a-b22c-da6645604248",
   "metadata": {},
   "outputs": [
    {
     "name": "stdout",
     "output_type": "stream",
     "text": [
      "[0.98480775 0.75440651 0.17101007 0.49240388 0.92541658 0.92541658\n",
      " 0.49240388 0.17101007 0.75440651 0.98480775]\n"
     ]
    }
   ],
   "source": [
    "print(np.max(z, axis=1))"
   ]
  },
  {
   "cell_type": "markdown",
   "id": "442a551a-13be-4e81-aa22-061eb25fb8c2",
   "metadata": {},
   "source": [
    "### 3.  Working with grids and random numbers\n",
    "\n",
    "**a).** Construct two 1D coordinate arrays x and y, each filled with 100 random numbers drawn from a uniform (flat) distribution ranging from 0 to 1 inclusive.  Sort the arrays. [2 pts]"
   ]
  },
  {
   "cell_type": "code",
   "execution_count": 124,
   "id": "47f34dfd-65df-42cd-a2e9-d82dbe3a200b",
   "metadata": {},
   "outputs": [
    {
     "name": "stdout",
     "output_type": "stream",
     "text": [
      "[0.00116546 0.0268371  0.03371251 0.03428371 0.03556604 0.0404675\n",
      " 0.04188057 0.04649392 0.05021149 0.05676537 0.06106487 0.06954411\n",
      " 0.11306618 0.12154151 0.1228342  0.13252469 0.13936843 0.14122487\n",
      " 0.14145854 0.14328414 0.14772945 0.15551487 0.16479763 0.16576714\n",
      " 0.17046973 0.17236418 0.17239926 0.19036268 0.19662523 0.20987727\n",
      " 0.21399168 0.22370228 0.22371419 0.25582853 0.25815873 0.25984743\n",
      " 0.27292658 0.30382201 0.31657567 0.32661121 0.34554826 0.35550094\n",
      " 0.36248474 0.3658812  0.3887499  0.40604069 0.40733922 0.43081207\n",
      " 0.43386654 0.43688904 0.44038029 0.47100837 0.50938902 0.51201593\n",
      " 0.51981038 0.53135945 0.53898622 0.54065403 0.54227214 0.55830955\n",
      " 0.55934744 0.57440967 0.59626999 0.59832069 0.61858516 0.63022341\n",
      " 0.63401846 0.6344483  0.63709808 0.6381198  0.65064356 0.67980246\n",
      " 0.70435968 0.70697095 0.70940644 0.71966153 0.72585642 0.76008612\n",
      " 0.77760325 0.7814456  0.78268106 0.79762044 0.8043159  0.81011184\n",
      " 0.81755522 0.8223897  0.83096716 0.85107029 0.87245164 0.88116115\n",
      " 0.89114278 0.9194288  0.9298339  0.93744866 0.93894309 0.95793987\n",
      " 0.98357433 0.98509089 0.99021403 0.99852295]\n",
      "[0.03128755 0.03806182 0.04101909 0.05174054 0.05888604 0.06148884\n",
      " 0.06566946 0.07551897 0.08107908 0.10167717 0.10412622 0.11604675\n",
      " 0.14166109 0.17812391 0.17908308 0.2002479  0.21122143 0.21198916\n",
      " 0.22624947 0.23925664 0.29478751 0.29488684 0.29604273 0.30362067\n",
      " 0.30852751 0.31743748 0.31787636 0.32595426 0.32978292 0.33229627\n",
      " 0.34634062 0.34932855 0.36453062 0.37028992 0.37601095 0.37924821\n",
      " 0.39532439 0.40875008 0.41139813 0.41933494 0.42549593 0.43430087\n",
      " 0.43820267 0.44845648 0.45201208 0.45454531 0.47212342 0.47310427\n",
      " 0.49664644 0.52294744 0.54808351 0.55243137 0.5861467  0.61028435\n",
      " 0.61510991 0.62612187 0.63685345 0.6483917  0.65847311 0.65864976\n",
      " 0.6686578  0.67638497 0.68354237 0.69235471 0.70259831 0.70280557\n",
      " 0.7058297  0.70653311 0.71533342 0.72232807 0.7322222  0.7557716\n",
      " 0.75918066 0.78186113 0.80467323 0.81103775 0.81433026 0.83528692\n",
      " 0.83660235 0.84014809 0.84247779 0.85448655 0.8626499  0.86549361\n",
      " 0.86977024 0.87404677 0.88235045 0.88877935 0.89164526 0.90949224\n",
      " 0.91680451 0.93028098 0.94842078 0.94992591 0.95063402 0.95074822\n",
      " 0.9596028  0.96437075 0.97386773 0.97676239]\n"
     ]
    }
   ],
   "source": [
    "import numpy.random as npr\n",
    "\n",
    "x = npr.rand(100)\n",
    "y = npr.rand(100)\n",
    "x = np.sort(x)\n",
    "y = np.sort(y)\n",
    "\n",
    "print(x)\n",
    "print(y)"
   ]
  },
  {
   "attachments": {},
   "cell_type": "markdown",
   "id": "a8459751-10a5-43c5-b78a-f6b088533e10",
   "metadata": {},
   "source": [
    "**b).** Construct 2D meshgrids from x and y.\n",
    "Use the meshgrids to construct the 2D uniformly sampled function\n",
    "$$ z(x,y) = \\exp \\biggl[-\\frac{x^2+y^2}{0.05}\\biggr]. $$\n",
    "[2 pts]"
   ]
  },
  {
   "cell_type": "code",
   "execution_count": 127,
   "id": "9918f8e7-e1ad-4f51-8dfa-27d401906881",
   "metadata": {},
   "outputs": [
    {
     "name": "stdout",
     "output_type": "stream",
     "text": [
      "[[9.80585555e-01 9.66588115e-01 9.58573650e-01 ... 3.65321023e-09\n",
      "  2.98384048e-09 2.14411336e-09]\n",
      " [9.71415293e-01 9.57548754e-01 9.49609240e-01 ... 3.61904606e-09\n",
      "  2.95593614e-09 2.12406199e-09]\n",
      " [9.66882328e-01 9.53080495e-01 9.45178029e-01 ... 3.60215832e-09\n",
      "  2.94214270e-09 2.11415037e-09]\n",
      " ...\n",
      " [8.35633361e-09 8.23705052e-09 8.16875302e-09 ... 3.11318511e-17\n",
      "  2.54276298e-17 1.82716607e-17]\n",
      " [5.78270509e-09 5.70015945e-09 5.65289658e-09 ... 2.15436963e-17\n",
      "  1.75962918e-17 1.26442565e-17]\n",
      " [5.16519736e-09 5.09146637e-09 5.04925048e-09 ... 1.92431468e-17\n",
      "  1.57172670e-17 1.12940361e-17]]\n"
     ]
    }
   ],
   "source": [
    "X, Y = np.meshgrid(x, y)\n",
    "z = np.exp(-(X**2 + Y**2)/0.05)\n",
    "print(z)"
   ]
  },
  {
   "cell_type": "markdown",
   "id": "bc0d8f8e-e567-4aa9-9692-bfb4a747cb63",
   "metadata": {},
   "source": [
    "**c).** NumPy provides a histogram function that we can use to find the frequency of occurrence of different values of z. The most common usage is\n",
    "`hist, bin_edges = np.histogram(z, bins=10)`\n",
    "where the bins argument supplies the number of bins (or a list of bin right-edge values), hist contains the histogram counts, and bin_edges contains the bin edges (its length is len(hist) + 1).\n",
    "Use the histogram function to construct a histogram of z values with bin width 0.1, and print the counts in a table like the one below.\n",
    "```\n",
    "1.) 0.0  0.1    9013\n",
    "2.) 0.1  0.2     245\n",
    "3.) 0.2  0.3     ...\n",
    "```\n",
    "[4 pts]"
   ]
  },
  {
   "cell_type": "code",
   "execution_count": 172,
   "id": "2250a166-372a-44ca-87d7-81115c9c53f0",
   "metadata": {},
   "outputs": [
    {
     "name": "stdout",
     "output_type": "stream",
     "text": [
      "1.)   0.0  0.1  9065\n",
      "2.)   0.1  0.2   272\n",
      "3.)   0.2  0.3   126\n",
      "4.)   0.3  0.4   126\n",
      "5.)   0.4  0.5    80\n",
      "6.)   0.5  0.6   100\n",
      "7.)   0.6  0.7    73\n",
      "8.)   0.7  0.8    48\n",
      "9.)   0.8  0.9    55\n",
      "10.)  0.9  1.0    55\n"
     ]
    }
   ],
   "source": [
    "hist, bin_edges = np.histogram(z, [0.0,0.1,0.2,0.3,0.4,0.5,0.6,0.7,0.8,0.9,1.0])\n",
    "\n",
    "for i in np.indices(hist.shape)[0]:\n",
    "    print(\"{i:4} {re:4.1f} {le:4.1f} {v:5}\".format(i=f\"{i+1}.)\",re=bin_edges[i],le=bin_edges[i+1], v=hist[i]))"
   ]
  }
 ],
 "metadata": {
  "kernelspec": {
   "display_name": "base",
   "language": "python",
   "name": "python3"
  },
  "language_info": {
   "codemirror_mode": {
    "name": "ipython",
    "version": 3
   },
   "file_extension": ".py",
   "mimetype": "text/x-python",
   "name": "python",
   "nbconvert_exporter": "python",
   "pygments_lexer": "ipython3",
   "version": "3.12.4"
  }
 },
 "nbformat": 4,
 "nbformat_minor": 5
}
