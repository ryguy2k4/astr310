{
 "cells": [
  {
   "cell_type": "code",
   "execution_count": 22,
   "metadata": {},
   "outputs": [],
   "source": [
    "import numpy as np\n",
    "from scipy import linalg\n",
    "import matplotlib.pyplot as plt"
   ]
  },
  {
   "cell_type": "markdown",
   "metadata": {
    "id": "1iuUzZqDehMA"
   },
   "source": [
    "# ASTR 310 Lecture 22 - linear equations\n",
    "\n",
    "### Exercise 1: matrix madness\n",
    "\n",
    "**1.)** Perform the matrix multiplication.  [2 pts]\n",
    "\n",
    "   $$\n",
    "   \\begin{bmatrix}\n",
    "   3 & -2 & 1 \\\\\n",
    "   6 & 0 & 4 \\\\\n",
    "   5 & 2 & 3 \\\\\n",
    "   \\end{bmatrix}\n",
    "   \\begin{bmatrix}\n",
    "   -1 & 4 \\\\\n",
    "   3 & 2 \\\\\n",
    "   7 & -4 \\\\\n",
    "   \\end{bmatrix}\n",
    "   $$"
   ]
  },
  {
   "cell_type": "code",
   "execution_count": 2,
   "metadata": {},
   "outputs": [
    {
     "data": {
      "text/plain": [
       "array([[-2,  4],\n",
       "       [22,  8],\n",
       "       [22, 12]])"
      ]
     },
     "execution_count": 2,
     "metadata": {},
     "output_type": "execute_result"
    }
   ],
   "source": [
    "A = np.array([\n",
    "    [3, -2, 1],\n",
    "    [6, 0, 4],\n",
    "    [5, 2, 3]\n",
    "])\n",
    "\n",
    "B = np.array([\n",
    "    [-1, 4],\n",
    "    [3, 2],\n",
    "    [7, -4]\n",
    "])\n",
    "\n",
    "A @ B"
   ]
  },
  {
   "cell_type": "markdown",
   "metadata": {
    "id": "1iuUzZqDehMA"
   },
   "source": [
    "**2.)** Find the inverse of the matrix.  [2 pts]\n",
    "\n",
    "   $$\n",
    "   \\begin{bmatrix}\n",
    "   3.6 & -4.1 & 1.3 & 2.5 \\\\\n",
    "   0.4 & 6.2 & -1.5 & 3.0 \\\\\n",
    "   5.9 & 7.0 & -3.1 & 8.2 \\\\\n",
    "   4.8 & -5.6 & 2.9 & 7.3 \\\\\n",
    "   \\end{bmatrix}\n",
    "   $$"
   ]
  },
  {
   "cell_type": "code",
   "execution_count": 5,
   "metadata": {},
   "outputs": [
    {
     "data": {
      "text/plain": [
       "array([[ 0.97813868,  0.52433284, -0.17479228, -0.35411624],\n",
       "       [ 0.60841088,  0.67406156, -0.25603252, -0.19777332],\n",
       "       [ 1.35007366,  1.45103917, -0.70650193, -0.26506655],\n",
       "       [-0.71276416, -0.40411869,  0.19918855,  0.32341375]])"
      ]
     },
     "execution_count": 5,
     "metadata": {},
     "output_type": "execute_result"
    }
   ],
   "source": [
    "A = np.array([\n",
    "    [3.6, -4.1, 1.3, 2.5],\n",
    "    [0.4, 6.2, -1.5, 3.0],\n",
    "    [5.9, 7.0, -3.1, 8.2],\n",
    "    [4.8, -5.6, 2.9, 7.3]\n",
    "])\n",
    "\n",
    "linalg.inv(A)"
   ]
  },
  {
   "cell_type": "markdown",
   "metadata": {
    "id": "1iuUzZqDehMA"
   },
   "source": [
    "**3.)** Solve the linear system and check the result.  [2 pts]\n",
    "\n",
    "   $$\n",
    "   \\begin{bmatrix}\n",
    "   4 & 1 & -3 & 2 \\\\\n",
    "   0 & 7 & 5 & 1 \\\\\n",
    "   -9 & 2 & 7 & 3 \\\\\n",
    "   -4 & 5 & 1 & 8 \\\\\n",
    "   \\end{bmatrix}\n",
    "   \\begin{bmatrix}\n",
    "   x_0 \\\\\n",
    "   x_1 \\\\\n",
    "   x_2 \\\\\n",
    "   x_3 \\\\\n",
    "   \\end{bmatrix}\n",
    "   =\n",
    "   \\begin{bmatrix}\n",
    "   2 \\\\\n",
    "   8 \\\\\n",
    "   1 \\\\\n",
    "   7 \\\\\n",
    "   \\end{bmatrix}\n",
    "   $$"
   ]
  },
  {
   "cell_type": "code",
   "execution_count": 8,
   "metadata": {
    "id": "LdyPKRQIePs6"
   },
   "outputs": [
    {
     "data": {
      "text/plain": [
       "array([-0.198,  1.514, -0.498, -0.108])"
      ]
     },
     "execution_count": 8,
     "metadata": {},
     "output_type": "execute_result"
    }
   ],
   "source": [
    "A = np.array([\n",
    "    [4, 1, -3, 2],\n",
    "    [0, 7, 5, 1],\n",
    "    [-9, 2, 7, 3],\n",
    "    [-4, 5, 1, 8]\n",
    "])\n",
    "\n",
    "b = np.array([2, 8, 1, 7])\n",
    "\n",
    "linalg.solve(A, b)"
   ]
  },
  {
   "cell_type": "markdown",
   "metadata": {
    "id": "D9iFuhVHfICo"
   },
   "source": [
    "### Exercise 2: rotation\n",
    "\n",
    "Rotating a 2D vector through an angle $\\theta$ corresponds to multiplying on the left by the matrix\n",
    "\n",
    "$$\n",
    "R(\\theta) = \\begin{bmatrix}\n",
    "\\cos\\theta & -\\sin\\theta \\\\\n",
    "\\sin\\theta & \\cos\\theta\n",
    "\\end{bmatrix}\n",
    "$$\n",
    "\n",
    "* Create a list or an array of 2D position vectors corresponding to a 11x11 grid of points in the unit square.\n",
    "* Define a function that returns the rotation matrix for a given angle $\\theta$.\n",
    "* Use your function to rotate the points through an angle of 25°.  Plot the original and new positions (in the same panel) using dots of different colors.\n",
    "\n",
    "[4 pts]"
   ]
  },
  {
   "cell_type": "code",
   "execution_count": 55,
   "metadata": {},
   "outputs": [
    {
     "data": {
      "text/plain": [
       "<matplotlib.collections.PathCollection at 0x127b10440>"
      ]
     },
     "execution_count": 55,
     "metadata": {},
     "output_type": "execute_result"
    },
    {
     "data": {
      "image/png": "[encoded data removed]",
      "text/plain": [
       "<Figure size 640x480 with 1 Axes>"
      ]
     },
     "metadata": {},
     "output_type": "display_data"
    }
   ],
   "source": [
    "x, y = np.meshgrid(np.linspace(0, 1, 11), np.linspace(0, 1, 11))\n",
    "position_vectors = np.stack((x, y), axis=-1).reshape(-1, 2)\n",
    "\n",
    "def rotation_matrix(theta):\n",
    "    theta = theta * np.pi / 180\n",
    "    return np.array([\n",
    "        [np.cos(theta), -np.sin(theta)],\n",
    "        [np.sin(theta), np.cos(theta)]\n",
    "    ])\n",
    "\n",
    "rotated_points = rotation_matrix(25) @ position_vectors.T\n",
    "\n",
    "plt.scatter(position_vectors[:,0], position_vectors[:,1], color='blue')\n",
    "plt.scatter(rotated_points.T[:,0], rotated_points.T[:,1], color='orange')"
   ]
  },
  {
   "cell_type": "markdown",
   "metadata": {
    "id": "D9iFuhVHfICo"
   },
   "source": [
    "* Now rotate about the center of the grid (0.5, 0.5) instead of the origin.\n",
    "\n",
    "[3 pts]"
   ]
  },
  {
   "cell_type": "code",
   "execution_count": 57,
   "metadata": {},
   "outputs": [
    {
     "data": {
      "text/plain": [
       "<matplotlib.collections.PathCollection at 0x127f9fce0>"
      ]
     },
     "execution_count": 57,
     "metadata": {},
     "output_type": "execute_result"
    },
    {
     "data": {
      "image/png": "[encoded data removed]",
      "text/plain": [
       "<Figure size 640x480 with 1 Axes>"
      ]
     },
     "metadata": {},
     "output_type": "display_data"
    }
   ],
   "source": [
    "x, y = np.meshgrid(np.linspace(0, 1, 11), np.linspace(0, 1, 11))\n",
    "position_vectors = np.stack((x, y), axis=-1).reshape(-1, 2)\n",
    "\n",
    "def rotation_matrix(theta):\n",
    "    theta = theta * np.pi / 180\n",
    "    return np.array([\n",
    "        [np.cos(theta), -np.sin(theta)],\n",
    "        [np.sin(theta), np.cos(theta)]\n",
    "    ])\n",
    "\n",
    "rotated_points = (rotation_matrix(25) @ (position_vectors.T - 0.5*np.ones_like(position_vectors.T))) + 0.5*np.ones_like(position_vectors.T)\n",
    "\n",
    "plt.scatter(position_vectors[:,0], position_vectors[:,1], color='blue')\n",
    "plt.scatter(rotated_points.T[:,0], rotated_points.T[:,1], color='orange')"
   ]
  },
  {
   "cell_type": "markdown",
   "metadata": {
    "id": "6DgBRCZVffxc"
   },
   "source": [
    "### Exercise 3: Chemical equilibrium\n",
    "\n",
    "Consider a mixture of three particle species that interact via the reactions\n",
    "$$\n",
    "A + A \\rightleftharpoons B ~~ \\text{and} ~~\n",
    "A + B \\rightleftharpoons C.\n",
    "$$\n",
    "At a particular temperature, the reaction rates are such that equilibrium is described by\n",
    "$$ K_{AA}\\; n_A^2 = n_B/\\tau_B $$\n",
    "$$ K_{AB}\\; n_A n_B = n_C/\\tau_C.$$ \n",
    "\n",
    "Here the $Ks$ are the reaction rate coefficients for the forward reactions and the $\\tau$'s are the decay lifetimes of species B and C.   Let $K_{AA} = 10^{–8}$ $cm^3$ $s^{–1}$ and $K_{AB} = 10^{–5}$ $cm^3$ $s^{–1}$, and $\\tau_B = 100$ s and $\\tau_C = 0.1$ s.  Thus, the reactions involving C are much faster than the others.\n",
    "\n",
    "Notice that at this point we have two equations and three unknowns.  We need another constraint to be able to solve this system.  For example, we might assume the total number of particles is conserved.  If $n = n_A + n_B + n_C = 10^6$ $cm^{–3}$ (i.e. a constant), what are the equilibrium fractions $n_A/n$, $n_B/n$, and $n_C/n$? \n",
    "\n",
    "The system to solve can be found by eliminating $n_C$ in favor of $n_A$ and $n_B$ and $n$:\n",
    "\n",
    "$$\n",
    "\\begin{bmatrix}\n",
    "K_{AA} n_A & -\\tau_B^{-1} \\\\\n",
    "\\tau_C^{-1} & K_{AB} n_B + \\tau_C^{-1}\n",
    "\\end{bmatrix}\n",
    "\\begin{bmatrix}\n",
    "\\;n_A\\; \\\\\n",
    "\\;n_B\\;\n",
    "\\end{bmatrix} = \n",
    "\\begin{bmatrix}\n",
    "0 \\\\\n",
    "\\;n \\tau_C^{-1}\\;\n",
    "\\end{bmatrix}\n",
    "$$\n",
    "\n",
    "Hint: approach it iteratively. Start with $n_A = 10^6$ $cm^{–3}$. Solve the system for $n_A$ and $n_B$, then plug that $n_A$ into the coefficient matrix above and solve again. Keep going until the answer is consistent to one part in $10^5$.  Full credit on this one requires iterating until convergence is achieved, not just executing a fixed number of iterations.\n",
    "\n",
    "You should get $n_A/n \\approx 0.54$  and $n_B/n \\approx 0.30$.\n",
    "\n",
    "[7 pts]\n"
   ]
  },
  {
   "cell_type": "code",
   "execution_count": 96,
   "metadata": {
    "id": "sNWpxSJaffSL"
   },
   "outputs": [
    {
     "name": "stdout",
     "output_type": "stream",
     "text": [
      "0.5698402909980786\n",
      "0.3247179572468305\n"
     ]
    }
   ],
   "source": [
    "Kaa = 1e-8\n",
    "Tb = 100\n",
    "Tc = 0.1\n",
    "Kab = 1e-5\n",
    "n = 1e6\n",
    "\n",
    "Na_prev = 0\n",
    "Na = 1e6\n",
    "Nb = 0\n",
    "\n",
    "\n",
    "while(abs(Na - Na_prev) > 1e-5):\n",
    "    A = np.array([\n",
    "        [Kaa*Na, -Tb**-1],\n",
    "        [Tc**-1, Kab*Nb + Tc**-1]\n",
    "    ])\n",
    "\n",
    "    b = np.array([0, n*Tc**-1])\n",
    "\n",
    "    ans = linalg.solve(A, b)\n",
    "\n",
    "    Na_prev = Na\n",
    "    Na = ans[0]\n",
    "    Nb = ans[1]\n",
    "\n",
    "print(Na/n)\n",
    "print(Nb/n)"
   ]
  }
 ],
 "metadata": {
  "colab": {
   "provenance": []
  },
  "kernelspec": {
   "display_name": "base",
   "language": "python",
   "name": "python3"
  },
  "language_info": {
   "codemirror_mode": {
    "name": "ipython",
    "version": 3
   },
   "file_extension": ".py",
   "mimetype": "text/x-python",
   "name": "python",
   "nbconvert_exporter": "python",
   "pygments_lexer": "ipython3",
   "version": "3.12.4"
  }
 },
 "nbformat": 4,
 "nbformat_minor": 4
}
