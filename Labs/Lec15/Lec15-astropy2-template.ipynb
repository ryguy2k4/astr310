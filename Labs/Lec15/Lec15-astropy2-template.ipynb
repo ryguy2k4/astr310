{
 "cells": [
  {
   "cell_type": "markdown",
   "metadata": {
    "id": "jOA1B_OyFxrM"
   },
   "source": [
    "# ASTR 310 Lecture 15 - astropy 2\n",
    "\n",
    "### 1. Reading a table and converting coordinates/times (10 points total)\n",
    "\n",
    "* Download the file `fermi_lat_grbs.dat` from today’s exercise page on the website. It contains 1000 gamma-ray bursts observed by the Fermi satellite between 2010 and 2018.\n",
    "\n",
    "* Use the `astropy.io.ascii.read()` routine to read the file into a table. You need to specify the `header_start`, `data_start`, and `delimiter` arguments.\n",
    "\n",
    "* Display the column headers using the `columns` or `colnames` method.  Print the units on the `ra` and `dec` columns.\n",
    "\n",
    "[3 pts]"
   ]
  },
  {
   "cell_type": "code",
   "execution_count": 112,
   "metadata": {},
   "outputs": [],
   "source": [
    "import astropy.io.ascii\n",
    "import astropy.coordinates\n",
    "import astropy.units as u\n",
    "import numpy as np"
   ]
  },
  {
   "cell_type": "code",
   "execution_count": 113,
   "metadata": {},
   "outputs": [
    {
     "name": "stdout",
     "output_type": "stream",
     "text": [
      "['col0', 'name', 'ra', 'dec', 'trigger_time', 't90', 't90_error', 't90_start', 'fluence', 'fluence_error', 'flux_1024', 'flux_1024_error', 'flux_1024_time', 'flux_64', 'flux_64_error', 'flnc_band_ampl', 'flnc_band_ampl_pos_err', 'flnc_band_ampl_neg_err', 'flnc_band_epeak', 'flnc_band_epeak_pos_err', 'flnc_band_epeak_neg_err', 'flnc_band_alpha', 'flnc_band_alpha_pos_err', 'flnc_band_alpha_neg_err', 'flnc_band_beta', 'flnc_band_beta_pos_err', 'flnc_band_beta_neg_err', 'flnc_spectrum_start', 'flnc_spectrum_stop', 'pflx_best_fitting_model', 'pflx_best_model_redchisq', 'flnc_best_fitting_model', 'flnc_best_model_redchisq', '_1']\n",
      "None\n",
      "None\n"
     ]
    }
   ],
   "source": [
    "table = astropy.io.ascii.read(\"fermi_lat_grbs.dat\", guess=False, header_start=2, data_start=3, delimiter='|')\n",
    "print(table.colnames)\n",
    "print(table['ra'].unit)\n",
    "print(table['dec'].unit)"
   ]
  },
  {
   "cell_type": "markdown",
   "metadata": {
    "id": "jOA1B_OyFxrM"
   },
   "source": [
    "* Notice that RA and DEC are in sexagesimal format, represented as strings. Use `astropy.coordinates.Angle` to convert them to decimal degrees.  Print the table or try the `show_in_notebook` method.  (The method sometimes gets carried away, so you might like to restrict it to printing the first 10 rows.)  [3 pts]"
   ]
  },
  {
   "cell_type": "code",
   "execution_count": 114,
   "metadata": {},
   "outputs": [
    {
     "data": {
      "text/html": [
       "<div><i>Table length=1000</i>\n",
       "<table id=\"table5481163728\" class=\"table-striped table-bordered table-condensed\">\n",
       "<thead><tr><th>col0</th><th>name</th><th>ra</th><th>dec</th><th>trigger_time</th><th>t90</th><th>t90_error</th><th>t90_start</th><th>fluence</th><th>fluence_error</th><th>flux_1024</th><th>flux_1024_error</th><th>flux_1024_time</th><th>flux_64</th><th>flux_64_error</th><th>flnc_band_ampl</th><th>flnc_band_ampl_pos_err</th><th>flnc_band_ampl_neg_err</th><th>flnc_band_epeak</th><th>flnc_band_epeak_pos_err</th><th>flnc_band_epeak_neg_err</th><th>flnc_band_alpha</th><th>flnc_band_alpha_pos_err</th><th>flnc_band_alpha_neg_err</th><th>flnc_band_beta</th><th>flnc_band_beta_pos_err</th><th>flnc_band_beta_neg_err</th><th>flnc_spectrum_start</th><th>flnc_spectrum_stop</th><th>pflx_best_fitting_model</th><th>pflx_best_model_redchisq</th><th>flnc_best_fitting_model</th><th>flnc_best_model_redchisq</th><th>_1</th></tr></thead>\n",
       "<thead><tr><th></th><th></th><th>deg</th><th>deg</th><th></th><th></th><th></th><th></th><th></th><th></th><th></th><th></th><th></th><th></th><th></th><th></th><th></th><th></th><th></th><th></th><th></th><th></th><th></th><th></th><th></th><th></th><th></th><th></th><th></th><th></th><th></th><th></th><th></th><th></th></tr></thead>\n",
       "<thead><tr><th>int64</th><th>str12</th><th>float64</th><th>float64</th><th>str23</th><th>float64</th><th>float64</th><th>float64</th><th>float64</th><th>float64</th><th>float64</th><th>float64</th><th>float64</th><th>float64</th><th>float64</th><th>float64</th><th>float64</th><th>float64</th><th>float64</th><th>float64</th><th>float64</th><th>float64</th><th>float64</th><th>float64</th><th>float64</th><th>float64</th><th>float64</th><th>float64</th><th>float64</th><th>str9</th><th>float64</th><th>str9</th><th>float64</th><th>int64</th></tr></thead>\n",
       "<tr><td>--</td><td>GRB120830212</td><td>22.524666666666665</td><td>-80.03999999999999</td><td>2012-08-30 05:04:52.744</td><td>16.064</td><td>3.649</td><td>0.448</td><td>7.5151e-06</td><td>2.3629e-07</td><td>8.6556</td><td>0.4512</td><td>1.344</td><td>14.842</td><td>2.022</td><td>0.01907516</td><td>0.002260342</td><td>0.002260342</td><td>206.6716</td><td>19.34743</td><td>19.34743</td><td>-0.7385905</td><td>0.09011394</td><td>0.09011394</td><td>-2.908419</td><td>7.539405</td><td>7.539405</td><td>-1.024</td><td>17.408</td><td>pflx_comp</td><td>1.075</td><td>flnc_comp</td><td>0.891</td><td>--</td></tr>\n",
       "<tr><td>--</td><td>GRB140323433</td><td>23.79727777777778</td><td>-79.905</td><td>2014-03-23 10:22:53.120</td><td>111.426</td><td>3.027</td><td>5.056</td><td>3.2424e-05</td><td>1.9208e-07</td><td>9.6741</td><td>0.2758</td><td>25.088</td><td>13.1489</td><td>1.2081</td><td>0.01208579</td><td>0.0005032783</td><td>0.0005032783</td><td>143.2164</td><td>21.11698</td><td>21.11698</td><td>-1.041237</td><td>0.02542675</td><td>0.02542675</td><td>-5.704211</td><td>23.21102</td><td>23.21102</td><td>-2.048</td><td>129.02</td><td>pflx_comp</td><td>0.955</td><td>flnc_comp</td><td>1.131</td><td>--</td></tr>\n",
       "<tr><td>--</td><td>GRB181007737</td><td>14.081333333333333</td><td>-79.69</td><td>2018-10-07 17:41:28.372</td><td>23.552</td><td>0.362</td><td>-0.256</td><td>3.0597e-06</td><td>3.0382e-08</td><td>2.8347</td><td>0.2137</td><td>-0.192</td><td>4.4329</td><td>0.941</td><td>--</td><td>--</td><td>--</td><td>--</td><td>--</td><td>--</td><td>--</td><td>--</td><td>--</td><td>--</td><td>--</td><td>--</td><td>--</td><td>--</td><td>--</td><td>--</td><td>--</td><td>--</td><td>--</td></tr>\n",
       "<tr><td>--</td><td>GRB100325246</td><td>13.942666666666668</td><td>-79.1</td><td>2010-03-25 05:54:43.949</td><td>8.192</td><td>1.086</td><td>-1.536</td><td>1.334e-06</td><td>1.7358e-08</td><td>4.9033</td><td>0.2367</td><td>-0.512</td><td>6.4777</td><td>0.9864</td><td>0.04793454</td><td>0.02380955</td><td>0.02380955</td><td>34.98019</td><td>5.283089</td><td>5.283089</td><td>-0.6888088</td><td>0.298304</td><td>0.298304</td><td>-2.467626</td><td>0.2204204</td><td>0.2204204</td><td>-2.048</td><td>7.168</td><td>pflx_comp</td><td>1.089</td><td>flnc_comp</td><td>1.003</td><td>--</td></tr>\n",
       "<tr><td>--</td><td>GRB100507577</td><td>0.19333333333333333</td><td>-79.01</td><td>2010-05-07 13:51:15.728</td><td>44.033</td><td>5.221</td><td>-1.024</td><td>9.9681e-06</td><td>1.1543e-07</td><td>3.2911</td><td>0.2039</td><td>15.168</td><td>4.7504</td><td>0.95</td><td>0.04973427</td><td>0.007101182</td><td>0.007101182</td><td>133.6812</td><td>7.531464</td><td>7.531464</td><td>0.4626522</td><td>0.1081798</td><td>0.1081798</td><td>-3.466067</td><td>1.403857</td><td>1.403857</td><td>-13.312</td><td>31.744</td><td>pflx_plaw</td><td>1.157</td><td>flnc_comp</td><td>0.998</td><td>--</td></tr>\n",
       "<tr><td>--</td><td>GRB171206122</td><td>0.632</td><td>-78.2</td><td>2017-12-06 02:55:44.937</td><td>15.36</td><td>3.083</td><td>-1.536</td><td>1.5221e-06</td><td>7.2998e-08</td><td>4.8222</td><td>0.4886</td><td>0.448</td><td>11.4606</td><td>3.5981</td><td>0.007276174</td><td>0.001115594</td><td>0.001115594</td><td>629.9004</td><td>209.734</td><td>209.734</td><td>-1.292658</td><td>0.1413209</td><td>0.1413209</td><td>-6.331875</td><td>379.0621</td><td>379.0621</td><td>-1.024</td><td>3.072</td><td>pflx_plaw</td><td>0.989</td><td>flnc_comp</td><td>1.001</td><td>--</td></tr>\n",
       "<tr><td>--</td><td>GRB140518709</td><td>16.269333333333332</td><td>-77.86</td><td>2014-05-18 17:00:43.425</td><td>0.704</td><td>0.466</td><td>-0.64</td><td>3.8053e-07</td><td>2.6848e-08</td><td>2.454</td><td>0.3526</td><td>-1.024</td><td>5.3743</td><td>1.1495</td><td>5633.034</td><td>221743.6</td><td>221743.6</td><td>182.9023</td><td>69.33234</td><td>69.33234</td><td>26.63325</td><td>73.72793</td><td>73.72793</td><td>-1.975177</td><td>0.3770473</td><td>0.3770473</td><td>-0.192</td><td>-0.128</td><td>pflx_plaw</td><td>1.026</td><td>flnc_plaw</td><td>1.025</td><td>--</td></tr>\n",
       "<tr><td>--</td><td>GRB130623488</td><td>1.381527777777778</td><td>-77.78388888888888</td><td>2013-06-23 11:42:47.046</td><td>22.272</td><td>0.923</td><td>-1.792</td><td>2.4645e-06</td><td>3.0042e-08</td><td>5.2588</td><td>0.2332</td><td>13.888</td><td>8.3458</td><td>1.2823</td><td>0.01909407</td><td>0.02033522</td><td>0.02033522</td><td>28.06861</td><td>4.528196</td><td>4.528196</td><td>-1.095303</td><td>0.3499717</td><td>0.3499717</td><td>-2.362571</td><td>0.1704245</td><td>0.1704245</td><td>-2.048</td><td>20.48</td><td>pflx_plaw</td><td>1.142</td><td>flnc_comp</td><td>1.061</td><td>--</td></tr>\n",
       "<tr><td>--</td><td>GRB110212550</td><td>20.755333333333333</td><td>-74.5</td><td>2011-02-12 13:12:33.523</td><td>0.064</td><td>0.036</td><td>-0.048</td><td>6.3493e-07</td><td>1.2257e-08</td><td>2.5032</td><td>0.1914</td><td>-0.576</td><td>17.3369</td><td>1.1526</td><td>0.07056738</td><td>0.007358178</td><td>0.007358178</td><td>476.1722</td><td>72.83395</td><td>72.83395</td><td>-0.4482385</td><td>0.1132326</td><td>0.1132326</td><td>-3.612476</td><td>4.107279</td><td>4.107279</td><td>-0.064</td><td>0.064</td><td>pflx_comp</td><td>0.985</td><td>flnc_comp</td><td>1.169</td><td>--</td></tr>\n",
       "<tr><td>...</td><td>...</td><td>...</td><td>...</td><td>...</td><td>...</td><td>...</td><td>...</td><td>...</td><td>...</td><td>...</td><td>...</td><td>...</td><td>...</td><td>...</td><td>...</td><td>...</td><td>...</td><td>...</td><td>...</td><td>...</td><td>...</td><td>...</td><td>...</td><td>...</td><td>...</td><td>...</td><td>...</td><td>...</td><td>...</td><td>...</td><td>...</td><td>...</td><td>...</td></tr>\n",
       "<tr><td>--</td><td>GRB120121101</td><td>15.711333333333332</td><td>-39.34</td><td>2012-01-21 02:25:53.799</td><td>18.432</td><td>3.727</td><td>-3.328</td><td>1.9545e-06</td><td>3.0232e-08</td><td>2.6635</td><td>0.2093</td><td>3.264</td><td>4.2125</td><td>0.9149</td><td>0.01362908</td><td>0.003484668</td><td>0.003484668</td><td>90.40485</td><td>9.082047</td><td>9.082047</td><td>-0.7428194</td><td>0.1689899</td><td>0.1689899</td><td>-2.856352</td><td>4.493803</td><td>4.493803</td><td>-3.072</td><td>11.264</td><td>pflx_plaw</td><td>1.047</td><td>flnc_comp</td><td>0.979</td><td>--</td></tr>\n",
       "<tr><td>--</td><td>GRB170510217</td><td>10.660722222222223</td><td>-39.32805555555556</td><td>2017-05-10 05:12:25.735</td><td>127.746</td><td>0.923</td><td>2.816</td><td>4.3867e-05</td><td>7.6434e-08</td><td>16.958</td><td>0.4424</td><td>21.824</td><td>22.1853</td><td>1.8051</td><td>0.01410634</td><td>0.000430258</td><td>0.000430258</td><td>365.9475</td><td>24.40994</td><td>24.40994</td><td>-1.029861</td><td>0.02304006</td><td>0.02304006</td><td>-2.277343</td><td>0.158957</td><td>0.158957</td><td>-15.36</td><td>139.26</td><td>pflx_comp</td><td>1.208</td><td>flnc_band</td><td>1.205</td><td>--</td></tr>\n",
       "<tr><td>--</td><td>GRB170802638</td><td>3.486666666666667</td><td>-39.21</td><td>2017-08-02 15:18:24.801</td><td>2.24</td><td>0.143</td><td>-0.128</td><td>2.4481e-06</td><td>1.908e-08</td><td>8.2026</td><td>0.2674</td><td>1.408</td><td>37.895</td><td>1.5982</td><td>0.0100369</td><td>0.001201601</td><td>0.001201601</td><td>540.9509</td><td>161.9837</td><td>161.9837</td><td>-0.7256588</td><td>0.1218049</td><td>0.1218049</td><td>-2.070378</td><td>0.5131812</td><td>0.5131812</td><td>-1.024</td><td>3.072</td><td>pflx_comp</td><td>1.089</td><td>flnc_comp</td><td>0.993</td><td>--</td></tr>\n",
       "<tr><td>--</td><td>GRB150523690</td><td>13.484666666666666</td><td>-39.2</td><td>2015-05-23 16:33:56.768</td><td>114.69</td><td>26.576</td><td>-15.872</td><td>5.729e-06</td><td>1.2832e-07</td><td>2.9827</td><td>0.3769</td><td>49.537</td><td>8.5543</td><td>2.4851</td><td>0.004930508</td><td>0.00128453</td><td>0.00128453</td><td>226.99</td><td>85.00865</td><td>85.00865</td><td>-1.301927</td><td>0.1709</td><td>0.1709</td><td>-10.23574</td><td>109581.9</td><td>109581.9</td><td>-5.12</td><td>50.176</td><td>pflx_plaw</td><td>0.907</td><td>flnc_plaw</td><td>1.121</td><td>--</td></tr>\n",
       "<tr><td>--</td><td>GRB140619490</td><td>20.330666666666666</td><td>-39.18</td><td>2014-06-19 11:46:01.532</td><td>0.448</td><td>0.516</td><td>-0.192</td><td>2.1028e-07</td><td>4.3831e-08</td><td>2.0017</td><td>0.4278</td><td>-0.32</td><td>16.0105</td><td>2.6051</td><td>0.07143207</td><td>0.02516497</td><td>0.02516497</td><td>243.9339</td><td>52.11312</td><td>52.11312</td><td>-0.5019913</td><td>0.349671</td><td>0.349671</td><td>-9.052113</td><td>3834.045</td><td>3834.045</td><td>-0.064</td><td>0.064</td><td>pflx_plaw</td><td>0.999</td><td>flnc_comp</td><td>1.08</td><td>--</td></tr>\n",
       "<tr><td>--</td><td>GRB170607946</td><td>16.444055555555554</td><td>-39.15888888888889</td><td>2017-06-07 22:41:58.947</td><td>18.176</td><td>0.362</td><td>2.816</td><td>4.9527e-05</td><td>1.1727e-07</td><td>13.2836</td><td>0.4546</td><td>20.352</td><td>17.8796</td><td>1.7529</td><td>0.02359693</td><td>0.0004444607</td><td>0.0004444607</td><td>571.4997</td><td>21.48706</td><td>21.48706</td><td>-0.7522203</td><td>0.02029115</td><td>0.02029115</td><td>-2.710294</td><td>0.2337897</td><td>0.2337897</td><td>-1.024</td><td>104.45</td><td>pflx_comp</td><td>0.988</td><td>flnc_comp</td><td>1.297</td><td>--</td></tr>\n",
       "<tr><td>--</td><td>GRB120926426</td><td>3.9813333333333336</td><td>-37.2</td><td>2012-09-26 10:13:16.043</td><td>60.161</td><td>3.482</td><td>-2.304</td><td>4.3826e-06</td><td>9.1741e-08</td><td>3.9374</td><td>0.2969</td><td>0.192</td><td>6.9881</td><td>1.4453</td><td>0.00744562</td><td>0.001367155</td><td>0.001367155</td><td>239.4517</td><td>62.4855</td><td>62.4855</td><td>-0.9930754</td><td>0.1155004</td><td>0.1155004</td><td>-2.355139</td><td>0.703982</td><td>0.703982</td><td>-3.072</td><td>84.992</td><td>pflx_comp</td><td>1.064</td><td>flnc_comp</td><td>0.886</td><td>--</td></tr>\n",
       "<tr><td>--</td><td>GRB130627372</td><td>12.296333333333333</td><td>-37.086111111111116</td><td>2013-06-27 08:55:05.934</td><td>35.84</td><td>1.717</td><td>-17.92</td><td>1.5766e-06</td><td>2.4121e-08</td><td>3.0798</td><td>0.2671</td><td>-0.768</td><td>5.1567</td><td>1.3773</td><td>0.007663606</td><td>0.002470681</td><td>0.002470681</td><td>100.6275</td><td>22.5331</td><td>22.5331</td><td>-0.9852166</td><td>0.2328737</td><td>0.2328737</td><td>-13.29716</td><td>1443153.0</td><td>1443153.0</td><td>-6.144</td><td>8.192</td><td>pflx_plaw</td><td>1.06</td><td>flnc_comp</td><td>0.894</td><td>--</td></tr>\n",
       "<tr><td>--</td><td>GRB101102840</td><td>18.978666666666665</td><td>-37.03</td><td>2010-11-02 20:10:07.430</td><td>43.52</td><td>6.676</td><td>-1.792</td><td>1.7217e-06</td><td>3.2824e-08</td><td>1.6418</td><td>0.2038</td><td>4.224</td><td>4.6827</td><td>1.0494</td><td>0.006744427</td><td>0.003248014</td><td>0.003248014</td><td>153.6728</td><td>78.30256</td><td>78.30256</td><td>-0.5222652</td><td>0.3990126</td><td>0.3990126</td><td>-1.555496</td><td>0.1046667</td><td>0.1046667</td><td>-2.048</td><td>18.432</td><td>pflx_plaw</td><td>1.075</td><td>flnc_comp</td><td>0.987</td><td>--</td></tr>\n",
       "</table></div>"
      ],
      "text/plain": [
       "<Table length=1000>\n",
       " col0     name              ra         ... flnc_best_model_redchisq   _1 \n",
       "                           deg         ...                               \n",
       "int64    str12           float64       ...         float64          int64\n",
       "----- ------------ ------------------- ... ------------------------ -----\n",
       "   -- GRB120830212  22.524666666666665 ...                    0.891    --\n",
       "   -- GRB140323433   23.79727777777778 ...                    1.131    --\n",
       "   -- GRB181007737  14.081333333333333 ...                       --    --\n",
       "   -- GRB100325246  13.942666666666668 ...                    1.003    --\n",
       "   -- GRB100507577 0.19333333333333333 ...                    0.998    --\n",
       "   -- GRB171206122               0.632 ...                    1.001    --\n",
       "   -- GRB140518709  16.269333333333332 ...                    1.025    --\n",
       "   -- GRB130623488   1.381527777777778 ...                    1.061    --\n",
       "   -- GRB110212550  20.755333333333333 ...                    1.169    --\n",
       "  ...          ...                 ... ...                      ...   ...\n",
       "   -- GRB120121101  15.711333333333332 ...                    0.979    --\n",
       "   -- GRB170510217  10.660722222222223 ...                    1.205    --\n",
       "   -- GRB170802638   3.486666666666667 ...                    0.993    --\n",
       "   -- GRB150523690  13.484666666666666 ...                    1.121    --\n",
       "   -- GRB140619490  20.330666666666666 ...                     1.08    --\n",
       "   -- GRB170607946  16.444055555555554 ...                    1.297    --\n",
       "   -- GRB120926426  3.9813333333333336 ...                    0.886    --\n",
       "   -- GRB130627372  12.296333333333333 ...                    0.894    --\n",
       "   -- GRB101102840  18.978666666666665 ...                    0.987    --"
      ]
     },
     "execution_count": 114,
     "metadata": {},
     "output_type": "execute_result"
    }
   ],
   "source": [
    "table['ra'] = astropy.coordinates.Angle(table['ra'], unit=u.degree)\n",
    "table['dec'] = astropy.coordinates.Angle(table['dec'], unit=u.degree)\n",
    "table"
   ]
  },
  {
   "cell_type": "markdown",
   "metadata": {
    "id": "jOA1B_OyFxrM"
   },
   "source": [
    "* Do some brief analysis:  \n",
    "  a) Construct a boolean mask array that selects only those bursts with durations $t_{90} < 2$ seconds and relative errors in the duration $\\frac{t_{90\\_error}}{t_{90}} < 50\\%$.  \n",
    "  b) Construct a second boolean mask array that selects $t_{90} > 2$ seconds with the same relative error.  \n",
    "  c) Compare the median peak energy (flnc_band_epeak, in keV) of the two samples. Use the NumPy `median` function to compute the values. [4 pts]"
   ]
  },
  {
   "cell_type": "code",
   "execution_count": 115,
   "metadata": {
    "id": "ILGbKTG6E_Js"
   },
   "outputs": [
    {
     "name": "stdout",
     "output_type": "stream",
     "text": [
      "359.3643 keV\n",
      "135.48020000000002 keV\n"
     ]
    }
   ],
   "source": [
    "table['t90'].unit = u.second\n",
    "table['t90_error'].unit = u.second\n",
    "table['flnc_band_epeak'].unit = u.keV\n",
    "\n",
    "mask1 = (table['t90'] < 2*u.second) & ((table['t90_error'] / table['t90']) < 0.5)\n",
    "mask2 = (table['t90'] > 2*u.second) & ((table['t90_error'] / table['t90']) < 0.5)\n",
    "\n",
    "print(np.median(table['flnc_band_epeak'][mask1].quantity))\n",
    "print(np.median(table['flnc_band_epeak'][mask2].quantity))"
   ]
  },
  {
   "cell_type": "markdown",
   "metadata": {
    "id": "bB-tKV3OGxzX"
   },
   "source": [
    "### 2. Working with and modifying a table (10 points total)\n",
    "\n",
    "Download the files \"mcxc.dat\" and \"mcxc.readme\" from today’s exercise page on the website. These files contain a catalog of X-ray-detected clusters of galaxies from Piffaretti et al. (2011) obtained through the VizieR service at the University of Strasbourg.\n",
    "\n",
    "1. Use `astropy.io.ascii.read()` to read the table and its metadata into Python. This table is in \"CDS\" format, and you specify the metadata file using the `readme` argument.\n",
    "\n",
    "2. Extract the log of L500 (luminosity in units of $10^{44} \\text{erg/s}$), log of M500 (mass in $10^{14}$ solar masses), and z (redshift) columns from the data into 1D arrays. Create a mask array selecting those clusters with redshift $< 0.1$.\n",
    "\n",
    "3. Now construct the array $r$ containing $r = \\log L - 1.64 \\log M$. The X-ray luminosity and mass of galaxy clusters are correlated roughly such that $L \\propto M^{5/3}$, so the range in $r$ is small.  \n",
    "  \n",
    "4. Modify the table to add a masked column (`MaskedColumn` object) for $r$, and use the description \"$r = \\log L - 1.64 \\log M$\" for that column. Use the mask array you created to mask those clusters you don't want to store $r$ values for. Print the summary information for the table, and print the table to check whether your column was added correctly. You should see \"--\" for masked-out rows.  \n",
    "\n",
    "5. Write the modified table to a file named \"mcxc_new.csv\" in comma-separated value (CSV) format.  \n",
    "\n",
    "\n"
   ]
  },
  {
   "cell_type": "code",
   "execution_count": 116,
   "metadata": {
    "id": "nDIzuV_3Gzme"
   },
   "outputs": [],
   "source": [
    "import astropy.table\n",
    "\n",
    "\n",
    "t = astropy.io.ascii.read(\"mcxc.dat\", readme=\"mcxc.readme\", format='cds')\n",
    "log_l500 = np.log10(t['L500'])\n",
    "log_m500 = np.log10(t['M500'])\n",
    "z = t['z']\n",
    "\n",
    "z_mask = z < 0.1\n",
    "\n",
    "r = log_l500 - 1.64*log_m500\n",
    "\n",
    "t['r'] = astropy.table.MaskedColumn(r, mask=~z_mask)\n",
    "t['r'].description = \"r = log(L) - 1.64 * log(M)\""
   ]
  },
  {
   "cell_type": "code",
   "execution_count": 117,
   "metadata": {},
   "outputs": [
    {
     "data": {
      "text/html": [
       "<div><i>Table length=1743</i>\n",
       "<table id=\"table5458522480\" class=\"table-striped table-bordered table-condensed\">\n",
       "<thead><tr><th>MCXC</th><th>OName</th><th>AName</th><th>RAh</th><th>RAm</th><th>RAs</th><th>DE-</th><th>DEd</th><th>DEm</th><th>DEs</th><th>RAdeg</th><th>DEdeg</th><th>GLON</th><th>GLAT</th><th>z</th><th>Cat</th><th>Sub-Cat</th><th>Scale</th><th>L500</th><th>M500</th><th>R500</th><th>Notes</th><th>Cat1</th><th>Cat2</th><th>Cat3</th><th>Cat4</th><th>L500r1</th><th>L500r2</th><th>L500r3</th><th>L500r4</th><th>r</th></tr></thead>\n",
       "<thead><tr><th></th><th></th><th></th><th>h</th><th>min</th><th>s</th><th></th><th>deg</th><th>arcmin</th><th>arcsec</th><th>deg</th><th>deg</th><th>deg</th><th>deg</th><th></th><th></th><th></th><th>kpc / arcsec</th><th>1e+37 W</th><th>1e+14 Msun</th><th>Mpc</th><th></th><th></th><th></th><th></th><th></th><th></th><th></th><th></th><th></th><th>1e+37 W</th></tr></thead>\n",
       "<thead><tr><th>str12</th><th>str18</th><th>str54</th><th>int64</th><th>int64</th><th>float64</th><th>str1</th><th>int64</th><th>int64</th><th>int64</th><th>float64</th><th>float64</th><th>float64</th><th>float64</th><th>float64</th><th>str12</th><th>str12</th><th>float64</th><th>float64</th><th>float64</th><th>float64</th><th>str42</th><th>str12</th><th>str12</th><th>str12</th><th>str12</th><th>float64</th><th>float64</th><th>float64</th><th>float64</th><th>float64</th></tr></thead>\n",
       "<tr><td>J0000.1+0816</td><td>RXC J0000.1+0816</td><td>UGC 12890</td><td>0</td><td>0</td><td>7.1</td><td>--</td><td>8</td><td>16</td><td>28</td><td>0.03</td><td>8.274</td><td>101.783</td><td>-52.477</td><td>0.0396</td><td>NORAS/REFLEX</td><td>NORAS</td><td>0.784</td><td>0.19628</td><td>0.7373</td><td>0.6296</td><td>--</td><td>BCS</td><td>--</td><td>--</td><td>--</td><td>1.084</td><td>--</td><td>--</td><td>--</td><td>-0.49006049429220355</td></tr>\n",
       "<tr><td>J0000.4-0237</td><td>RXC J0000.4-0237</td><td>--</td><td>0</td><td>0</td><td>24.7</td><td>-</td><td>2</td><td>37</td><td>30</td><td>0.103</td><td>-2.625</td><td>94.268</td><td>-62.622</td><td>0.0379</td><td>SGP</td><td>SGP</td><td>0.752</td><td>0.052338</td><td>0.3297</td><td>0.4817</td><td>--</td><td>--</td><td>--</td><td>--</td><td>--</td><td>--</td><td>--</td><td>--</td><td>--</td><td>-0.4908979504552985</td></tr>\n",
       "<tr><td>J0001.6-1540</td><td>RXC J0001.6-1540</td><td>--</td><td>0</td><td>1</td><td>39.0</td><td>-</td><td>15</td><td>40</td><td>52</td><td>0.412</td><td>-15.681</td><td>75.129</td><td>-73.733</td><td>0.1246</td><td>SGP</td><td>SGP</td><td>2.234</td><td>0.814902</td><td>1.6557</td><td>0.8021</td><td>--</td><td>--</td><td>--</td><td>--</td><td>--</td><td>--</td><td>--</td><td>--</td><td>--</td><td>--</td></tr>\n",
       "<tr><td>J0001.9+1204</td><td>RXC J0001.9+1204</td><td>A2692</td><td>0</td><td>1</td><td>57.0</td><td>--</td><td>12</td><td>4</td><td>23</td><td>0.488</td><td>12.073</td><td>104.308</td><td>-49.001</td><td>0.2033</td><td>NORAS/REFLEX</td><td>NORAS</td><td>3.342</td><td>1.990205</td><td>2.6927</td><td>0.9178</td><td>--</td><td>--</td><td>--</td><td>--</td><td>--</td><td>--</td><td>--</td><td>--</td><td>--</td><td>--</td></tr>\n",
       "<tr><td>J0003.1-0605</td><td>RXCJ0003.1-0605</td><td>A2697</td><td>0</td><td>3</td><td>11.8</td><td>-</td><td>6</td><td>5</td><td>10</td><td>0.799</td><td>-6.086</td><td>92.169</td><td>-66.033</td><td>0.232</td><td>NORAS/REFLEX</td><td>REFLEX</td><td>3.698</td><td>6.107094</td><td>5.2188</td><td>1.1326</td><td>--</td><td>SGP</td><td>--</td><td>--</td><td>--</td><td>0.952</td><td>--</td><td>--</td><td>--</td><td>--</td></tr>\n",
       "<tr><td>J0003.2-3555</td><td>RXCJ0003.2-3555</td><td>A2717</td><td>0</td><td>3</td><td>12.1</td><td>-</td><td>35</td><td>55</td><td>38</td><td>0.801</td><td>-35.927</td><td>349.33</td><td>-76.49</td><td>0.049</td><td>NORAS/REFLEX</td><td>REFLEX</td><td>0.959</td><td>0.441862</td><td>1.2016</td><td>0.7388</td><td>losStr</td><td>SGP</td><td>--</td><td>--</td><td>--</td><td>0.886</td><td>--</td><td>--</td><td>--</td><td>-0.4855196142700461</td></tr>\n",
       "<tr><td>J0003.8+0203</td><td>RXCJ0003.8+0203</td><td>A2700</td><td>0</td><td>3</td><td>50.6</td><td>--</td><td>2</td><td>3</td><td>48</td><td>0.961</td><td>2.063</td><td>99.61</td><td>-58.637</td><td>0.0924</td><td>NORAS/REFLEX</td><td>REFLEX</td><td>1.719</td><td>0.846881</td><td>1.7342</td><td>0.8233</td><td>--</td><td>eBCS</td><td>SGP</td><td>--</td><td>--</td><td>0.92</td><td>0.922</td><td>--</td><td>--</td><td>-0.46430026883136716</td></tr>\n",
       "<tr><td>J0004.9+1142</td><td>RXC J0004.9+1142</td><td>UGC 00032</td><td>0</td><td>4</td><td>59.4</td><td>--</td><td>11</td><td>42</td><td>2</td><td>1.247</td><td>11.701</td><td>105.239</td><td>-49.569</td><td>0.0761</td><td>NORAS/REFLEX</td><td>NORAS</td><td>1.443</td><td>0.518795</td><td>1.3009</td><td>0.752</td><td>--</td><td>eBCS</td><td>--</td><td>--</td><td>--</td><td>0.967</td><td>--</td><td>--</td><td>--</td><td>-0.4723642366254167</td></tr>\n",
       "<tr><td>J0005.3+1612</td><td>RXC J0005.3+1612</td><td>A2703</td><td>0</td><td>5</td><td>22.6</td><td>--</td><td>16</td><td>12</td><td>38</td><td>1.344</td><td>16.211</td><td>107.133</td><td>-45.244</td><td>0.1164</td><td>NORAS/REFLEX</td><td>NORAS</td><td>2.107</td><td>1.579007</td><td>2.4929</td><td>0.9218</td><td>B</td><td>EMSS_1994</td><td>--</td><td>--</td><td>--</td><td>0.533</td><td>--</td><td>--</td><td>--</td><td>--</td></tr>\n",
       "<tr><td>...</td><td>...</td><td>...</td><td>...</td><td>...</td><td>...</td><td>...</td><td>...</td><td>...</td><td>...</td><td>...</td><td>...</td><td>...</td><td>...</td><td>...</td><td>...</td><td>...</td><td>...</td><td>...</td><td>...</td><td>...</td><td>...</td><td>...</td><td>...</td><td>...</td><td>...</td><td>...</td><td>...</td><td>...</td><td>...</td><td>...</td></tr>\n",
       "<tr><td>J2355.1-1500</td><td>BVH2007 242</td><td>VMF98 223</td><td>23</td><td>55</td><td>11.5</td><td>-</td><td>15</td><td>0</td><td>29</td><td>358.798</td><td>-15.008</td><td>72.91</td><td>-72.167</td><td>0.0857</td><td>400SD</td><td>400SD_SER</td><td>1.607</td><td>0.072643</td><td>0.3897</td><td>0.5016</td><td>--</td><td>160SD</td><td>--</td><td>--</td><td>--</td><td>1.044</td><td>--</td><td>--</td><td>--</td><td>-0.4676040941865678</td></tr>\n",
       "<tr><td>J2355.6+1120</td><td>RXC J2355.6+1120</td><td>A2675</td><td>23</td><td>55</td><td>38.3</td><td>--</td><td>11</td><td>20</td><td>36</td><td>358.909</td><td>11.343</td><td>101.718</td><td>-49.216</td><td>0.0726</td><td>NORAS/REFLEX</td><td>NORAS</td><td>1.382</td><td>0.79624</td><td>1.6934</td><td>0.8221</td><td>--</td><td>BCS</td><td>--</td><td>--</td><td>--</td><td>1.062</td><td>--</td><td>--</td><td>--</td><td>-0.474121679853096</td></tr>\n",
       "<tr><td>J2355.7+1138</td><td>A2678</td><td>A2678</td><td>23</td><td>55</td><td>42.0</td><td>--</td><td>11</td><td>38</td><td>49</td><td>358.925</td><td>11.647</td><td>101.891</td><td>-48.934</td><td>0.0729</td><td>BCS</td><td>eBCS</td><td>1.387</td><td>0.372131</td><td>1.0647</td><td>0.7042</td><td>--</td><td>--</td><td>--</td><td>--</td><td>--</td><td>--</td><td>--</td><td>--</td><td>--</td><td>-0.4739568466752166</td></tr>\n",
       "<tr><td>J2355.8+3423</td><td>RXC J2355.8+3423</td><td>A2677</td><td>23</td><td>55</td><td>49.7</td><td>--</td><td>34</td><td>23</td><td>9</td><td>358.957</td><td>34.386</td><td>110.063</td><td>-27.092</td><td>0.148</td><td>NORAS/REFLEX</td><td>NORAS</td><td>2.585</td><td>1.307553</td><td>2.1719</td><td>0.871</td><td>--</td><td>--</td><td>--</td><td>--</td><td>--</td><td>--</td><td>--</td><td>--</td><td>--</td><td>--</td></tr>\n",
       "<tr><td>J2357.0-3445</td><td>RXCJ2357.0-3445</td><td>A4059</td><td>23</td><td>57</td><td>2.3</td><td>-</td><td>34</td><td>45</td><td>38</td><td>359.26</td><td>-34.761</td><td>356.359</td><td>-76.082</td><td>0.0475</td><td>NORAS/REFLEX</td><td>REFLEX</td><td>0.931</td><td>1.629622</td><td>2.6658</td><td>0.964</td><td>L</td><td>EMSS_1994</td><td>SGP</td><td>--</td><td>--</td><td>0.132</td><td>0.952</td><td>--</td><td>--</td><td>-0.4862703253095651</td></tr>\n",
       "<tr><td>J2359.3-6042</td><td>RXCJ2359.3-6042</td><td>A4067</td><td>23</td><td>59</td><td>19.2</td><td>-</td><td>60</td><td>42</td><td>0</td><td>359.83</td><td>-60.7</td><td>314.102</td><td>-55.284</td><td>0.0989</td><td>NORAS/REFLEX</td><td>REFLEX</td><td>1.826</td><td>1.051539</td><td>1.9699</td><td>0.8572</td><td>--</td><td>--</td><td>--</td><td>--</td><td>--</td><td>--</td><td>--</td><td>--</td><td>--</td><td>-0.4610630708726696</td></tr>\n",
       "<tr><td>J2359.4-3418</td><td>MS2356.9-3434</td><td>--</td><td>23</td><td>59</td><td>27.3</td><td>-</td><td>34</td><td>18</td><td>22</td><td>359.864</td><td>-34.306</td><td>357.005</td><td>-76.739</td><td>0.115</td><td>EMSS</td><td>EMSS_1994</td><td>2.085</td><td>0.223131</td><td>0.7568</td><td>0.6198</td><td>--</td><td>--</td><td>--</td><td>--</td><td>--</td><td>--</td><td>--</td><td>--</td><td>--</td><td>--</td></tr>\n",
       "<tr><td>J2359.5-3211</td><td>RX J2359.5-3211</td><td>BSe RXJ2359.5-3211</td><td>23</td><td>59</td><td>36.0</td><td>-</td><td>32</td><td>11</td><td>6</td><td>359.9</td><td>-32.185</td><td>5.63</td><td>-77.667</td><td>0.478</td><td>SHARC</td><td>SHARC_SOUTH</td><td>5.957</td><td>1.069996</td><td>1.4784</td><td>0.6776</td><td>--</td><td>--</td><td>--</td><td>--</td><td>--</td><td>--</td><td>--</td><td>--</td><td>--</td><td>--</td></tr>\n",
       "<tr><td>J2359.9-3928</td><td>RXCJ2359.9-3928</td><td>A4068</td><td>23</td><td>59</td><td>55.7</td><td>-</td><td>39</td><td>28</td><td>47</td><td>359.982</td><td>-39.48</td><td>340.608</td><td>-73.653</td><td>0.1024</td><td>NORAS/REFLEX</td><td>REFLEX</td><td>1.883</td><td>1.22609</td><td>2.1579</td><td>0.8826</td><td>--</td><td>SGP</td><td>--</td><td>--</td><td>--</td><td>0.951</td><td>--</td><td>--</td><td>--</td><td>--</td></tr>\n",
       "</table></div>"
      ],
      "text/plain": [
       "<Table length=1743>\n",
       "    MCXC          OName       ...  L500r4          r          \n",
       "                              ...               1e+37 W       \n",
       "   str12          str18       ... float64       float64       \n",
       "------------ ---------------- ... ------- --------------------\n",
       "J0000.1+0816 RXC J0000.1+0816 ...      -- -0.49006049429220355\n",
       "J0000.4-0237 RXC J0000.4-0237 ...      --  -0.4908979504552985\n",
       "J0001.6-1540 RXC J0001.6-1540 ...      --                   --\n",
       "J0001.9+1204 RXC J0001.9+1204 ...      --                   --\n",
       "J0003.1-0605  RXCJ0003.1-0605 ...      --                   --\n",
       "J0003.2-3555  RXCJ0003.2-3555 ...      --  -0.4855196142700461\n",
       "J0003.8+0203  RXCJ0003.8+0203 ...      -- -0.46430026883136716\n",
       "J0004.9+1142 RXC J0004.9+1142 ...      --  -0.4723642366254167\n",
       "J0005.3+1612 RXC J0005.3+1612 ...      --                   --\n",
       "         ...              ... ...     ...                  ...\n",
       "J2355.1-1500      BVH2007 242 ...      --  -0.4676040941865678\n",
       "J2355.6+1120 RXC J2355.6+1120 ...      --   -0.474121679853096\n",
       "J2355.7+1138            A2678 ...      --  -0.4739568466752166\n",
       "J2355.8+3423 RXC J2355.8+3423 ...      --                   --\n",
       "J2357.0-3445  RXCJ2357.0-3445 ...      --  -0.4862703253095651\n",
       "J2359.3-6042  RXCJ2359.3-6042 ...      --  -0.4610630708726696\n",
       "J2359.4-3418    MS2356.9-3434 ...      --                   --\n",
       "J2359.5-3211  RX J2359.5-3211 ...      --                   --\n",
       "J2359.9-3928  RXCJ2359.9-3928 ...      --                   --"
      ]
     },
     "execution_count": 117,
     "metadata": {},
     "output_type": "execute_result"
    }
   ],
   "source": [
    "t"
   ]
  },
  {
   "cell_type": "code",
   "execution_count": 118,
   "metadata": {},
   "outputs": [],
   "source": [
    "t.write(\"mcxc_new.csv\", format='csv', overwrite=True)"
   ]
  }
 ],
 "metadata": {
  "colab": {
   "provenance": []
  },
  "kernelspec": {
   "display_name": "base",
   "language": "python",
   "name": "python3"
  },
  "language_info": {
   "codemirror_mode": {
    "name": "ipython",
    "version": 3
   },
   "file_extension": ".py",
   "mimetype": "text/x-python",
   "name": "python",
   "nbconvert_exporter": "python",
   "pygments_lexer": "ipython3",
   "version": "3.12.4"
  }
 },
 "nbformat": 4,
 "nbformat_minor": 4
}
