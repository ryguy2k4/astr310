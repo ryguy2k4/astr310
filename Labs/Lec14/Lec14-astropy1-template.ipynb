{
 "cells": [
  {
   "cell_type": "markdown",
   "metadata": {
    "id": "Z68C6sZQ9YPR"
   },
   "source": [
    "# ASTR 310 Lecture 14 - astropy1"
   ]
  },
  {
   "cell_type": "markdown",
   "metadata": {},
   "source": [
    "### Exercise 0: version check\n",
    "\n",
    "Ideally you will have astropy 5.3 or higher.  Astropy 5.1.0 does not play nicely with matplotlib 5.7.\n",
    "\n",
    "If you don't have astropy at all, see [www.astropy.org](https://www.astropy.org) ."
   ]
  },
  {
   "cell_type": "code",
   "execution_count": 1,
   "metadata": {},
   "outputs": [
    {
     "name": "stdout",
     "output_type": "stream",
     "text": [
      "astropy 6.1.0\n",
      "matplotlib 3.8.4\n"
     ]
    }
   ],
   "source": [
    "import astropy\n",
    "print('astropy', astropy.__version__)\n",
    "\n",
    "import matplotlib\n",
    "print('matplotlib', matplotlib.__version__)"
   ]
  },
  {
   "attachments": {},
   "cell_type": "markdown",
   "metadata": {
    "id": "L02jmY729diT"
   },
   "source": [
    "### Exercise 1: units and constants  \n",
    "\n",
    "Using Astropy, compute the following quantities. Hints on how to get started are in the reading for today!  \n",
    "\n",
    "**1.** The escape velocity (in km/s) of a $2.3 M_{\\odot}$ giant star with a radius of $150 R_{\\odot}$. [2 pts]\n",
    "\n",
    "   $$ v_{esc} = \\sqrt{\\frac{2GM}{R}} $$"
   ]
  },
  {
   "cell_type": "code",
   "execution_count": 20,
   "metadata": {},
   "outputs": [],
   "source": [
    "from astropy import units as u\n",
    "from astropy import constants as const"
   ]
  },
  {
   "cell_type": "code",
   "execution_count": 21,
   "metadata": {
    "id": "p1e6bv-69X4S"
   },
   "outputs": [
    {
     "name": "stdout",
     "output_type": "stream",
     "text": [
      "76.48532239709607 km / s\n"
     ]
    }
   ],
   "source": [
    "v_esc = ((2*const.G*(2.3*u.solMass)/(150*u.solRad))**0.5).to(u.km / u.s)\n",
    "print(v_esc)"
   ]
  },
  {
   "cell_type": "markdown",
   "metadata": {
    "id": "IjgrSCxEAhm0"
   },
   "source": [
    "**2.** The wavelength (in angstroms) of the peak of the spectrum of a $11,350$ K blackbody. [2 pts]\n",
    "\n",
    "   $$ \\lambda_{peak} = \\frac{0.29 \\text{ cm K}}{T} $$"
   ]
  },
  {
   "cell_type": "code",
   "execution_count": 33,
   "metadata": {
    "id": "6sN8PQkwAnCP"
   },
   "outputs": [
    {
     "name": "stdout",
     "output_type": "stream",
     "text": [
      "2555.0660792951535 Angstrom\n"
     ]
    }
   ],
   "source": [
    "lambda_peak = (0.29 * u.cm * u.K / (11350 * u.K)).to(u.Angstrom)\n",
    "print(lambda_peak)"
   ]
  },
  {
   "cell_type": "markdown",
   "metadata": {
    "id": "SBc3Hr--AoAC"
   },
   "source": [
    "**3.** The orbital period (in minutes) of a $1 M_{\\odot}$ white dwarf orbiting a $0.6 M_{\\odot}$ white dwarf at a separation of $10^5$ km. [2 pts]\n",
    "\n",
    "   $$ P = 2\\pi \\sqrt{\\frac{a^3}{G(M_1 + M_2)}} $$"
   ]
  },
  {
   "cell_type": "code",
   "execution_count": 32,
   "metadata": {
    "id": "wRqWF1t2AqDq"
   },
   "outputs": [
    {
     "name": "stdout",
     "output_type": "stream",
     "text": [
      "7.186423546252425 min\n"
     ]
    }
   ],
   "source": [
    "period = (2*pi*((1e5 * u.km)**3 / (const.G * (1*u.solMass + 0.6*u.solMass)))**0.5).to(u.minute)\n",
    "print(period)"
   ]
  },
  {
   "cell_type": "markdown",
   "metadata": {
    "id": "v-hfbl-VArLm"
   },
   "source": [
    "**4.** The Compton wavelength (in fm) of a nickel-56 nucleus, given its rest mass of 52.110 GeV $c^{-2}$. [2 pts]\n",
    "\n",
    "   $$ \\lambda = \\frac{h}{mc} $$"
   ]
  },
  {
   "cell_type": "code",
   "execution_count": 42,
   "metadata": {
    "id": "DlQFFbCJAvkm"
   },
   "outputs": [
    {
     "name": "stdout",
     "output_type": "stream",
     "text": [
      "0.02379278419366729 fm\n"
     ]
    }
   ],
   "source": [
    "lambda_compton = (const.h / ((52.110 * u.GeV / const.c**2) * const.c)).to(u.fm)\n",
    "print(lambda_compton)"
   ]
  },
  {
   "cell_type": "markdown",
   "metadata": {
    "id": "pkgnP6EdAwnw"
   },
   "source": [
    "**5.** The distance (in Mpc) to a radio galaxy with a flux density of 8400 Janskys (Jy) and a spectral luminosity of $6 \\times 10^{35}$ erg $s^{-1}$ $Hz^{-1}$.  What is a Jansky?  1 Jy = $10^{-26}$ W $m^{-2}$ $Hz^{-1}$.  [2 pts]\n",
    "\n",
    "   $$ F_{\\nu} = \\frac{L_{\\nu}}{4\\pi d^2} $$"
   ]
  },
  {
   "cell_type": "code",
   "execution_count": 47,
   "metadata": {
    "id": "KzPwV_qtA0Q-"
   },
   "outputs": [
    {
     "name": "stdout",
     "output_type": "stream",
     "text": [
      "244.33208718480088 Mpc\n"
     ]
    }
   ],
   "source": [
    "d = (((6e35 * u.erg / u.second / u.Hz) / (4*pi*8400*u.Jy))**0.5).to(u.Mpc)\n",
    "print(d)"
   ]
  },
  {
   "cell_type": "markdown",
   "metadata": {
    "id": "ZHlYZnUA_EJ6"
   },
   "source": [
    "### Exercise 2: sky coordinate conversions and angles  \n",
    "\n",
    "Using `SkyCoord`, `EarthLocation`, and `Time` objects, perform the following calculations:    \n",
    "\n",
    "**1.** Find the angular distance between the Galactic center ($l = 0^\\circ$, $b = 0^\\circ$ in galactic coordinates) and the globular cluster M13.   [3 pts]\n"
   ]
  },
  {
   "cell_type": "code",
   "execution_count": 54,
   "metadata": {
    "id": "rnNbqz8Q9Wzx"
   },
   "outputs": [
    {
     "name": "stdout",
     "output_type": "stream",
     "text": [
      "67d06m01.5648835s\n"
     ]
    }
   ],
   "source": [
    "from astropy.coordinates import SkyCoord, EarthLocation\n",
    "center = SkyCoord(0*u.degree,0*u.degree,frame=\"galactic\")\n",
    "cluster = SkyCoord.from_name(\"M13\")\n",
    "\n",
    "print(center.separation(cluster))"
   ]
  },
  {
   "cell_type": "markdown",
   "metadata": {
    "id": "-5ALYPJf_zN-"
   },
   "source": [
    "**2.** Find the angular distance between Venus and the Sun on February 29, 2024 at 23:00 UTC (i.e. “2024-02-29T23:00:00”). Use the `astropy.coordinates.get_body()` method to get sky coordinates for Solar System bodies at a given time.   [3 pts]"
   ]
  },
  {
   "cell_type": "code",
   "execution_count": 58,
   "metadata": {
    "id": "niBYmpHm_1j2"
   },
   "outputs": [
    {
     "name": "stdout",
     "output_type": "stream",
     "text": [
      "24d24m56.515288s\n"
     ]
    }
   ],
   "source": [
    "import astropy.coordinates\n",
    "\n",
    "\n",
    "venus = astropy.coordinates.get_body(\"Venus\", astropy.time.Time(\"2024-02-29T23:00:00\"))\n",
    "sun = astropy.coordinates.get_body(\"Sun\", astropy.time.Time(\"2024-02-29T23:00:00\"))\n",
    "\n",
    "print(venus.separation(sun))"
   ]
  },
  {
   "cell_type": "markdown",
   "metadata": {
    "id": "9YuVVwXo_201"
   },
   "source": [
    "**3.** Create an altitude-azimuth coordinate frame object (`AltAz`) corresponding to the location of the ALMA Observatory at the same time as above. Create a `SkyCoord` object corresponding to the sky position of the Large Magellanic Cloud (RA 05h23m34.5s, Dec $-69^\\circ45'22''$ in the `icrs` frame). Finally, using the `SkyCoord` object’s `transform_to` method, find its representation in the alt-az frame you created. This will give the altitude and azimuth of the LMC at ALMA this evening at 8 pm local time.  [4 pts]"
   ]
  },
  {
   "cell_type": "code",
   "execution_count": 78,
   "metadata": {
    "id": "S-nifBFi_58G"
   },
   "outputs": [
    {
     "name": "stdout",
     "output_type": "stream",
     "text": [
      "<SkyCoord (AltAz: obstime=2024-02-29T23:00:00.000, location=(2223467.87192447, -5435935.18940991, -2479114.72438978) m, pressure=0.0 hPa, temperature=0.0 deg_C, relative_humidity=0.0, obswl=1.0 micron): (az, alt) in deg\n",
      "    (177.93289071, 43.21314132)>\n"
     ]
    }
   ],
   "source": [
    "from astropy.time import Time\n",
    "from astropy.coordinates import AltAz\n",
    "\n",
    "target = SkyCoord.from_name(\"LMC\")\n",
    "loc = EarthLocation(lat=-23.0235*u.degree, lon=-67.7539*u.degree,height=0*u.m)\n",
    "time = Time(\"2024-02-29T23:00:00\")\n",
    "\n",
    "# Transform from Ra/Dec to Alt/Az\n",
    "print(target.transform_to(AltAz(location=loc, obstime=time)))"
   ]
  }
 ],
 "metadata": {
  "colab": {
   "provenance": []
  },
  "kernelspec": {
   "display_name": "base",
   "language": "python",
   "name": "python3"
  },
  "language_info": {
   "codemirror_mode": {
    "name": "ipython",
    "version": 3
   },
   "file_extension": ".py",
   "mimetype": "text/x-python",
   "name": "python",
   "nbconvert_exporter": "python",
   "pygments_lexer": "ipython3",
   "version": "3.12.4"
  }
 },
 "nbformat": 4,
 "nbformat_minor": 4
}
