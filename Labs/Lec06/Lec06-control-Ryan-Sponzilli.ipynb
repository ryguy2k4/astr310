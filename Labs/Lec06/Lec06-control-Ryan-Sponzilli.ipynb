{
 "cells": [
  {
   "cell_type": "markdown",
   "id": "38ef3c3d",
   "metadata": {},
   "source": [
    "# ASTR 310 lecture 06: control\n",
    "\n",
    "### 1. Machine precision\n",
    "\n",
    "Because the internal representation of floating-point numbers uses a finite number of bits, there is a smallest number that when added to 1 produces a result different from 1.  This value is sometimes called “machine epsilon ($\\epsilon$)”.\n",
    "Write Python code to do the following. [5 pts]\n",
    "\n",
    "* Choose an initial guess for $\\epsilon$, say 1.\n",
    "* Create a loop that checks whether $\\epsilon + 1$ is different from 1, and terminate if it is not.\n",
    "* For each loop iteration, divide $\\epsilon$ by 2.\n",
    "* Report the final value of $\\epsilon$."
   ]
  },
  {
   "cell_type": "code",
   "execution_count": 1,
   "id": "1f8a7f59-9839-4177-b1fb-4470855cf0f0",
   "metadata": {},
   "outputs": [
    {
     "name": "stdout",
     "output_type": "stream",
     "text": [
      "1.1102230246251565e-16\n"
     ]
    }
   ],
   "source": [
    "e = 1\n",
    "while (e + 1 != 1):\n",
    "    e /= 2\n",
    "print(e)"
   ]
  },
  {
   "cell_type": "markdown",
   "id": "c211ad40",
   "metadata": {},
   "source": [
    "### 2. Fibonacci\n",
    "\n",
    "The Fibonacci sequence is a sequence in which each number is the sum of the\n",
    "preceding two numbers: 1, 1, 2, 3, 5, 8, 13, and so on. Write Python code to generate the\n",
    "sequence. [5 pts]\n",
    "* Get an integer n from the user.\n",
    "* Begin with 1, 1. Print these two values.\n",
    "* Generate and print the remaining n values in the sequence."
   ]
  },
  {
   "cell_type": "code",
   "execution_count": 8,
   "id": "1b83a8f1",
   "metadata": {},
   "outputs": [
    {
     "name": "stdout",
     "output_type": "stream",
     "text": [
      "1\n",
      "1\n",
      "2\n",
      "3\n",
      "5\n",
      "8\n",
      "13\n",
      "21\n",
      "34\n",
      "55\n",
      "89\n",
      "144\n",
      "233\n",
      "377\n",
      "610\n",
      "987\n",
      "1597\n",
      "2584\n",
      "4181\n",
      "6765\n"
     ]
    }
   ],
   "source": [
    "n = int(input(\"n = \"))\n",
    "fib = [1,1]\n",
    "print(fib[0])\n",
    "print(fib[1])\n",
    "for i in range(n-2):\n",
    "    fib.append(fib[-1] + fib[-2])\n",
    "    print(fib[-1])"
   ]
  },
  {
   "cell_type": "markdown",
   "id": "fa1cd605",
   "metadata": {},
   "source": [
    "### 3.  Primes: Sieve of Eratosthenes\n",
    "\n",
    "The sieve of Eratosthenes is an old algorithm for finding all prime numbers smaller than some given\n",
    "integer n. Write Python code to implement the sieve:\n",
    "* Get n from the user.\n",
    "* Create a list L containing all the integers from 0 to n inclusive. You can do this by\n",
    "casting the result of the range() function to a list.\n",
    "* Let p = 2, the first prime.\n",
    "* Loop while $p^2$ is less than or equal to n:\n",
    "    * Beginning with $p^2$, mark each of the multiples of p up to n in the list L (ie. for the\n",
    "multiple mp, set L[mp] = 0).\n",
    "    * Beginning with p+1, find the first integer q such that L[q] != 0. If you reach\n",
    "the end of the list without finding such a number, terminate the loop.\n",
    "    * Set p = q.\n",
    "* Print all the entries p > 1 for which L[p] != 0."
   ]
  },
  {
   "cell_type": "code",
   "execution_count": 40,
   "id": "6e11afab-3ffe-403b-a8b8-6fc165facf91",
   "metadata": {},
   "outputs": [
    {
     "name": "stdout",
     "output_type": "stream",
     "text": [
      "1\n",
      "2\n",
      "3\n",
      "5\n",
      "7\n",
      "11\n",
      "13\n",
      "17\n",
      "19\n",
      "23\n",
      "29\n",
      "31\n",
      "37\n",
      "41\n",
      "43\n",
      "47\n",
      "53\n",
      "59\n",
      "61\n",
      "67\n",
      "71\n",
      "73\n",
      "79\n",
      "83\n",
      "89\n",
      "97\n"
     ]
    }
   ],
   "source": [
    "n = int(input(\"n = \"))\n",
    "L = list(range(n-1))\n",
    "p = 2\n",
    "while (p**2 <= n):\n",
    "    for m in range(p**2,n,1):\n",
    "        if L[m-1] % p == 0:\n",
    "            L[m-1] = 0\n",
    "    for q in range(p+1,n,1):\n",
    "        if (L[q] != 0):\n",
    "            p = q\n",
    "            break\n",
    "\n",
    "for i in L:\n",
    "    if L[i] != 0:\n",
    "        print(L[i])"
   ]
  }
 ],
 "metadata": {
  "kernelspec": {
   "display_name": "Python 3 (ipykernel)",
   "language": "python",
   "name": "python3"
  },
  "language_info": {
   "codemirror_mode": {
    "name": "ipython",
    "version": 3
   },
   "file_extension": ".py",
   "mimetype": "text/x-python",
   "name": "python",
   "nbconvert_exporter": "python",
   "pygments_lexer": "ipython3",
   "version": "3.12.4"
  }
 },
 "nbformat": 4,
 "nbformat_minor": 5
}
