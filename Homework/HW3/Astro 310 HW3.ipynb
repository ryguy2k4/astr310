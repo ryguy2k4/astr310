{
 "cells": [
  {
   "attachments": {},
   "cell_type": "markdown",
   "metadata": {
    "id": "ivCLURn9DO2B"
   },
   "source": [
    "# ASTR 310 HW 3\n",
    "\n",
    "\n",
    "### 1. Binary Search (25 points total)  \n",
    "\n",
    "A common strategy in computer algorithms is “divide and conquer:” split the data you\n",
    "need to work on into two parts, then work on each of the parts. Continue splitting until\n",
    "the amount of data is so small that the operation to be performed is trivial. An example\n",
    "is the binary search algorithm, which searches a sorted list of objects (strings, numbers,\n",
    "etc.) for a specified object, then returns the location of the object in the list (or indicates\n",
    "that the specified object is not present in the list). In this problem you will implement\n",
    "binary search in Python. Yes, we know there are many versions of this binary search\n",
    "algorithm that you can find on the internet. The exercise here is to write your own, not\n",
    "copy someone else’s.\n",
    "The basic binary search algorithm is as follows. We’ll assume that we have a list $L$ with $N$ entries sorted in\n",
    "ascending order, and we are looking for an entry $E$.\n",
    "\n",
    "\n",
    "Pseudocode:\n",
    "```\n",
    "set low_index to 0\n",
    "set high_index to N-1\n",
    "loop until E is found or high_index == low_index + 1:\n",
    "    set test_index to int( (low_index + high_index) / 2 )\n",
    "    if L[test_index] <= E then\n",
    "        low_index = test_index  # keep top half\n",
    "    otherwise\n",
    "        high_index = test_index  # keep bottom half\n",
    "```\n",
    "\n",
    "If L[low index] or L[high index] equals E, you have found it; otherwise E is not\n",
    "present in the list.\n",
    "\n",
    "  \n",
    "**a)** First, obtain a sorted list of numbers. We’lll use the first 10,000 primes. Download\n",
    "the list at https://primes.utm.edu/lists/small/10000.txt. Your code should read this\n",
    "file and construct a 1D list of the primes. We suggest using readlines and split\n",
    "and append to deal with the fact that there are multiple primes on each line of the\n",
    "file, but other methods will work too. (You may have to manually strip out the four\n",
    "header lines and one footer line at the end.) [5 pts]"
   ]
  },
  {
   "cell_type": "code",
   "execution_count": 128,
   "metadata": {
    "id": "d1tWU8fuCXxp"
   },
   "outputs": [],
   "source": [
    "f = open(\"primes.txt\", 'r')\n",
    "lines = f.readlines()\n",
    "f.close()\n",
    "lines = lines[4:-1]\n",
    "nums = []\n",
    "for l in lines:\n",
    "    subs = l.split(\" \")\n",
    "    for sub in subs:\n",
    "        if (sub != str('')) & (sub != str('\\n')):\n",
    "            nums.append(int(sub))"
   ]
  },
  {
   "cell_type": "markdown",
   "metadata": {
    "id": "99_pKb_iEuCH"
   },
   "source": [
    "**b)** Write the code to use a binary search technique to search the list you constructed\n",
    "in part (a). [15 pts]"
   ]
  },
  {
   "cell_type": "code",
   "execution_count": 129,
   "metadata": {
    "id": "bM5gnKd4Ez1h"
   },
   "outputs": [],
   "source": [
    "from math import *\n",
    "def binary_search(L: list, e: int):\n",
    "    i_low = 0\n",
    "    i_high = len(L) - 1\n",
    "\n",
    "    while (i_low <= i_high):\n",
    "        i_test = int((i_low + i_high) / 2)\n",
    "\n",
    "        if L[i_test] == e:\n",
    "            print(f\"Target found at index {i_test}.\")\n",
    "            return\n",
    "        elif L[i_test] <= e:\n",
    "            i_low = i_test + 1\n",
    "        else:\n",
    "            i_high = i_test - 1\n",
    "\n",
    "\n",
    "\n",
    "    print(\"Target not found in list.\")"
   ]
  },
  {
   "cell_type": "markdown",
   "metadata": {
    "id": "is9KYe9XE2Ts"
   },
   "source": [
    "**c)** Test your code with the following search targets: [5 pts]  \n",
    "i. 98299  \n",
    "ii. 104729  \n",
    "iii. 105001  \n",
    "iv. 2  \n",
    "v. 1  \n",
    "Your program should print a message indicating the list index corresponding to each\n",
    "search target, or a message indicating that it was not found."
   ]
  },
  {
   "cell_type": "code",
   "execution_count": 130,
   "metadata": {
    "id": "Kbq0O9O0HXnA"
   },
   "outputs": [
    {
     "name": "stdout",
     "output_type": "stream",
     "text": [
      "Target found at index 9438.\n",
      "Target found at index 9999.\n",
      "Target not found in list.\n",
      "Target found at index 0.\n",
      "Target not found in list.\n"
     ]
    }
   ],
   "source": [
    "binary_search(nums, 98299)\n",
    "binary_search(nums, 104729)\n",
    "binary_search(nums, 105001)\n",
    "binary_search(nums, 2)\n",
    "binary_search(nums, 1)"
   ]
  },
  {
   "cell_type": "markdown",
   "metadata": {
    "id": "F-qxlC1xFUdp"
   },
   "source": [
    "### 2. Improved cosmological computation (25 points)  \n",
    "Modify your program from problem #3 of homework #2 to accept a more general choice\n",
    "of cosmology in addition to the flat $\\Lambda$ cosmology we originally worked with.\n",
    "\n",
    "The angular diameter distance formula for a flat cosmology was given in HW 2.  \n",
    "For a matter-only universe, the angular diameter distance is given by\n",
    "$$d_A = \\frac{c}{H_0 q_0^2} \\frac{zq_0 + (q_0-1)(\\sqrt{2zq_0+1} - 1)}{(1+z)^2} ~~\\mathrm{with}~~\n",
    "q_0 \\equiv -\\frac{\\ddot{a}{a}}{\\dot{a}^2} = \\frac{\\Omega_m}{2}.$$\n",
    "This is a classic equation known as the Mattig relation. The quantity $q_0$ is called the deceleration parameter, and $a = (1+z)^{-1}$ is the scale factor of the universe.\n",
    "\n",
    "We're also interested in the luminosity distance $d_L$.\n",
    "The luminosity distance is defined as the distance measure that preserves the $r^{-2}$ law relating luminosity and flux, and it is given by $d_L = d_A(1+z)^2.$\n",
    "\n",
    "\n",
    "**a)** The program should first ask the user for the value of $\\Omega_m$, then ask if the user wants to assume $\\Omega_\\Lambda = 1 - \\Omega_m$ (a flat cosmology) or $\\Omega_\\Lambda = 0$ (a matter-only cosmology). [3 pts]\n",
    "\n",
    "The program should also ask the user if they wish to specify a range of redshifts\n",
    "(min, max, increment) or a space-separated list of redshifts at which to compute $dA$.\n",
    "On the basis of this choice, either accept three numbers as input and generate the\n",
    "list of redshifts to use, or else accept the list of redshifts from the user. [3 pts]"
   ]
  },
  {
   "cell_type": "code",
   "execution_count": 131,
   "metadata": {},
   "outputs": [],
   "source": [
    "from scipy import constants as const\n",
    "import numpy as np\n",
    "import math\n",
    "\n",
    "# Calculations for a flat cosmology\n",
    "def flat_cosmology(H, m, z):\n",
    "\n",
    "    H = H * 3.24078e-20 # convert to 1/s\n",
    "\n",
    "    def n(a, o):\n",
    "        s = ((1 - o) / o) ** (1/3)\n",
    "        return 2 * math.sqrt(s**3 + 1) * ((1/a**4) - (0.1540 * s/a**3) + (0.4304*s**2/a**2) + (0.19097*s**3/a) + (0.066941*s**4))**(-1/8)\n",
    "\n",
    "\n",
    "    da = 1/(1+z) * (2.998e8 / H) * (n(1,m) - n((1/(1+z)),m))\n",
    "    da # m/radian\n",
    "\n",
    "    da_kpc_arcsec = da / 206265 / 3.086e+19\n",
    "    da_mpc_radian = da / 3.086e+22\n",
    "\n",
    "    dl = da_mpc_radian * (1 + z) ** 2\n",
    "\n",
    "    return {\"r\": z, \"a\": 0, \"da\": da_kpc_arcsec, \"dl\": dl}\n",
    "\n",
    "# Calculations for general cosmology\n",
    "def gen_cosmology(H, m, z):\n",
    "\n",
    "    H = H * 3.24078e-20 # convert to 1/s\n",
    "\n",
    "    a = (1 + z) ** -1\n",
    "    q0 = m / 2.0\n",
    "\n",
    "    da = (const.c / (H * q0 ** 2)) * ((z * q0) + ((q0 - 1) * (sqrt(2 * z * q0 + 1) - 1))) / ((1 + z) ** 2)\n",
    "    da # m/radian\n",
    "\n",
    "    da_kpc_arcsec = da / 206265 / 3.086e+19\n",
    "    da_mpc_radian = da / 3.086e+22\n",
    "\n",
    "    dl = da_mpc_radian * (1 + z) ** 2\n",
    "\n",
    "    return {\"r\": z, \"a\": a, \"da\": da_kpc_arcsec, \"dl\": dl}"
   ]
  },
  {
   "cell_type": "markdown",
   "metadata": {
    "id": "C8CfhhzdIwkL"
   },
   "source": [
    "**b)** Once the program has the cosmology and the list of redshifts to use, cycle through the list and compute $d_A$ for each redshift using the appropriate cosmological expression. \n",
    "\n",
    "Also for each redshift, compute the luminosity distance $d_L$ in Mpc. (Note that here you need to use $d_A$ in units of Mpc/radian to get $d_L$ in Mpc.)\n",
    "\n",
    "As you go along, print values of $z$, $a$, $d_A$, and $d_L$ in a nicely formatted table using three digits of precision after the decimal. Print $d_A$ in units of kpc/arcsec as before. [15 pts]\n",
    "\n",
    "Run your program for both types of cosmological model using the same values of $H_0$\n",
    "and $\\Omega_m$ used in homework 2, and use a range of 10 or 11 redshifts between 0 and 5. If you\n",
    "want to check your results, try visiting Ned Wright’s Cosmology Calculator page at\n",
    "https://www.astro.ucla.edu/~wright/CosmoCalc.html [4 pts]\n",
    "\n",
    "\n"
   ]
  },
  {
   "cell_type": "code",
   "execution_count": 133,
   "metadata": {
    "id": "oxtbyjwSJDlq"
   },
   "outputs": [],
   "source": [
    "# THIS IS THE FINAL PROGRAM\n",
    "def final_program():\n",
    "    H = 72\n",
    "    m_matter = float(input(\"Matter Density Parameter: \"))\n",
    "    matter_only = input(\"General (1) or Flat Model (2): \") == \"1\"\n",
    "\n",
    "    if int(input(\"List (1) or Range (2) of Redshifts: \")) == 1:\n",
    "        redshifts = input(\"Enter space-separated list of redshifts: \").split(\" \")\n",
    "    else:\n",
    "        params = input(\"Enter min, max, and increment (space-separated): \").split(\" \")\n",
    "        redshifts = np.arange(float(params[0]), float(params[1]), float(params[2])).tolist()\n",
    "\n",
    "    if matter_only:\n",
    "        print(\"Matter Only (general)\")\n",
    "        print(\"{r:5} {a:5} {da:8} {dl:8}\".format(r=\"z\", a=\"a\", da=\"da (kpc/\\\")\", dl=\"dl (Mpc)\"))\n",
    "        ans = [gen_cosmology(H, m_matter, r) for r in redshifts]\n",
    "        for e in ans:\n",
    "            print(\"{r:5.3f} {a:5.3f} {da:8.3e} {dl:8.3e}\".format(r=e['r'],a=e['a'],da=e['da'],dl=e['dl']))\n",
    "    else:\n",
    "        print(\"Flat Cosmology\")\n",
    "        print(\"{r:5} {a:5} {da:8} {dl:8}\".format(r=\"z\", a=\"a\", da=\"da (kpc/\\\")\", dl=\"dl (Mpc)\"))\n",
    "        ans = [flat_cosmology(H, m_matter, r) for r in redshifts]\n",
    "        for e in ans:\n",
    "            print(\"{r:5.3f} {a:5.3f} {da:8.3e} {dl:8.3e}\".format(r=e['r'],a=e['a'],da=e['da'],dl=e['dl']))"
   ]
  },
  {
   "cell_type": "code",
   "execution_count": 134,
   "metadata": {
    "id": "cpErq4CDJzBk"
   },
   "outputs": [
    {
     "name": "stdout",
     "output_type": "stream",
     "text": [
      "Matter Only (general)\n",
      "z     a     da (kpc/\") dl (Mpc)\n",
      "0.000 1.000 0.000e+00 0.000e+00\n",
      "0.500 0.667 5.402e+00 2.507e+03\n",
      "1.000 0.500 6.995e+00 5.771e+03\n",
      "1.500 0.400 7.507e+00 9.678e+03\n",
      "2.000 0.333 7.616e+00 1.414e+04\n",
      "2.500 0.286 7.553e+00 1.908e+04\n",
      "3.000 0.250 7.411e+00 2.446e+04\n",
      "3.500 0.222 7.233e+00 3.021e+04\n",
      "4.000 0.200 7.041e+00 3.631e+04\n",
      "4.500 0.182 6.847e+00 4.272e+04\n"
     ]
    }
   ],
   "source": [
    "# Run for General Model\n",
    "# H = 72\n",
    "# m = 0.26\n",
    "# z = range(0,5,0.5)\n",
    "final_program()"
   ]
  },
  {
   "cell_type": "code",
   "execution_count": 135,
   "metadata": {
    "id": "3EyyzBEzrHvQ"
   },
   "outputs": [
    {
     "name": "stdout",
     "output_type": "stream",
     "text": [
      "Flat Cosmology\n",
      "z     a     da (kpc/\") dl (Mpc)\n",
      "0.000 0.000 0.000e+00 0.000e+00\n",
      "0.500 0.000 6.036e+00 2.801e+03\n",
      "1.000 0.000 7.990e+00 6.592e+03\n",
      "1.500 0.000 8.491e+00 1.095e+04\n",
      "2.000 0.000 8.433e+00 1.565e+04\n",
      "2.500 0.000 8.156e+00 2.061e+04\n",
      "3.000 0.000 7.801e+00 2.575e+04\n",
      "3.500 0.000 7.429e+00 3.103e+04\n",
      "4.000 0.000 7.064e+00 3.643e+04\n",
      "4.500 0.000 6.719e+00 4.193e+04\n"
     ]
    }
   ],
   "source": [
    "# Run for Flat Model\n",
    "# H = 72\n",
    "# m = 0.26\n",
    "# z = range(0,5,0.5)\n",
    "final_program()"
   ]
  }
 ],
 "metadata": {
  "colab": {
   "provenance": []
  },
  "kernelspec": {
   "display_name": "Python 3 (ipykernel)",
   "language": "python",
   "name": "python3"
  },
  "language_info": {
   "codemirror_mode": {
    "name": "ipython",
    "version": 3
   },
   "file_extension": ".py",
   "mimetype": "text/x-python",
   "name": "python",
   "nbconvert_exporter": "python",
   "pygments_lexer": "ipython3",
   "version": "3.12.4"
  }
 },
 "nbformat": 4,
 "nbformat_minor": 4
}
