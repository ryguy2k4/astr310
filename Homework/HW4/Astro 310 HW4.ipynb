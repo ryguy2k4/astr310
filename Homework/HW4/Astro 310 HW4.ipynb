{
 "cells": [
  {
   "cell_type": "markdown",
   "metadata": {
    "id": "CzXf01jtD-mA"
   },
   "source": [
    "# ASTR 310 HW 4"
   ]
  },
  {
   "cell_type": "markdown",
   "metadata": {
    "id": "WPWfLcWhEYws"
   },
   "source": [
    "## 1. Functional Programming in Python \n",
    "\n",
    "Rewrite each of the following code fragments as directed. Be sure to test your rewritten code to verify that it behaves exactly like the original.    \n",
    "\n",
    "**a)** Rewrite using dictionaries with the names as keys and the Lx values as values.  $[5~pts]$\n",
    "```\n",
    "names = [ \"RXJ9938.1\", \"CL2016.33\", \"A4123\", \"A1101\"]  \n",
    "Lx = [1.5e44, 2.8e44, 1.0e45, 9.7e43]  \n",
    "names = names + [\"RXJ1234.8\"]   \n",
    "Lx = Lx + [8.4e44]\n",
    "```"
   ]
  },
  {
   "cell_type": "code",
   "execution_count": 9,
   "metadata": {
    "id": "RLRZeru_D8Pf"
   },
   "outputs": [
    {
     "name": "stdout",
     "output_type": "stream",
     "text": [
      "ORIGINAL OUTPUT\n",
      "['RXJ9938.1', 'CL2016.33', 'A4123', 'A1101', 'RXJ1234.8'] [1.5e+44, 2.8e+44, 1e+45, 9.7e+43, 8.4e+44]\n",
      "\n",
      "REWRITTEN OUTPUT\n",
      "{'RXJ9938.1': 1.5e+44, 'CL2016.33': 2.8e+44, 'A4123': 1e+45, 'A1101': 9.7e+43, 'RXJ1234.8': 8.4e+44}\n"
     ]
    }
   ],
   "source": [
    "# Original\n",
    "names = [ \"RXJ9938.1\", \"CL2016.33\", \"A4123\", \"A1101\"]  \n",
    "Lx = [1.5e44, 2.8e44, 1.0e45, 9.7e43]  \n",
    "names = names + [\"RXJ1234.8\"]   \n",
    "Lx = Lx + [8.4e44]\n",
    "print(\"ORIGINAL OUTPUT\")\n",
    "print(names, Lx)\n",
    "\n",
    "# Rewritten\n",
    "lx_dict = dict(zip(names, Lx))\n",
    "lx_dict[\"RXJ1234.8\"] = 8.4e44\n",
    "print(\"\\nREWRITTEN OUTPUT\")\n",
    "print(lx_dict)\n"
   ]
  },
  {
   "cell_type": "markdown",
   "metadata": {
    "id": "mjiXUk0VFMgB"
   },
   "source": [
    "**b)** Rewrite using list comprehensions.  $[5~pts]$\n",
    "```\n",
    "x = [0.] * 100\n",
    "y = [0.] * 100\n",
    "for i in range(100):\n",
    "    x[i] = 6. + i*0.3\n",
    "    y[i] = 4.*x[i]**2 - x[i]**0.5\n",
    "```\n",
    "\n"
   ]
  },
  {
   "cell_type": "code",
   "execution_count": 15,
   "metadata": {
    "id": "fkewsG3YFbiE"
   },
   "outputs": [
    {
     "name": "stdout",
     "output_type": "stream",
     "text": [
      "ORIGINAL OUTPUT\n",
      "[6.0, 6.3, 6.6, 6.9, 7.2, 7.5, 7.8, 8.1, 8.4, 8.7, 9.0, 9.3, 9.6, 9.9, 10.2, 10.5, 10.8, 11.1, 11.399999999999999, 11.7, 12.0, 12.3, 12.6, 12.899999999999999, 13.2, 13.5, 13.8, 14.1, 14.4, 14.7, 15.0, 15.299999999999999, 15.6, 15.9, 16.2, 16.5, 16.799999999999997, 17.1, 17.4, 17.7, 18.0, 18.299999999999997, 18.6, 18.9, 19.2, 19.5, 19.799999999999997, 20.1, 20.4, 20.7, 21.0, 21.299999999999997, 21.6, 21.9, 22.2, 22.5, 22.8, 23.099999999999998, 23.4, 23.7, 24.0, 24.3, 24.599999999999998, 24.9, 25.2, 25.5, 25.8, 26.099999999999998, 26.4, 26.7, 27.0, 27.3, 27.599999999999998, 27.9, 28.2, 28.5, 28.8, 29.099999999999998, 29.4, 29.7, 30.0, 30.3, 30.599999999999998, 30.9, 31.2, 31.5, 31.8, 32.099999999999994, 32.4, 32.7, 33.0, 33.3, 33.599999999999994, 33.9, 34.2, 34.5, 34.8, 35.099999999999994, 35.4, 35.7] [141.5505102572168, 156.25001992039776, 171.67095348426696, 187.81321489268728, 204.67671842700025, 222.26138721247418, 240.5671519912462, 259.5939501058485, 279.3417246507621, 299.81042375924943, 321.0, 342.9104098636046, 365.541613323034, 388.89357345548956, 412.9662561154657, 437.75962965079606, 463.2736646549691, 489.50833375020846, 516.4636113967731, 544.1394737247025, 572.5358983848622, 601.65286441665, 631.4903521301402, 662.0483430007863, 693.3268195750829, 725.3257653858252, 758.0451648757987, 791.4850033288963, 825.645266807798, 860.5259420974637, 896.1270166537926, 932.4484785568783, 969.4903164683736, 1007.2525195925247, 1045.7350776405003, 1084.937980797682, 1124.8612196936158, 1165.5047853743731, 1206.8686692770768, 1248.9528632064073, 1291.7573593128807, 1335.282150072758, 1379.5272282694307, 1424.4925869761428, 1470.1782195399587, 1516.584119566836, 1563.7102809077421, 1611.5566976457083, 1660.1233640837454, 1709.410274733569, 1759.417424305044, 1810.1448076963138, 1861.5924199845513, 1913.7602564172807, 1966.648312404244, 2020.2565835097475, 2074.585065445475, 2129.6337540637205, 2185.4026453510205, 2241.8917354221444, 2299.1010205144335, 2357.0304969824533, 2415.6801612929444, 2475.0500100200497, 2535.1400398407955, 2595.950247530819, 2657.4806299603197, 2719.7311840902216, 2782.7019069685334, 2846.3927957268943, 2910.8038475772933, 2975.935059808955, 3041.786429785374, 3108.357954941502, 3175.649632781059, 3243.661460873984, 3312.393436854001, 3381.845558416295, 3452.017823315309, 3522.9102293626242, 3594.5227744249482, 3666.855456422191, 3739.9082733256237, 3813.681223156125, 3888.1743039824923, 3963.387513919839, 4039.3208511280513, 4115.974313810312, 4193.3479002116965, 4271.441608617803, 4350.255437353462, 4429.7893847814985, 4510.043449301523, 4591.017629348796, 4672.711923393115, 4755.126329937764, 4838.260847518498, 4922.1154747025585, 5006.690210087742, 5091.985052301485]\n",
      "\n",
      "REWRITTEN OUTPUT\n",
      "[6.0, 6.3, 6.6, 6.9, 7.2, 7.5, 7.8, 8.1, 8.4, 8.7, 9.0, 9.3, 9.6, 9.9, 10.2, 10.5, 10.8, 11.1, 11.399999999999999, 11.7, 12.0, 12.3, 12.6, 12.899999999999999, 13.2, 13.5, 13.8, 14.1, 14.4, 14.7, 15.0, 15.299999999999999, 15.6, 15.9, 16.2, 16.5, 16.799999999999997, 17.1, 17.4, 17.7, 18.0, 18.299999999999997, 18.6, 18.9, 19.2, 19.5, 19.799999999999997, 20.1, 20.4, 20.7, 21.0, 21.299999999999997, 21.6, 21.9, 22.2, 22.5, 22.8, 23.099999999999998, 23.4, 23.7, 24.0, 24.3, 24.599999999999998, 24.9, 25.2, 25.5, 25.8, 26.099999999999998, 26.4, 26.7, 27.0, 27.3, 27.599999999999998, 27.9, 28.2, 28.5, 28.8, 29.099999999999998, 29.4, 29.7, 30.0, 30.3, 30.599999999999998, 30.9, 31.2, 31.5, 31.8, 32.099999999999994, 32.4, 32.7, 33.0, 33.3, 33.599999999999994, 33.9, 34.2, 34.5, 34.8, 35.099999999999994, 35.4, 35.7] [141.5505102572168, 156.25001992039776, 171.67095348426696, 187.81321489268728, 204.67671842700025, 222.26138721247418, 240.5671519912462, 259.5939501058485, 279.3417246507621, 299.81042375924943, 321.0, 342.9104098636046, 365.541613323034, 388.89357345548956, 412.9662561154657, 437.75962965079606, 463.2736646549691, 489.50833375020846, 516.4636113967731, 544.1394737247025, 572.5358983848622, 601.65286441665, 631.4903521301402, 662.0483430007863, 693.3268195750829, 725.3257653858252, 758.0451648757987, 791.4850033288963, 825.645266807798, 860.5259420974637, 896.1270166537926, 932.4484785568783, 969.4903164683736, 1007.2525195925247, 1045.7350776405003, 1084.937980797682, 1124.8612196936158, 1165.5047853743731, 1206.8686692770768, 1248.9528632064073, 1291.7573593128807, 1335.282150072758, 1379.5272282694307, 1424.4925869761428, 1470.1782195399587, 1516.584119566836, 1563.7102809077421, 1611.5566976457083, 1660.1233640837454, 1709.410274733569, 1759.417424305044, 1810.1448076963138, 1861.5924199845513, 1913.7602564172807, 1966.648312404244, 2020.2565835097475, 2074.585065445475, 2129.6337540637205, 2185.4026453510205, 2241.8917354221444, 2299.1010205144335, 2357.0304969824533, 2415.6801612929444, 2475.0500100200497, 2535.1400398407955, 2595.950247530819, 2657.4806299603197, 2719.7311840902216, 2782.7019069685334, 2846.3927957268943, 2910.8038475772933, 2975.935059808955, 3041.786429785374, 3108.357954941502, 3175.649632781059, 3243.661460873984, 3312.393436854001, 3381.845558416295, 3452.017823315309, 3522.9102293626242, 3594.5227744249482, 3666.855456422191, 3739.9082733256237, 3813.681223156125, 3888.1743039824923, 3963.387513919839, 4039.3208511280513, 4115.974313810312, 4193.3479002116965, 4271.441608617803, 4350.255437353462, 4429.7893847814985, 4510.043449301523, 4591.017629348796, 4672.711923393115, 4755.126329937764, 4838.260847518498, 4922.1154747025585, 5006.690210087742, 5091.985052301485]\n",
      "\n",
      "The lists are equal: True\n"
     ]
    }
   ],
   "source": [
    "# Original\n",
    "x = [0.] * 100\n",
    "y = [0.] * 100\n",
    "for i in range(100):\n",
    "    x[i] = 6. + i*0.3\n",
    "    y[i] = 4.*x[i]**2 - x[i]**0.5\n",
    "print(\"ORIGINAL OUTPUT\")\n",
    "print(x, y)\n",
    "\n",
    "\n",
    "# Rewritten\n",
    "x2 = [6. + i*0.3 for i in range(100)]\n",
    "y2 = [4. * x[i]**2 - x[i]**0.5 for i in range(100)]\n",
    "print(\"\\nREWRITTEN OUTPUT\")\n",
    "print(x2, y2)\n",
    "\n",
    "# Check\n",
    "print(f\"\\nThe lists are equal: {(x == x2) & (y == y2)}\")"
   ]
  },
  {
   "cell_type": "markdown",
   "metadata": {
    "id": "oQ0e0B9ZFcjs"
   },
   "source": [
    "**c)** Rewrite using list comprehensions and `filter`. Hint: you can nest list comprehensions (use one inside another). Yes, this will be much easier with numpy arrays, but\n",
    "we are not doing that yet. The intent here is to practice with list comprehensions\n",
    "so solutions using numpy will be graded as incorrect. \n",
    "What's going on here? We're building a 3D \"cube\" (a nested list) and rho is the distance to the center of the cube. $[7~pts]$  \n",
    "\n",
    "```\n",
    "x = list(range(101))\n",
    "y = list(range(101))\n",
    "z = list(range(101))\n",
    "for i in range(101):\n",
    "    x[i] = x[i] * 0.01\n",
    "    y[i] = y[i] * 0.01\n",
    "    z[i] = z[i] * 0.01\n",
    "rho = []\n",
    "s = 0.\n",
    "for k in range(101):\n",
    "    rho = rho + [[]]\n",
    "    for j in range(101):\n",
    "        rho[k] = rho[k] + [[]]\n",
    "        for i in range(101):\n",
    "            rho[k][j] = rho[k][j] + [((x[i]-0.5)**2 + \\\n",
    "                                      (y[j]-0.5)**2 + \\\n",
    "                                    (z[k]-0.5)**2)**0.5]\n",
    "            if rho[k][j][i] > 0.5:\n",
    "                s = s + rho[k][j][i]\n",
    "```\n",
    "\n"
   ]
  },
  {
   "cell_type": "code",
   "execution_count": 9,
   "metadata": {
    "id": "k4i7mZsJGG4V"
   },
   "outputs": [
    {
     "name": "stdout",
     "output_type": "stream",
     "text": [
      "original s: 303575.1160929\n",
      "rewritten s: 303575.1160929159\n"
     ]
    }
   ],
   "source": [
    "# Original\n",
    "x = list(range(101))\n",
    "y = list(range(101))\n",
    "z = list(range(101))\n",
    "for i in range(101):\n",
    "    x[i] = x[i] * 0.01\n",
    "    y[i] = y[i] * 0.01\n",
    "    z[i] = z[i] * 0.01\n",
    "rho = []\n",
    "s = 0.\n",
    "for k in range(101):\n",
    "    rho = rho + [[]]\n",
    "    for j in range(101):\n",
    "        rho[k] = rho[k] + [[]]\n",
    "        for i in range(101):\n",
    "            rho[k][j] = rho[k][j] + [((x[i]-0.5)**2 + \\\n",
    "                                      (y[j]-0.5)**2 + \\\n",
    "                                    (z[k]-0.5)**2)**0.5]\n",
    "            if rho[k][j][i] > 0.5:\n",
    "                s = s + rho[k][j][i]\n",
    "\n",
    "# Rewritten\n",
    "x2 = [i * 0.01 for i in range(101)]\n",
    "y2 = [i * 0.01 for i in range(101)]\n",
    "z2 = [i * 0.01 for i in range(101)]\n",
    "rho2 = [[[((x[i]-0.5)**2 + (y[j]-0.5)**2 + (z[k]-0.5)**2)**0.5 for i in range(101)] for j in range(101)] for k in range(101)]\n",
    "s2 = sum(filter(lambda r: r > 0.5, [rho2[k][j][i] for i in range(101) for j in range(101) for k in range(101)]))\n",
    "\n",
    "print(f\"original s: {s}\\nrewritten s: {s2}\")"
   ]
  },
  {
   "cell_type": "markdown",
   "metadata": {
    "id": "X1zBQhsOGJHN"
   },
   "source": [
    "**d)** Rewrite using list comprehensions and `zip`. What's going on here?  We've constructed a spherical model of a star, so we have the star's density as a function of radius, and we're integrating the total mass of the star.  Notice the use of $dM = 4\\pi r^2\\rho\\;dr.$\n",
    "$[8~pts]$  \n",
    "\n",
    "\n",
    "```\n",
    "r = [1.0, 2.0, 4.0, 8.0, 16.0, 32.0]\n",
    "rho = [0.99, 0.87, 0.79, 0.61, 0.50, 0.45]\n",
    "i = 0\n",
    "m = lastr = 0.\n",
    "vfact = 1./3.    # innermost step is a filled sphere\n",
    "while i < 6:\n",
    "    m = m + 4.*3.14159 * r[i]**2 * rho[i] * (r[i] - lastr)\n",
    "    print(\"%5.2f %5.2f %10.2f\" % (r[i], rho[i], m))\n",
    "    lastr = r[i]\n",
    "    vfact = 1.   # after the first step,  use spherical shells\n",
    "    i = i + 1\n",
    "```"
   ]
  },
  {
   "cell_type": "code",
   "execution_count": 16,
   "metadata": {},
   "outputs": [
    {
     "name": "stdout",
     "output_type": "stream",
     "text": [
      "Original\n",
      " 1.00  0.99      12.44\n",
      " 2.00  0.87      56.17\n",
      " 4.00  0.79     373.85\n",
      " 8.00  0.61    2336.21\n",
      "16.00  0.50   15204.16\n",
      "32.00  0.45  107853.42\n",
      "\n",
      "Rewritten\n",
      " 1.00  0.99      12.44\n",
      " 2.00  0.87      56.17\n",
      " 4.00  0.79     373.85\n",
      " 8.00  0.61    2336.21\n",
      "16.00  0.50   15204.16\n",
      "32.00  0.45  107853.42\n"
     ]
    }
   ],
   "source": [
    "# Original\n",
    "print(\"Original\")\n",
    "r = [1.0, 2.0, 4.0, 8.0, 16.0, 32.0]\n",
    "rho = [0.99, 0.87, 0.79, 0.61, 0.50, 0.45]\n",
    "i = 0\n",
    "m = lastr = 0.\n",
    "vfact = 1./3.    # innermost step is a filled sphere\n",
    "while i < 6:\n",
    "    m = m + 4.*3.14159 * r[i]**2 * rho[i] * (r[i] - lastr)\n",
    "    print(\"%5.2f %5.2f %10.2f\" % (r[i], rho[i], m))\n",
    "    lastr = r[i]\n",
    "    vfact = 1.   # after the first step,  use spherical shells\n",
    "    i = i + 1\n",
    "\n",
    "# Rewritten\n",
    "print(\"\\nRewritten\")\n",
    "lastr2 = 0.0\n",
    "m2 = 0.0\n",
    "\n",
    "for r, rho in zip(r, rho):\n",
    "    m2 += 4.0 * 3.14159 * r**2 * rho * (r - lastr2)\n",
    "    print(f\"{r:5.2f} {rho:5.2f} {m2:10.2f}\")\n",
    "    lastr2 = r"
   ]
  },
  {
   "cell_type": "markdown",
   "metadata": {
    "id": "OjohYWTzGiM-"
   },
   "source": [
    "## 2. Working with tabular data from a file\n",
    "\n",
    "Obtain the file “stars.txt” from the course website. This is a text file containing a table of\n",
    "observational quantities for the 26 brightest stars as seen from Earth. Each line of the file\n",
    "contains the name of a star, its Bayer designation (e.g. Alpha Canis Majoris), its distance\n",
    "in light-years (ly), its apparent visual magnitude, its absolute visual magnitude, and its\n",
    "spectral type. The spectral types include the luminosity class (e.g. V for dwarf stars)\n",
    "and some additional designations (e.g. v for variable, or the spectral type of a binary\n",
    "companion, such as “G2V + K1V” ).  \n",
    "  \n",
    "\n",
    "**a)** Construct a dictionary that stores the mapping between the abbreviations for constellation names and the full names of the constellations. For example, the key\n",
    "“CMa” should be associated with the value “Canis Major”. The 88 official IAU\n",
    "constellations are described at https://www.iau.org/public/themes/constellations/.\n",
    "You don’t need all 88, just the ones represented in the “stars.txt” file. $[4~pts]$\n"
   ]
  },
  {
   "cell_type": "code",
   "execution_count": 3,
   "metadata": {
    "id": "L0sEH7voGbEk"
   },
   "outputs": [],
   "source": [
    "constellation_dict = {\n",
    "    \"CMa\" : \"Canis Major\",\n",
    "    \"Car\" : \"Carina\",\n",
    "    \"Cen\" : \"Centaurus\",\n",
    "    \"Boo\" : \"Bootes\",\n",
    "    \"Lyr\" : \"Lyra\",\n",
    "    \"Aur\" : \"Auriga\",\n",
    "    \"Ori\" : \"Orion\",\n",
    "    \"CMi\" : \"Canis Minor\",\n",
    "    \"Eri\" : \"Eridanis\",\n",
    "    \"Cru\" : \"Crux\",\n",
    "    \"Aql\" : \"Aquila\",\n",
    "    \"Tau\" : \"Taurus\",\n",
    "    \"Sco\" : \"Scorpius\",\n",
    "    \"Vir\" : \"Virgo\",\n",
    "    \"Gem\" : \"Gemini\",\n",
    "    \"PsA\" : \"Piscis Austrinus\",\n",
    "    \"Cyg\" : \"Cygnus\",\n",
    "    \"Leo\" : \"Leo\",\n",
    "}"
   ]
  },
  {
   "cell_type": "markdown",
   "metadata": {},
   "source": [
    "**b)** Write a function that computes the absolute magnitude $M$ given the apparent magnitude $m$ and the distance $d$ in parsecs using \n",
    "$m − M = 5(\\log d − 1).~~[4~pts]$"
   ]
  },
  {
   "cell_type": "code",
   "execution_count": 8,
   "metadata": {
    "id": "eeGM_aNIHD0W"
   },
   "outputs": [],
   "source": [
    "from math import *\n",
    "def absMag(appMag, distance):\n",
    "    return appMag - 5 * (log10(distance) - 1)"
   ]
  },
  {
   "cell_type": "markdown",
   "metadata": {
    "id": "eeGM_aNIHD0W"
   },
   "source": [
    "**c)** Read the “stars.txt” file and use it to construct a dictionary in which the keys are the\n",
    "names of stars and the values are dictionaries containing \n",
    "* the constellation name using the dictionary from part a,\n",
    "*  the distance in parsecs (3.26 ly = 1 pc),\n",
    "*  the apparent magnitude,\n",
    "*  the absolute magnitude from the file,\n",
    "*  the absolute magnitude calculated from the apparent magnitude and the distance, using your function, and\n",
    "*  the major spectral class (of the first component if the star is a binary).\n",
    "\n",
    "For example the key-value pair for Rigil Kentaurus would be something like the following.  $[6~pts]$\n",
    "\n",
    "```\n",
    "\"Rigil Kentaurus\" : {\"constellation\" : \"Centaurus\", \"distance\" : 1.3, \"m\" : -0.27, \"M\" : 4.4, \"newM\" : 4.1, \"class\": \"G2\"}\n",
    "```"
   ]
  },
  {
   "cell_type": "code",
   "execution_count": 14,
   "metadata": {
    "id": "MCyPwhiSHtW_"
   },
   "outputs": [
    {
     "data": {
      "text/plain": [
       "{'Shaula': {'constellation': 'Scorpius',\n",
       "  'distance': 330.0,\n",
       "  'm': 1.63,\n",
       "  'M': -3.5,\n",
       "  'newM': -5.962569699389438,\n",
       "  'class': 'B1.5IV'},\n",
       " 'Gacrux': {'constellation': 'Crux',\n",
       "  'distance': 120.0,\n",
       "  'm': 1.63,\n",
       "  'M': -1.2,\n",
       "  'newM': -3.765906230238124,\n",
       "  'class': 'M3.5III'},\n",
       " 'Castor': {'constellation': 'Gemini',\n",
       "  'distance': 49.0,\n",
       "  'm': 1.57,\n",
       "  'M': 0.5,\n",
       "  'newM': -1.8809804001425683,\n",
       "  'class': 'A1V + A2V'},\n",
       " 'Adhara': {'constellation': 'Canis Major',\n",
       "  'distance': 570.0,\n",
       "  'm': 1.5,\n",
       "  'M': -4.8,\n",
       "  'newM': -7.279374278362457,\n",
       "  'class': 'B2II'},\n",
       " 'Regulus': {'constellation': 'Leo',\n",
       "  'distance': 69.0,\n",
       "  'm': 1.35,\n",
       "  'M': -0.3,\n",
       "  'newM': -2.8442454536862765,\n",
       "  'class': 'B7Vn'},\n",
       " 'Deneb': {'constellation': 'Cygnus',\n",
       "  'distance': 1500.0,\n",
       "  'm': 1.25,\n",
       "  'M': -7.2,\n",
       "  'newM': -9.630456295278407,\n",
       "  'class': 'A2Ia'},\n",
       " 'Becrux': {'constellation': 'Crux',\n",
       "  'distance': 460.0,\n",
       "  'm': 1.25,\n",
       "  'M': -4.7,\n",
       "  'newM': -7.06378915840787,\n",
       "  'class': 'B0.5III'},\n",
       " 'Fomalhaut': {'constellation': 'Piscis Austrinus',\n",
       "  'distance': 22.0,\n",
       "  'm': 1.16,\n",
       "  'M': 2.0,\n",
       "  'newM': -0.5521134041110309,\n",
       "  'class': 'A3Va'},\n",
       " 'Pollux': {'constellation': 'Gemini',\n",
       "  'distance': 40.0,\n",
       "  'm': 1.14,\n",
       "  'M': 0.7,\n",
       "  'newM': -1.8702999566398117,\n",
       "  'class': 'K0IIIb'},\n",
       " 'Spica': {'constellation': 'Virgo',\n",
       "  'distance': 220.0,\n",
       "  'm': 0.98,\n",
       "  'M': -3.2,\n",
       "  'newM': -5.732113404111031,\n",
       "  'class': 'B1V'},\n",
       " 'Antares': {'constellation': 'Scorpius',\n",
       "  'distance': 520.0,\n",
       "  'm': 0.96,\n",
       "  'M': -5.2,\n",
       "  'newM': -7.6200167181739955,\n",
       "  'class': 'M1.5Iab'},\n",
       " 'Aldebaran': {'constellation': 'Taurus',\n",
       "  'distance': 60.0,\n",
       "  'm': 0.85,\n",
       "  'M': -0.3,\n",
       "  'newM': -3.0407562519182183,\n",
       "  'class': 'K5III'},\n",
       " 'Altair': {'constellation': 'Aquila',\n",
       "  'distance': 16.0,\n",
       "  'm': 0.77,\n",
       "  'M': 2.3,\n",
       "  'newM': -0.25059991327962394,\n",
       "  'class': 'A7Vn'},\n",
       " 'Acrux': {'constellation': 'Crux',\n",
       "  'distance': 510.0,\n",
       "  'm': 0.76,\n",
       "  'M': -4.6,\n",
       "  'newM': -7.777850880489682,\n",
       "  'class': 'B0.5Iv + B1Vn'},\n",
       " 'Hadar': {'constellation': 'Centaurus',\n",
       "  'distance': 320.0,\n",
       "  'm': 0.61,\n",
       "  'M': -4.4,\n",
       "  'newM': -6.915749891599529,\n",
       "  'class': 'B1III'},\n",
       " 'Betelgeuse': {'constellation': 'Orion',\n",
       "  'distance': 1400.0,\n",
       "  'm': 0.5,\n",
       "  'M': -7.2,\n",
       "  'newM': -10.23064017839119,\n",
       "  'class': 'M2Iab'},\n",
       " 'Achernar': {'constellation': 'Eridanis',\n",
       "  'distance': 69.0,\n",
       "  'm': 0.46,\n",
       "  'M': -1.3,\n",
       "  'newM': -3.7342454536862766,\n",
       "  'class': 'B3Vnp'},\n",
       " 'Procyon': {'constellation': 'Canis Minor',\n",
       "  'distance': 11.4,\n",
       "  'm': 0.38,\n",
       "  'M': 2.6,\n",
       "  'newM': 0.09547574331763642,\n",
       "  'class': 'F5IV-V'},\n",
       " 'Rigel': {'constellation': 'Orion',\n",
       "  'distance': 1400.0,\n",
       "  'm': 0.12,\n",
       "  'M': -8.1,\n",
       "  'newM': -10.610640178391192,\n",
       "  'class': 'B81ae'},\n",
       " 'Capella': {'constellation': 'Auriga',\n",
       "  'distance': 41.0,\n",
       "  'm': 0.08,\n",
       "  'M': 0.4,\n",
       "  'newM': -2.983919283598677,\n",
       "  'class': 'G6III + G2III'},\n",
       " 'Vega': {'constellation': 'Lyra',\n",
       "  'distance': 25.0,\n",
       "  'm': 0.03,\n",
       "  'M': 0.6,\n",
       "  'newM': -1.9597000433601885,\n",
       "  'class': 'A0Va'},\n",
       " 'Arcturus': {'constellation': 'Bootes',\n",
       "  'distance': 34.0,\n",
       "  'm': -0.04,\n",
       "  'M': 0.2,\n",
       "  'newM': -2.697394585211276,\n",
       "  'class': 'K1.5IIIp'},\n",
       " 'Rigil Kentaurus': {'constellation': 'Centaurus',\n",
       "  'distance': 4.3,\n",
       "  'm': -0.27,\n",
       "  'M': 4.4,\n",
       "  'newM': 1.5626577221020672,\n",
       "  'class': 'G2V + K1V'},\n",
       " 'Canopus': {'constellation': 'Carina',\n",
       "  'distance': 74.0,\n",
       "  'm': -0.72,\n",
       "  'M': -2.5,\n",
       "  'newM': -5.066158598654881,\n",
       "  'class': 'A9II'},\n",
       " 'Sirius': {'constellation': 'Canis Major',\n",
       "  'distance': 8.6,\n",
       "  'm': -1.46,\n",
       "  'M': 1.4,\n",
       "  'newM': -1.1324922562178383,\n",
       "  'class': 'A1Vm'}}"
      ]
     },
     "execution_count": 14,
     "metadata": {},
     "output_type": "execute_result"
    }
   ],
   "source": [
    "f = open(\"stars.txt\")\n",
    "lines = f.readlines()\n",
    "f.close()\n",
    "\n",
    "my_dict = dict()\n",
    "\n",
    "for item in lines[::-1]:\n",
    "    name = item[0:16].strip()\n",
    "    const = item[17:32].strip().split(\" \")[1]\n",
    "    distance = float(item[32:41].strip())\n",
    "    appMag = float(item[41:51].strip())\n",
    "    absMagnum = float(item[51:62].strip())\n",
    "    sclass = item[62::].strip()\n",
    "\n",
    "\n",
    "    my_dict[name] = {\n",
    "\n",
    "\n",
    "        \"constellation\": constellation_dict[const],\n",
    "        \"distance\": distance,\n",
    "        \"m\": appMag,\n",
    "        \"M\": absMagnum,\n",
    "        \"newM\": absMag(appMag, distance),\n",
    "        \"class\": sclass\n",
    "        }\n",
    "\n",
    "my_dict"
   ]
  },
  {
   "cell_type": "markdown",
   "metadata": {
    "id": "HGkC6lv9ILyA"
   },
   "source": [
    "**e)** Construct a list of the names of the stars in order sorted by absolute magnitude.\n",
    "Using this list, print a table containing the stars’ names, constellations, absolute\n",
    "magnitudes, and spectral classes. The table should have an appropriate header, and\n",
    "each column should be formatted to be the width of the longest entry in that column.\n",
    "Absolute magnitudes should have two digits after the decimal point and have the\n",
    "decimal points line up.  Below is an example of decent formatting, though these aren't sorted correctly.\n",
    "$[5~pts]$\n",
    "\n",
    "```\n",
    "Name          Constellation   AbsMag     Class\n",
    "Achernar      Eridani         -1.17        B3\n",
    "Altair        Aquila           2.32        A7\n",
    "```"
   ]
  },
  {
   "cell_type": "code",
   "execution_count": 63,
   "metadata": {
    "id": "wxmuf0eKIKWz"
   },
   "outputs": [
    {
     "name": "stdout",
     "output_type": "stream",
     "text": [
      "Name            Constellation    AbsMag Class          \n",
      "\n",
      "Rigel           Orion            -8.10  B81ae          \n",
      "Deneb           Cygnus           -7.20  A2Ia           \n",
      "Betelgeuse      Orion            -7.20  M2Iab          \n",
      "Antares         Scorpius         -5.20  M1.5Iab        \n",
      "Adhara          Canis Major      -4.80  B2II           \n",
      "Becrux          Crux             -4.70  B0.5III        \n",
      "Acrux           Crux             -4.60  B0.5Iv + B1Vn  \n",
      "Hadar           Centaurus        -4.40  B1III          \n",
      "Shaula          Scorpius         -3.50  B1.5IV         \n",
      "Spica           Virgo            -3.20  B1V            \n",
      "Canopus         Carina           -2.50  A9II           \n",
      "Achernar        Eridanis         -1.30  B3Vnp          \n",
      "Gacrux          Crux             -1.20  M3.5III        \n",
      "Regulus         Leo              -0.30  B7Vn           \n",
      "Aldebaran       Taurus           -0.30  K5III          \n",
      "Arcturus        Bootes           +0.20  K1.5IIIp       \n",
      "Capella         Auriga           +0.40  G6III + G2III  \n",
      "Castor          Gemini           +0.50  A1V + A2V      \n",
      "Vega            Lyra             +0.60  A0Va           \n",
      "Pollux          Gemini           +0.70  K0IIIb         \n",
      "Sirius          Canis Major      +1.40  A1Vm           \n",
      "Fomalhaut       Piscis Austrinus +2.00  A3Va           \n",
      "Altair          Aquila           +2.30  A7Vn           \n",
      "Procyon         Canis Minor      +2.60  F5IV-V         \n",
      "Rigil Kentaurus Centaurus        +4.40  G2V + K1V      \n"
     ]
    }
   ],
   "source": [
    "sortedbyAbsMag = sorted(my_dict.keys(), key=lambda x: my_dict[x]['M'])\n",
    "print(\"{n:16}{c:17}{M:6} {cl:15}\\n\".format(n=\"Name\",c=\"Constellation\",M=\"AbsMag\",cl=\"Class\"))\n",
    "for star in sortedbyAbsMag:\n",
    "    print(\"{n:16}{c:17}{M:<+6.2f} {cl:15}\".format(n=star,c=my_dict[star]['constellation'],M=my_dict[star]['M'],cl=my_dict[star]['class']))"
   ]
  }
 ],
 "metadata": {
  "colab": {
   "provenance": []
  },
  "kernelspec": {
   "display_name": "Python 3 (ipykernel)",
   "language": "python",
   "name": "python3"
  },
  "language_info": {
   "codemirror_mode": {
    "name": "ipython",
    "version": 3
   },
   "file_extension": ".py",
   "mimetype": "text/x-python",
   "name": "python",
   "nbconvert_exporter": "python",
   "pygments_lexer": "ipython3",
   "version": "3.12.4"
  }
 },
 "nbformat": 4,
 "nbformat_minor": 4
}
