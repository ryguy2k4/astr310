{
 "cells": [
  {
   "cell_type": "markdown",
   "id": "705a1774-8bcc-4d7f-aa85-486046c87cb0",
   "metadata": {},
   "source": [
    "# ASTR 310 Homework 5"
   ]
  },
  {
   "cell_type": "markdown",
   "id": "cfaff4a6-e16b-4874-a840-8fc0b134d73f",
   "metadata": {},
   "source": [
    "### 1. Parsing a natural language string\n",
    "\n",
    "Write a Python function that takes a string representing the English name of a nonnegative integer as an argument and returns the corresponding integer. Your function should work for numbers up to 999. If the string provided does not correspond to a valid English number, your function should return `None`. Some examples of arguments and the expected results include:\n",
    "\n",
    "| Input | Result |\n",
    "| :- | -: | \n",
    "|\"nine\"\t|   9|\n",
    "|\"seventy six\"\t|\t\t76|\n",
    "|\"one hundred forty\"\t|\t140|\n",
    "|\"four hundred thirteen\"\t|\t413|\n",
    "|\"eight hundred sixty seven\"\t|\t867|\n",
    "|\"four hundred five hundred thirty six\"\t|\t`None`|\n",
    "|\"two hundred eight thousand four\"\t|\t`None`|\n",
    "|\"twelve two hundred one\"\t\t\t|\t`None`|\n",
    "|\"five hundred seven twenty\"\t\t|\t`None`|\n",
    "|\"eleventy nine\"\t\t\t\t|\t\t`None`|\n",
    "\n",
    "You should demonstrate that your function works on these examples. [20 pts]"
   ]
  },
  {
   "cell_type": "code",
   "execution_count": 120,
   "id": "cb8ec21c-8b16-4214-80a9-94d329b2990c",
   "metadata": {},
   "outputs": [],
   "source": [
    "def parse_number(num: str):\n",
    "\n",
    "    singles = {\n",
    "        \"one\" : \"1\",\n",
    "        \"two\" : \"2\",\n",
    "        \"three\" : \"3\",\n",
    "        \"four\" : \"4\",\n",
    "        \"five\" : \"5\",\n",
    "        \"six\" : \"6\",\n",
    "        \"seven\" : \"7\",\n",
    "        \"eight\" : \"8\",\n",
    "        \"nine\" : \"9\",\n",
    "    }\n",
    "\n",
    "    teens = {\n",
    "        \"ten\" : \"10\",\n",
    "        \"eleven\" : \"11\",\n",
    "        \"twelve\" : \"12\",\n",
    "        \"thirteen\" : \"13\",\n",
    "        \"fourteen\" : \"14\",\n",
    "        \"fifteen\": \"15\",\n",
    "        \"sixteen\" : \"16\",\n",
    "        \"seventeen\" : \"17\",\n",
    "        \"eighteen\" : \"18\",\n",
    "        \"nineteen\" : \"19\"\n",
    "    }\n",
    "\n",
    "    tens = {\n",
    "        \"twenty\" : \"2\",\n",
    "        \"thirty\" : \"3\",\n",
    "        \"forty\" : \"4\",\n",
    "        \"fifty\" : \"5\",\n",
    "        \"sixty\" : \"6\",\n",
    "        \"seventy\" : \"7\",\n",
    "        \"eighty\" : \"8\",\n",
    "        \"ninety\" : \"9\",\n",
    "    }\n",
    "    \n",
    "    if (num.count(\" \") == 0):\n",
    "        if num in singles:\n",
    "            return singles[num]\n",
    "        elif num in teens:\n",
    "            return teens[num]\n",
    "        elif num in tens:\n",
    "            return tens[num] + \"0\"\n",
    "        else:\n",
    "            return None\n",
    "    else:\n",
    "        elements = num.split(\" \")\n",
    "        parsed_num = \"\"\n",
    "        # 100s\n",
    "        if (elements[0] in singles) & (elements[1] == \"hundred\"):\n",
    "            parsed_num += singles[elements[0]]\n",
    "            if len(elements) == 2:\n",
    "                parsed_num += \"00\"\n",
    "            elements.remove(elements[1])\n",
    "            elements.remove(elements[0])\n",
    "        \n",
    "        # 10s\n",
    "        if (len(elements) > 0):\n",
    "            if (elements[0] in tens):\n",
    "                if (len(elements) > 1):\n",
    "                    if (elements[1] in (singles)):\n",
    "                        parsed_num += tens[elements[0]]\n",
    "                        parsed_num += singles[elements[1]]\n",
    "                        elements.remove(elements[1])\n",
    "                        elements.remove(elements[0])\n",
    "                else:\n",
    "                    parsed_num += tens[elements[0]]\n",
    "                    parsed_num += \"0\"\n",
    "                    elements.remove(elements[0])\n",
    "            elif (elements[0] in singles):\n",
    "                parsed_num += \"0\"\n",
    "                parsed_num += singles[elements[0]]\n",
    "                elements.remove(elements[0])\n",
    "            elif (elements[0] in teens):\n",
    "                parsed_num += teens[elements[0]]\n",
    "                elements.remove(elements[0])\n",
    "\n",
    "        if (len(elements) > 0):\n",
    "            return None\n",
    "\n",
    "        return parsed_num"
   ]
  },
  {
   "cell_type": "code",
   "execution_count": 121,
   "id": "5ae4073e",
   "metadata": {},
   "outputs": [
    {
     "name": "stdout",
     "output_type": "stream",
     "text": [
      "9\n",
      "76\n",
      "140\n",
      "413\n",
      "867\n",
      "None\n",
      "None\n",
      "None\n",
      "None\n",
      "None\n"
     ]
    }
   ],
   "source": [
    "print(parse_number(\"nine\"))\n",
    "print(parse_number(\"seventy six\"))\n",
    "print(parse_number(\"one hundred forty\"))\n",
    "print(parse_number(\"four hundred thirteen\"))\n",
    "print(parse_number(\"eight hundred sixty seven\"))\n",
    "print(parse_number(\"four hundred five hundred thirty six\"))\n",
    "print(parse_number(\"two hundred eight thousand four\"))\n",
    "print(parse_number(\"twelve two hundred one\"))\n",
    "print(parse_number(\"five hundred seven twenty\"))\n",
    "print(parse_number(\"eleventy nine\"))"
   ]
  },
  {
   "cell_type": "markdown",
   "id": "da6076f0-10ef-4fa0-ace7-65b157d2a97e",
   "metadata": {},
   "source": [
    "### 2. Robust parsing of a text file\n",
    "\n",
    "**a)** Write functions to read and write files containing tables of variable names and values. You should implement the following functions:\n",
    "\n",
    "* `file_read(file_name)` --- Read the file named `file_name` and return a dictionary containing variable names as keys and their values as the corresponding values. If an I/O error or syntax error occurs (see below), print the offending line, return `None` and ensure that the file (if opened) is closed.\n",
    "\n",
    "* `file_write(file_name, var_dict, overwrite=False)` --- Write the variable dictionary `var_dict` to the file named `file_name`.  The optional argument overwrite should control the behavior of the function in the case that the output file already exists. If the variable dictionary does not follow the rules described below, or an I/O error occurs, or overwrite == False and the file already exists, print a helpful error message and return `None`. If the file was successfully written, return `True`.\n",
    "\n",
    "The files read from/written to should have lines with this format:\n",
    "\n",
    "`variable = value`\n",
    "\n",
    "The variable name must start with a letter or underscore `(_)` and can contain letters, digits, or underscores, but no other characters. An arbitrary but nonzero amount of whitespace (spaces or tabs) can come before or after the variable name, the = sign, and the value. The value should be an integer or floating-point number; when reading or writing the value, its type should be preserved (e.g. \"6\" should be read and written as an int, and \"$-$3.2e4\" should be read and written as a float). If any of these rules is violated, or a line does not have this format, the file has a syntax error and should be handled as described above. \n",
    "\n",
    "[8 pts]"
   ]
  },
  {
   "cell_type": "code",
   "execution_count": 221,
   "id": "9975e150-cb95-41b5-9e32-392bf2f9d594",
   "metadata": {},
   "outputs": [],
   "source": [
    "from os.path import exists\n",
    "\n",
    "def file_read(file_name):\n",
    "    try:\n",
    "        f = open(file_name, 'r')\n",
    "        lines = f.readlines()\n",
    "        f.close()\n",
    "        var_dict = {}\n",
    "        for line in lines:\n",
    "            try:\n",
    "                key, value = line.split(\"=\")\n",
    "                if follows_formatting_rules_key(key.strip()):\n",
    "                    if (\".\" in value) | (\"e\" in value):\n",
    "                        var_dict[key.strip()] = float(value.strip())\n",
    "                    else:\n",
    "                        var_dict[key.strip()] = int(value.strip())\n",
    "                else:\n",
    "                    print(line)\n",
    "                    return None\n",
    "            except:\n",
    "                print(line)\n",
    "                return None\n",
    "        return var_dict\n",
    "    except:\n",
    "        print(\"An error occurred\")\n",
    "        return None\n",
    "\n",
    "def file_write(file_name, var_dict, overwrite = False):\n",
    "    try:\n",
    "        if (overwrite == False) & (exists(file_name)):\n",
    "            print(\"File already exists\")\n",
    "            return None\n",
    "        f = open(file_name, 'w')\n",
    "        for key, value in var_dict.items():\n",
    "            if follows_formatting_rules_value(value) & follows_formatting_rules_key(key):\n",
    "                f.write(f\"{key} = {value}\\n\")\n",
    "            else:\n",
    "                print(f\"{key} = {value} does not follow formatting rules!\")\n",
    "                return None\n",
    "        f.close()\n",
    "        return True\n",
    "    except:\n",
    "        print(\"An error occurred\")\n",
    "        return None\n",
    "    \n",
    "def follows_formatting_rules_value(value):\n",
    "    if isinstance(value, (float, int)):\n",
    "        return True\n",
    "    return False\n",
    "\n",
    "def follows_formatting_rules_key(key):\n",
    "    for char in str(key):\n",
    "        if not (char.isalnum() | (char == '_') | (char == ' ')):\n",
    "            return False\n",
    "    if not (str(key)[0].isalpha()) | (str(key)[0] == '_'):\n",
    "        return False\n",
    "    return True"
   ]
  },
  {
   "cell_type": "markdown",
   "id": "24540b81-9007-402c-bfe4-c68f834d6b65",
   "metadata": {},
   "source": [
    "**b)** Use your functions to read the file \"vardict.txt\" from the class web page. Print the contents of the variable dictionary you have read. [2 pts]"
   ]
  },
  {
   "cell_type": "code",
   "execution_count": 192,
   "id": "8e87879d-f43e-4b94-8917-659d09484584",
   "metadata": {},
   "outputs": [
    {
     "data": {
      "text/plain": [
       "{'electoralVotes': 538,\n",
       " 'days_in_year': 365.25,\n",
       " '__wombats7': 32,\n",
       " 'RegulationFidgetSpinner': -72.8,\n",
       " 'marigolds_around_alumni_fountain': 423129,\n",
       " 'BaselineKaijuDiet2020': 8341000000.0,\n",
       " 'digits_in_eleven_': 2}"
      ]
     },
     "execution_count": 192,
     "metadata": {},
     "output_type": "execute_result"
    }
   ],
   "source": [
    "vardict = file_read(\"vardict.txt\")\n",
    "vardict"
   ]
  },
  {
   "cell_type": "markdown",
   "id": "53a99505-45c4-4a67-b079-8948a829c7cb",
   "metadata": {},
   "source": [
    "**c)** Add the settings\n",
    "- `bears_with_6arms = 13`\n",
    "- `chessRookHeight = 45.327`\n",
    "- `__neighborHondaYear = 2009`\n",
    "- `fortysix__ = 46.0`\n",
    "  \n",
    "to the dictionary and write them to a new file named \"vardict2.txt\". [5 pts]"
   ]
  },
  {
   "cell_type": "code",
   "execution_count": 193,
   "id": "81ec1831-5750-49a5-9d73-4bf0ebfec07d",
   "metadata": {},
   "outputs": [
    {
     "data": {
      "text/plain": [
       "True"
      ]
     },
     "execution_count": 193,
     "metadata": {},
     "output_type": "execute_result"
    }
   ],
   "source": [
    "vardict[\"bears_with_6arms\"] = 13\n",
    "vardict[\"chessRookHeight\"] = 45.327\n",
    "vardict[\"__neightborHondaYear\"] = 2009\n",
    "vardict[\"fortysix__\"] = 46.0\n",
    "\n",
    "file_write(\"vardict2.txt\", vardict)"
   ]
  },
  {
   "cell_type": "markdown",
   "id": "c7e54599-34e9-4ab2-a9a1-03cc5a6b8d30",
   "metadata": {},
   "source": [
    "**d)** Confirm that you wrote a valid file by reading \"vardict2.txt\" and printing the contents of the variable dictionary that results. [5 pts]"
   ]
  },
  {
   "cell_type": "code",
   "execution_count": 194,
   "id": "6e06a11c-5ae0-4a44-aff5-d84add116ef0",
   "metadata": {},
   "outputs": [
    {
     "data": {
      "text/plain": [
       "{'electoralVotes': 538,\n",
       " 'days_in_year': 365.25,\n",
       " '__wombats7': 32,\n",
       " 'RegulationFidgetSpinner': -72.8,\n",
       " 'marigolds_around_alumni_fountain': 423129,\n",
       " 'BaselineKaijuDiet2020': 8341000000.0,\n",
       " 'digits_in_eleven_': 2,\n",
       " 'bears_with_6arms': 13,\n",
       " 'chessRookHeight': 45.327,\n",
       " '__neightborHondaYear': 2009,\n",
       " 'fortysix__': 46.0}"
      ]
     },
     "execution_count": 194,
     "metadata": {},
     "output_type": "execute_result"
    }
   ],
   "source": [
    "vardict2 = file_read(\"vardict2.txt\")\n",
    "vardict2"
   ]
  },
  {
   "cell_type": "markdown",
   "id": "73fc9a1b-bd71-46ea-9745-30cd7d1198d9",
   "metadata": {},
   "source": [
    "**e)** Check your error handling by making a corrupted version of \"vardict.txt\" and rerunning part (b).  For example, you could create a line in the file that doesn't follow the \"variable = value\" syntax, or you could break the syntax rules for variable names, or you could change a value so that it is not a valid int or float.  Make sure you print the offending line so that the reader can see what caused the problem.  [5 pts]"
   ]
  },
  {
   "cell_type": "code",
   "execution_count": 195,
   "id": "b0aaa14c-a036-47cd-a9fc-29db8191dba8",
   "metadata": {},
   "outputs": [
    {
     "name": "stdout",
     "output_type": "stream",
     "text": [
      "digits_in_eleven_ = two\n",
      "\n"
     ]
    }
   ],
   "source": [
    "vardict = file_read(\"vardict.txt\")\n",
    "vardict"
   ]
  },
  {
   "cell_type": "code",
   "execution_count": 222,
   "id": "82614284",
   "metadata": {},
   "outputs": [
    {
     "name": "stdout",
     "output_type": "stream",
     "text": [
      "9digits_in_eleven_ = 2\n",
      "\n"
     ]
    }
   ],
   "source": [
    "vardict = file_read(\"vardict.txt\")\n",
    "vardict"
   ]
  },
  {
   "cell_type": "code",
   "execution_count": 223,
   "id": "94a35513",
   "metadata": {},
   "outputs": [
    {
     "name": "stdout",
     "output_type": "stream",
     "text": [
      "BaselineKaijuDiet2020^ = 8.341e9    \n",
      "\n"
     ]
    }
   ],
   "source": [
    "vardict = file_read(\"vardict.txt\")\n",
    "vardict"
   ]
  },
  {
   "cell_type": "markdown",
   "id": "c591bc91-f179-47d1-88d8-cdd080615b1c",
   "metadata": {},
   "source": [
    "**f)** Check your error handling also by making a corrupted addition to the dictionary and rerunning part (c).  Try similar strategies to those in the previous part.  Your code should trap errors and return the results specified above, not abort with an unhandled exception.  Do at least three different tests for this part and the previous one, and document your functions' behaviors. [5 pts]"
   ]
  },
  {
   "cell_type": "code",
   "execution_count": 215,
   "id": "d98d3b71-add9-4d9e-98b7-b60b6342e057",
   "metadata": {},
   "outputs": [
    {
     "name": "stdout",
     "output_type": "stream",
     "text": [
      "bears_with_6arms = thirteen does not follow formatting rules!\n"
     ]
    }
   ],
   "source": [
    "vardict = file_read(\"vardict.txt\")\n",
    "vardict\n",
    "\n",
    "vardict[\"bears_with_6arms\"] = \"thirteen\"\n",
    "\n",
    "file_write(\"vardict2.txt\", vardict, overwrite=True)\n",
    "\n",
    "del vardict[\"bears_with_6arms\"]"
   ]
  },
  {
   "cell_type": "code",
   "execution_count": 216,
   "id": "34d70219-ecdd-4bfe-9392-bf7b971a9d34",
   "metadata": {},
   "outputs": [
    {
     "name": "stdout",
     "output_type": "stream",
     "text": [
      "789chessRookHeight = 45.327 does not follow formatting rules!\n"
     ]
    }
   ],
   "source": [
    "vardict[\"789chessRookHeight\"] = 45.327\n",
    "\n",
    "file_write(\"vardict2.txt\", vardict, overwrite=True)\n",
    "\n",
    "del vardict[\"789chessRookHeight\"]"
   ]
  },
  {
   "cell_type": "code",
   "execution_count": 217,
   "id": "75b668b9-c19b-430e-96e5-184123fdc638",
   "metadata": {},
   "outputs": [
    {
     "name": "stdout",
     "output_type": "stream",
     "text": [
      "__neightborHondaYear$% = 2009 does not follow formatting rules!\n"
     ]
    }
   ],
   "source": [
    "vardict[\"__neightborHondaYear$%\"] = 2009\n",
    "\n",
    "file_write(\"vardict2.txt\", vardict, overwrite=True)"
   ]
  }
 ],
 "metadata": {
  "kernelspec": {
   "display_name": "base",
   "language": "python",
   "name": "python3"
  },
  "language_info": {
   "codemirror_mode": {
    "name": "ipython",
    "version": 3
   },
   "file_extension": ".py",
   "mimetype": "text/x-python",
   "name": "python",
   "nbconvert_exporter": "python",
   "pygments_lexer": "ipython3",
   "version": "3.12.4"
  }
 },
 "nbformat": 4,
 "nbformat_minor": 5
}
